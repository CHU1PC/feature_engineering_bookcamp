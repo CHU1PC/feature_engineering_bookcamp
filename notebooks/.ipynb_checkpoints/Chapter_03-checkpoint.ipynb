{
 "cells": [
  {
   "cell_type": "code",
   "execution_count": 1,
   "id": "faced-moderator",
   "metadata": {},
   "outputs": [],
   "source": [
    "# run our base notebook"
   ]
  },
  {
   "cell_type": "code",
   "execution_count": 2,
   "id": "continuous-princess",
   "metadata": {},
   "outputs": [],
   "source": [
    "%run ./Base.ipynb"
   ]
  },
  {
   "cell_type": "code",
   "execution_count": null,
   "id": "double-valuation",
   "metadata": {},
   "outputs": [],
   "source": []
  },
  {
   "cell_type": "code",
   "execution_count": 3,
   "id": "latest-finger",
   "metadata": {},
   "outputs": [],
   "source": [
    "import pandas as pd\n",
    "\n",
    "covid_flu = pd.read_csv('../data/covid_flu.csv')"
   ]
  },
  {
   "cell_type": "code",
   "execution_count": 4,
   "id": "recreational-police",
   "metadata": {},
   "outputs": [],
   "source": [
    "# ##### TODO remove me\n",
    "# covid_flu = covid_flu[columns_to_keep]\n",
    "# covid_flu = covid_flu.replace({'pos ': 'Yes', 'Pos': 'Yes', 'pos': 'Yes', 'neg': 'No', 'Neg ': 'No', 'Neg': 'No', 'Yes ':'Yes', 'No ': 'No', 'None': None})\n",
    "# # covid_flu = covid_flu.drop(['CommunityTransmission'] + [c for c in covid_flu.columns if 'Categor' in c], axis=1)\n",
    "# covid_flu = covid_flu[~covid_flu['lymphocytes'].isin(['Low'])]\n",
    "# covid_flu.to_csv('../data/covid_flu.csv', index=False)"
   ]
  },
  {
   "cell_type": "code",
   "execution_count": 5,
   "id": "still-miami",
   "metadata": {},
   "outputs": [],
   "source": [
    "# Exploratory Data Analysis"
   ]
  },
  {
   "cell_type": "code",
   "execution_count": 6,
   "id": "equipped-cigarette",
   "metadata": {},
   "outputs": [
    {
     "data": {
      "text/html": [
       "<div>\n",
       "<style scoped>\n",
       "    .dataframe tbody tr th:only-of-type {\n",
       "        vertical-align: middle;\n",
       "    }\n",
       "\n",
       "    .dataframe tbody tr th {\n",
       "        vertical-align: top;\n",
       "    }\n",
       "\n",
       "    .dataframe thead th {\n",
       "        text-align: right;\n",
       "    }\n",
       "</style>\n",
       "<table border=\"1\" class=\"dataframe\">\n",
       "  <thead>\n",
       "    <tr style=\"text-align: right;\">\n",
       "      <th></th>\n",
       "      <th>Diagnosis</th>\n",
       "      <th>InitialPCRDiagnosis</th>\n",
       "      <th>Age</th>\n",
       "      <th>Sex</th>\n",
       "      <th>neutrophil</th>\n",
       "      <th>serumLevelsOfWhiteBloodCell</th>\n",
       "      <th>lymphocytes</th>\n",
       "      <th>CReactiveProteinLevels</th>\n",
       "      <th>DurationOfIllness</th>\n",
       "      <th>CTscanResults</th>\n",
       "      <th>RiskFactors</th>\n",
       "      <th>GroundGlassOpacity</th>\n",
       "      <th>Diarrhea</th>\n",
       "      <th>Fever</th>\n",
       "      <th>Coughing</th>\n",
       "      <th>ShortnessOfBreath</th>\n",
       "      <th>SoreThroat</th>\n",
       "      <th>NauseaVomitting</th>\n",
       "      <th>Temperature</th>\n",
       "      <th>Fatigue</th>\n",
       "    </tr>\n",
       "  </thead>\n",
       "  <tbody>\n",
       "    <tr>\n",
       "      <th>0</th>\n",
       "      <td>H1N1</td>\n",
       "      <td>NaN</td>\n",
       "      <td>67.0</td>\n",
       "      <td>F</td>\n",
       "      <td>NaN</td>\n",
       "      <td>NaN</td>\n",
       "      <td>NaN</td>\n",
       "      <td>NaN</td>\n",
       "      <td>NaN</td>\n",
       "      <td>NaN</td>\n",
       "      <td>NaN</td>\n",
       "      <td>NaN</td>\n",
       "      <td>NaN</td>\n",
       "      <td>Yes</td>\n",
       "      <td>Yes</td>\n",
       "      <td>NaN</td>\n",
       "      <td>No</td>\n",
       "      <td>NaN</td>\n",
       "      <td>38.111111</td>\n",
       "      <td>No</td>\n",
       "    </tr>\n",
       "    <tr>\n",
       "      <th>1</th>\n",
       "      <td>H1N1</td>\n",
       "      <td>NaN</td>\n",
       "      <td>29.0</td>\n",
       "      <td>M</td>\n",
       "      <td>NaN</td>\n",
       "      <td>NaN</td>\n",
       "      <td>NaN</td>\n",
       "      <td>NaN</td>\n",
       "      <td>NaN</td>\n",
       "      <td>NaN</td>\n",
       "      <td>NaN</td>\n",
       "      <td>NaN</td>\n",
       "      <td>NaN</td>\n",
       "      <td>NaN</td>\n",
       "      <td>NaN</td>\n",
       "      <td>NaN</td>\n",
       "      <td>NaN</td>\n",
       "      <td>NaN</td>\n",
       "      <td>NaN</td>\n",
       "      <td>NaN</td>\n",
       "    </tr>\n",
       "    <tr>\n",
       "      <th>2</th>\n",
       "      <td>H1N1</td>\n",
       "      <td>NaN</td>\n",
       "      <td>22.0</td>\n",
       "      <td>F</td>\n",
       "      <td>NaN</td>\n",
       "      <td>NaN</td>\n",
       "      <td>NaN</td>\n",
       "      <td>NaN</td>\n",
       "      <td>NaN</td>\n",
       "      <td>NaN</td>\n",
       "      <td>NaN</td>\n",
       "      <td>NaN</td>\n",
       "      <td>NaN</td>\n",
       "      <td>NaN</td>\n",
       "      <td>NaN</td>\n",
       "      <td>NaN</td>\n",
       "      <td>NaN</td>\n",
       "      <td>NaN</td>\n",
       "      <td>NaN</td>\n",
       "      <td>NaN</td>\n",
       "    </tr>\n",
       "    <tr>\n",
       "      <th>3</th>\n",
       "      <td>H1N1</td>\n",
       "      <td>NaN</td>\n",
       "      <td>20.0</td>\n",
       "      <td>F</td>\n",
       "      <td>NaN</td>\n",
       "      <td>NaN</td>\n",
       "      <td>NaN</td>\n",
       "      <td>NaN</td>\n",
       "      <td>NaN</td>\n",
       "      <td>NaN</td>\n",
       "      <td>immuno</td>\n",
       "      <td>NaN</td>\n",
       "      <td>NaN</td>\n",
       "      <td>Yes</td>\n",
       "      <td>Yes</td>\n",
       "      <td>NaN</td>\n",
       "      <td>No</td>\n",
       "      <td>NaN</td>\n",
       "      <td>36.555556</td>\n",
       "      <td>Yes</td>\n",
       "    </tr>\n",
       "    <tr>\n",
       "      <th>4</th>\n",
       "      <td>H1N1</td>\n",
       "      <td>NaN</td>\n",
       "      <td>21.0</td>\n",
       "      <td>M</td>\n",
       "      <td>NaN</td>\n",
       "      <td>NaN</td>\n",
       "      <td>NaN</td>\n",
       "      <td>NaN</td>\n",
       "      <td>NaN</td>\n",
       "      <td>NaN</td>\n",
       "      <td>NaN</td>\n",
       "      <td>NaN</td>\n",
       "      <td>NaN</td>\n",
       "      <td>NaN</td>\n",
       "      <td>NaN</td>\n",
       "      <td>NaN</td>\n",
       "      <td>NaN</td>\n",
       "      <td>NaN</td>\n",
       "      <td>NaN</td>\n",
       "      <td>NaN</td>\n",
       "    </tr>\n",
       "  </tbody>\n",
       "</table>\n",
       "</div>"
      ],
      "text/plain": [
       "  Diagnosis InitialPCRDiagnosis   Age Sex  neutrophil  \\\n",
       "0      H1N1                 NaN  67.0   F         NaN   \n",
       "1      H1N1                 NaN  29.0   M         NaN   \n",
       "2      H1N1                 NaN  22.0   F         NaN   \n",
       "3      H1N1                 NaN  20.0   F         NaN   \n",
       "4      H1N1                 NaN  21.0   M         NaN   \n",
       "\n",
       "   serumLevelsOfWhiteBloodCell  lymphocytes CReactiveProteinLevels  \\\n",
       "0                          NaN          NaN                    NaN   \n",
       "1                          NaN          NaN                    NaN   \n",
       "2                          NaN          NaN                    NaN   \n",
       "3                          NaN          NaN                    NaN   \n",
       "4                          NaN          NaN                    NaN   \n",
       "\n",
       "   DurationOfIllness CTscanResults RiskFactors GroundGlassOpacity Diarrhea  \\\n",
       "0                NaN           NaN         NaN                NaN      NaN   \n",
       "1                NaN           NaN         NaN                NaN      NaN   \n",
       "2                NaN           NaN         NaN                NaN      NaN   \n",
       "3                NaN           NaN      immuno                NaN      NaN   \n",
       "4                NaN           NaN         NaN                NaN      NaN   \n",
       "\n",
       "  Fever Coughing ShortnessOfBreath SoreThroat NauseaVomitting  Temperature  \\\n",
       "0   Yes      Yes               NaN         No             NaN    38.111111   \n",
       "1   NaN      NaN               NaN        NaN             NaN          NaN   \n",
       "2   NaN      NaN               NaN        NaN             NaN          NaN   \n",
       "3   Yes      Yes               NaN         No             NaN    36.555556   \n",
       "4   NaN      NaN               NaN        NaN             NaN          NaN   \n",
       "\n",
       "  Fatigue  \n",
       "0      No  \n",
       "1     NaN  \n",
       "2     NaN  \n",
       "3     Yes  \n",
       "4     NaN  "
      ]
     },
     "execution_count": 6,
     "metadata": {},
     "output_type": "execute_result"
    }
   ],
   "source": [
    "covid_flu.head()  # take a look at the first 5 rows"
   ]
  },
  {
   "cell_type": "code",
   "execution_count": 7,
   "id": "fewer-peace",
   "metadata": {},
   "outputs": [
    {
     "data": {
      "text/plain": [
       "(1482, 20)"
      ]
     },
     "execution_count": 7,
     "metadata": {},
     "output_type": "execute_result"
    }
   ],
   "source": [
    "covid_flu.shape  # 20 columns!"
   ]
  },
  {
   "cell_type": "code",
   "execution_count": 8,
   "id": "centered-captain",
   "metadata": {},
   "outputs": [
    {
     "data": {
      "text/plain": [
       "Diagnosis                      0.000000\n",
       "InitialPCRDiagnosis            0.929825\n",
       "Age                            0.018893\n",
       "Sex                            0.051282\n",
       "neutrophil                     0.930499\n",
       "serumLevelsOfWhiteBloodCell    0.898111\n",
       "lymphocytes                    0.894737\n",
       "CReactiveProteinLevels         0.907557\n",
       "DurationOfIllness              0.941296\n",
       "CTscanResults                  0.892713\n",
       "RiskFactors                    0.858974\n",
       "GroundGlassOpacity             0.937247\n",
       "Diarrhea                       0.696356\n",
       "Fever                          0.377193\n",
       "Coughing                       0.420378\n",
       "ShortnessOfBreath              0.949393\n",
       "SoreThroat                     0.547908\n",
       "NauseaVomitting                0.715924\n",
       "Temperature                    0.576248\n",
       "Fatigue                        0.641700\n",
       "dtype: float64"
      ]
     },
     "execution_count": 8,
     "metadata": {},
     "output_type": "execute_result"
    }
   ],
   "source": [
    "covid_flu.isnull().mean()  # percent of missing data in each column"
   ]
  },
  {
   "cell_type": "code",
   "execution_count": 9,
   "id": "initial-tissue",
   "metadata": {},
   "outputs": [
    {
     "data": {
      "text/plain": [
       "H1N1       0.723347\n",
       "COVID19    0.276653\n",
       "Name: Diagnosis, dtype: float64"
      ]
     },
     "execution_count": 9,
     "metadata": {},
     "output_type": "execute_result"
    }
   ],
   "source": [
    "covid_flu['Diagnosis'].value_counts(normalize=True)  # percent breakdown of response variable"
   ]
  },
  {
   "cell_type": "code",
   "execution_count": 10,
   "id": "collectible-injury",
   "metadata": {},
   "outputs": [
    {
     "name": "stdout",
     "output_type": "stream",
     "text": [
      "<class 'pandas.core.frame.DataFrame'>\n",
      "RangeIndex: 1482 entries, 0 to 1481\n",
      "Data columns (total 20 columns):\n",
      " #   Column                       Non-Null Count  Dtype  \n",
      "---  ------                       --------------  -----  \n",
      " 0   Diagnosis                    1482 non-null   object \n",
      " 1   InitialPCRDiagnosis          104 non-null    object \n",
      " 2   Age                          1454 non-null   float64\n",
      " 3   Sex                          1406 non-null   object \n",
      " 4   neutrophil                   103 non-null    float64\n",
      " 5   serumLevelsOfWhiteBloodCell  151 non-null    float64\n",
      " 6   lymphocytes                  156 non-null    float64\n",
      " 7   CReactiveProteinLevels       137 non-null    object \n",
      " 8   DurationOfIllness            87 non-null     float64\n",
      " 9   CTscanResults                159 non-null    object \n",
      " 10  RiskFactors                  209 non-null    object \n",
      " 11  GroundGlassOpacity           93 non-null     object \n",
      " 12  Diarrhea                     450 non-null    object \n",
      " 13  Fever                        923 non-null    object \n",
      " 14  Coughing                     859 non-null    object \n",
      " 15  ShortnessOfBreath            75 non-null     object \n",
      " 16  SoreThroat                   670 non-null    object \n",
      " 17  NauseaVomitting              421 non-null    object \n",
      " 18  Temperature                  628 non-null    float64\n",
      " 19  Fatigue                      531 non-null    object \n",
      "dtypes: float64(6), object(14)\n",
      "memory usage: 231.7+ KB\n"
     ]
    }
   ],
   "source": [
    "covid_flu.info()"
   ]
  },
  {
   "cell_type": "code",
   "execution_count": null,
   "id": "logical-douglas",
   "metadata": {},
   "outputs": [],
   "source": []
  },
  {
   "cell_type": "code",
   "execution_count": 11,
   "id": "departmental-pulse",
   "metadata": {},
   "outputs": [
    {
     "data": {
      "text/plain": [
       "['Age',\n",
       " 'neutrophil',\n",
       " 'serumLevelsOfWhiteBloodCell',\n",
       " 'lymphocytes',\n",
       " 'DurationOfIllness',\n",
       " 'Temperature']"
      ]
     },
     "execution_count": 11,
     "metadata": {},
     "output_type": "execute_result"
    }
   ],
   "source": [
    "numeric_types = ['float16', 'float32', 'float64', 'int16', 'int32', 'int64']  # the numeric types in Pandas\n",
    "\n",
    "numerical_columns = covid_flu.select_dtypes(include=numeric_types).columns.tolist()\n",
    "\n",
    "numerical_columns"
   ]
  },
  {
   "cell_type": "code",
   "execution_count": 12,
   "id": "lasting-gender",
   "metadata": {},
   "outputs": [
    {
     "name": "stdout",
     "output_type": "stream",
     "text": [
      "0   NaN\n",
      "1   NaN\n",
      "2   NaN\n",
      "3   NaN\n",
      "4   NaN\n",
      "Name: lymphocytes, dtype: float64\n",
      "\n",
      "\n",
      "Mean of Lymphocytes column is 1.8501538461538463\n",
      "\n",
      "\n",
      "[[1.85015385]\n",
      " [1.85015385]\n",
      " [1.85015385]\n",
      " [1.85015385]\n",
      " [1.85015385]]\n"
     ]
    }
   ],
   "source": [
    "from sklearn.impute import SimpleImputer  # sklearn class to impute missing data\n",
    "\n",
    "num_impute = SimpleImputer(strategy='mean')  # could be mean or median for numerical values\n",
    "\n",
    "print(covid_flu['lymphocytes'].head())  # show the first 5 values before imputing\n",
    "\n",
    "print(f\"\\n\\nMean of Lymphocytes column is {covid_flu['lymphocytes'].mean()}\\n\\n\")\n",
    "\n",
    "print(num_impute.fit_transform(covid_flu[['lymphocytes']])[:5])  # transforming turns the column into a numpy array"
   ]
  },
  {
   "cell_type": "code",
   "execution_count": 13,
   "id": "portable-level",
   "metadata": {},
   "outputs": [
    {
     "data": {
      "text/plain": [
       "array([[<AxesSubplot:title={'center':'lymphocytes'}>]], dtype=object)"
      ]
     },
     "execution_count": 13,
     "metadata": {},
     "output_type": "execute_result"
    },
    {
     "data": {
      "image/png": "[encoded data removed]",
      "text/plain": [
       "<Figure size 432x288 with 1 Axes>"
      ]
     },
     "metadata": {
      "needs_background": "light"
     },
     "output_type": "display_data"
    },
    {
     "data": {
      "image/png": "[encoded data removed]",
      "text/plain": [
       "<Figure size 432x288 with 1 Axes>"
      ]
     },
     "metadata": {
      "needs_background": "light"
     },
     "output_type": "display_data"
    }
   ],
   "source": [
    "# https://feature-engine.readthedocs.io\n",
    "from feature_engine.imputation import EndTailImputer\n",
    "\n",
    "covid_flu[['lymphocytes']].hist()\n",
    "\n",
    "EndTailImputer().fit_transform(covid_flu[['lymphocytes']]).hist()"
   ]
  },
  {
   "cell_type": "code",
   "execution_count": null,
   "id": "speaking-companion",
   "metadata": {},
   "outputs": [],
   "source": []
  },
  {
   "cell_type": "code",
   "execution_count": 14,
   "id": "foreign-petite",
   "metadata": {},
   "outputs": [
    {
     "name": "stdout",
     "output_type": "stream",
     "text": [
      "0    Yes\n",
      "1    NaN\n",
      "2    NaN\n",
      "3    Yes\n",
      "4    NaN\n",
      "Name: Coughing, dtype: object\n",
      "[['Yes']\n",
      " ['Yes']\n",
      " ['Yes']\n",
      " ['Yes']\n",
      " ['Yes']]\n"
     ]
    }
   ],
   "source": [
    "cat_impute = SimpleImputer(strategy='most_frequent')  # could be most_frequent or constant (arbitray) for categorical values\n",
    "\n",
    "print(covid_flu['Coughing'].head())\n",
    "\n",
    "print(cat_impute.fit_transform(covid_flu[['Coughing']])[:5])  # transforming turns the column into a numpy array"
   ]
  },
  {
   "cell_type": "code",
   "execution_count": null,
   "id": "removable-cruise",
   "metadata": {},
   "outputs": [],
   "source": []
  },
  {
   "cell_type": "code",
   "execution_count": null,
   "id": "ruled-horse",
   "metadata": {},
   "outputs": [],
   "source": []
  },
  {
   "cell_type": "code",
   "execution_count": null,
   "id": "informal-judges",
   "metadata": {},
   "outputs": [],
   "source": []
  },
  {
   "cell_type": "code",
   "execution_count": 15,
   "id": "steady-tonight",
   "metadata": {},
   "outputs": [
    {
     "data": {
      "text/plain": [
       "array([[<AxesSubplot:title={'center':'Age'}>,\n",
       "        <AxesSubplot:title={'center':'neutrophil'}>],\n",
       "       [<AxesSubplot:title={'center':'serumLevelsOfWhiteBloodCell'}>,\n",
       "        <AxesSubplot:title={'center':'lymphocytes'}>],\n",
       "       [<AxesSubplot:title={'center':'DurationOfIllness'}>,\n",
       "        <AxesSubplot:title={'center':'Temperature'}>]], dtype=object)"
      ]
     },
     "execution_count": 15,
     "metadata": {},
     "output_type": "execute_result"
    },
    {
     "data": {
      "image/png": "[encoded data removed]",
      "text/plain": [
       "<Figure size 1440x720 with 6 Axes>"
      ]
     },
     "metadata": {
      "needs_background": "light"
     },
     "output_type": "display_data"
    }
   ],
   "source": [
    "# looks like our numerical columns are hairly heavily right skewed\n",
    "\n",
    "covid_flu[numerical_columns].hist(figsize=(20, 10))  "
   ]
  },
  {
   "cell_type": "code",
   "execution_count": 16,
   "id": "corresponding-canyon",
   "metadata": {},
   "outputs": [
    {
     "data": {
      "text/plain": [
       "<AxesSubplot:>"
      ]
     },
     "execution_count": 16,
     "metadata": {},
     "output_type": "execute_result"
    },
    {
     "data": {
      "image/png": "[encoded data removed]",
      "text/plain": [
       "<Figure size 432x288 with 1 Axes>"
      ]
     },
     "metadata": {
      "needs_background": "light"
     },
     "output_type": "display_data"
    }
   ],
   "source": [
    "covid_flu['lymphocytes'].hist()  # before log transform"
   ]
  },
  {
   "cell_type": "code",
   "execution_count": 17,
   "id": "banned-elizabeth",
   "metadata": {},
   "outputs": [
    {
     "data": {
      "text/plain": [
       "<AxesSubplot:>"
      ]
     },
     "execution_count": 17,
     "metadata": {},
     "output_type": "execute_result"
    },
    {
     "data": {
      "image/png": "[encoded data removed]",
      "text/plain": [
       "<Figure size 432x288 with 1 Axes>"
      ]
     },
     "metadata": {
      "needs_background": "light"
     },
     "output_type": "display_data"
    }
   ],
   "source": [
    "covid_flu['lymphocytes'].map(np.log1p).hist()  # log transform of lymphocytes"
   ]
  },
  {
   "cell_type": "code",
   "execution_count": null,
   "id": "finite-drain",
   "metadata": {},
   "outputs": [],
   "source": []
  },
  {
   "cell_type": "code",
   "execution_count": 18,
   "id": "abstract-alloy",
   "metadata": {},
   "outputs": [],
   "source": [
    "# looks like Age may have some 0s in it which won't work with Box-Cox\n",
    "covid_flu[covid_flu['Age']==0].head(3)\n",
    "\n",
    "covid_flu['Age'] = covid_flu['Age'] + 0.01  # to make Age strictly positive"
   ]
  },
  {
   "cell_type": "code",
   "execution_count": 51,
   "id": "optical-intensity",
   "metadata": {},
   "outputs": [
    {
     "data": {
      "text/plain": [
       "array([[<AxesSubplot:title={'center':'Age'}>,\n",
       "        <AxesSubplot:title={'center':'neutrophil'}>],\n",
       "       [<AxesSubplot:title={'center':'serumLevelsOfWhiteBloodCell'}>,\n",
       "        <AxesSubplot:title={'center':'lymphocytes'}>],\n",
       "       [<AxesSubplot:title={'center':'DurationOfIllness'}>,\n",
       "        <AxesSubplot:title={'center':'Temperature'}>]], dtype=object)"
      ]
     },
     "execution_count": 51,
     "metadata": {},
     "output_type": "execute_result"
    },
    {
     "data": {
      "image/png": "[encoded data removed]",
      "text/plain": [
       "<Figure size 720x720 with 6 Axes>"
      ]
     },
     "metadata": {
      "needs_background": "light"
     },
     "output_type": "display_data"
    },
    {
     "data": {
      "image/png": "[encoded data removed]",
      "text/plain": [
       "<Figure size 720x720 with 6 Axes>"
      ]
     },
     "metadata": {
      "needs_background": "light"
     },
     "output_type": "display_data"
    }
   ],
   "source": [
    "from sklearn.preprocessing import PowerTransformer\n",
    "\n",
    "boxcox_transformer = PowerTransformer(method='box-cox', standardize=False)\n",
    "pd.DataFrame(covid_flu[numerical_columns]).hist(figsize=(10, 10))\n",
    "\n",
    "pd.DataFrame(\n",
    "    boxcox_transformer.fit_transform(covid_flu[numerical_columns]), \n",
    "    columns=numerical_columns\n",
    ").hist(figsize=(10, 10))"
   ]
  },
  {
   "cell_type": "code",
   "execution_count": null,
   "id": "young-fifth",
   "metadata": {},
   "outputs": [],
   "source": []
  },
  {
   "cell_type": "code",
   "execution_count": 20,
   "id": "consecutive-spyware",
   "metadata": {},
   "outputs": [
    {
     "data": {
      "text/plain": [
       "array([ 0.41035252, -0.22261792,  0.12473207, -0.24415703,  0.36376996,\n",
       "       -7.01162857])"
      ]
     },
     "execution_count": 20,
     "metadata": {},
     "output_type": "execute_result"
    }
   ],
   "source": [
    "boxcox_transformer.lambdas_"
   ]
  },
  {
   "cell_type": "code",
   "execution_count": 52,
   "id": "graduate-conference",
   "metadata": {},
   "outputs": [
    {
     "data": {
      "text/html": [
       "<div>\n",
       "<style scoped>\n",
       "    .dataframe tbody tr th:only-of-type {\n",
       "        vertical-align: middle;\n",
       "    }\n",
       "\n",
       "    .dataframe tbody tr th {\n",
       "        vertical-align: top;\n",
       "    }\n",
       "\n",
       "    .dataframe thead th {\n",
       "        text-align: right;\n",
       "    }\n",
       "</style>\n",
       "<table border=\"1\" class=\"dataframe\">\n",
       "  <thead>\n",
       "    <tr style=\"text-align: right;\">\n",
       "      <th></th>\n",
       "      <th>Age</th>\n",
       "      <th>neutrophil</th>\n",
       "      <th>serumLevelsOfWhiteBloodCell</th>\n",
       "      <th>lymphocytes</th>\n",
       "      <th>DurationOfIllness</th>\n",
       "      <th>Temperature</th>\n",
       "    </tr>\n",
       "  </thead>\n",
       "  <tbody>\n",
       "    <tr>\n",
       "      <th>count</th>\n",
       "      <td>1454.000000</td>\n",
       "      <td>103.000000</td>\n",
       "      <td>151.000000</td>\n",
       "      <td>156.000000</td>\n",
       "      <td>87.000000</td>\n",
       "      <td>628.000000</td>\n",
       "    </tr>\n",
       "    <tr>\n",
       "      <th>mean</th>\n",
       "      <td>26.481040</td>\n",
       "      <td>6.854078</td>\n",
       "      <td>6.885159</td>\n",
       "      <td>1.850154</td>\n",
       "      <td>13.988506</td>\n",
       "      <td>38.068312</td>\n",
       "    </tr>\n",
       "    <tr>\n",
       "      <th>std</th>\n",
       "      <td>21.487982</td>\n",
       "      <td>12.690131</td>\n",
       "      <td>4.346668</td>\n",
       "      <td>3.956668</td>\n",
       "      <td>9.043171</td>\n",
       "      <td>1.094468</td>\n",
       "    </tr>\n",
       "    <tr>\n",
       "      <th>min</th>\n",
       "      <td>0.010000</td>\n",
       "      <td>0.446000</td>\n",
       "      <td>0.500000</td>\n",
       "      <td>0.130000</td>\n",
       "      <td>1.000000</td>\n",
       "      <td>35.722222</td>\n",
       "    </tr>\n",
       "    <tr>\n",
       "      <th>25%</th>\n",
       "      <td>7.010000</td>\n",
       "      <td>2.160000</td>\n",
       "      <td>3.995000</td>\n",
       "      <td>0.637500</td>\n",
       "      <td>7.000000</td>\n",
       "      <td>37.222222</td>\n",
       "    </tr>\n",
       "    <tr>\n",
       "      <th>50%</th>\n",
       "      <td>24.010000</td>\n",
       "      <td>3.310000</td>\n",
       "      <td>5.690000</td>\n",
       "      <td>0.905500</td>\n",
       "      <td>12.000000</td>\n",
       "      <td>38.000000</td>\n",
       "    </tr>\n",
       "    <tr>\n",
       "      <th>75%</th>\n",
       "      <td>42.010000</td>\n",
       "      <td>6.645000</td>\n",
       "      <td>9.155000</td>\n",
       "      <td>1.605000</td>\n",
       "      <td>20.000000</td>\n",
       "      <td>38.722222</td>\n",
       "    </tr>\n",
       "    <tr>\n",
       "      <th>max</th>\n",
       "      <td>88.010000</td>\n",
       "      <td>93.000000</td>\n",
       "      <td>36.070000</td>\n",
       "      <td>30.600000</td>\n",
       "      <td>37.000000</td>\n",
       "      <td>42.222222</td>\n",
       "    </tr>\n",
       "  </tbody>\n",
       "</table>\n",
       "</div>"
      ],
      "text/plain": [
       "               Age  neutrophil  serumLevelsOfWhiteBloodCell  lymphocytes  \\\n",
       "count  1454.000000  103.000000                   151.000000   156.000000   \n",
       "mean     26.481040    6.854078                     6.885159     1.850154   \n",
       "std      21.487982   12.690131                     4.346668     3.956668   \n",
       "min       0.010000    0.446000                     0.500000     0.130000   \n",
       "25%       7.010000    2.160000                     3.995000     0.637500   \n",
       "50%      24.010000    3.310000                     5.690000     0.905500   \n",
       "75%      42.010000    6.645000                     9.155000     1.605000   \n",
       "max      88.010000   93.000000                    36.070000    30.600000   \n",
       "\n",
       "       DurationOfIllness  Temperature  \n",
       "count          87.000000   628.000000  \n",
       "mean           13.988506    38.068312  \n",
       "std             9.043171     1.094468  \n",
       "min             1.000000    35.722222  \n",
       "25%             7.000000    37.222222  \n",
       "50%            12.000000    38.000000  \n",
       "75%            20.000000    38.722222  \n",
       "max            37.000000    42.222222  "
      ]
     },
     "execution_count": 52,
     "metadata": {},
     "output_type": "execute_result"
    }
   ],
   "source": [
    "# before any transformations, scales are all over the place as are means and standard deviations\n",
    "covid_flu[numerical_columns].describe()   "
   ]
  },
  {
   "cell_type": "code",
   "execution_count": 66,
   "id": "billion-prediction",
   "metadata": {},
   "outputs": [
    {
     "data": {
      "text/plain": [
       "array([[<AxesSubplot:title={'center':'Age'}>,\n",
       "        <AxesSubplot:title={'center':'neutrophil'}>],\n",
       "       [<AxesSubplot:title={'center':'serumLevelsOfWhiteBloodCell'}>,\n",
       "        <AxesSubplot:title={'center':'lymphocytes'}>],\n",
       "       [<AxesSubplot:title={'center':'DurationOfIllness'}>,\n",
       "        <AxesSubplot:title={'center':'Temperature'}>]], dtype=object)"
      ]
     },
     "execution_count": 66,
     "metadata": {},
     "output_type": "execute_result"
    },
    {
     "data": {
      "image/png": "[encoded data removed]",
      "text/plain": [
       "<Figure size 432x288 with 6 Axes>"
      ]
     },
     "metadata": {
      "needs_background": "light"
     },
     "output_type": "display_data"
    }
   ],
   "source": [
    "covid_flu[numerical_columns].hist()"
   ]
  },
  {
   "cell_type": "code",
   "execution_count": 67,
   "id": "technical-compression",
   "metadata": {},
   "outputs": [
    {
     "data": {
      "text/plain": [
       "array([[<AxesSubplot:title={'center':'Age'}>,\n",
       "        <AxesSubplot:title={'center':'neutrophil'}>],\n",
       "       [<AxesSubplot:title={'center':'serumLevelsOfWhiteBloodCell'}>,\n",
       "        <AxesSubplot:title={'center':'lymphocytes'}>],\n",
       "       [<AxesSubplot:title={'center':'DurationOfIllness'}>,\n",
       "        <AxesSubplot:title={'center':'Temperature'}>]], dtype=object)"
      ]
     },
     "execution_count": 67,
     "metadata": {},
     "output_type": "execute_result"
    },
    {
     "data": {
      "image/png": "[encoded data removed]",
      "text/plain": [
       "<Figure size 432x288 with 6 Axes>"
      ]
     },
     "metadata": {
      "needs_background": "light"
     },
     "output_type": "display_data"
    }
   ],
   "source": [
    "pd.DataFrame(  # mean of 0 and std of 1 but ranges are different (see min and max)\n",
    "    MinMaxScaler().fit_transform(covid_flu[numerical_columns]),\n",
    "    columns=numerical_columns\n",
    ").hist()"
   ]
  },
  {
   "cell_type": "code",
   "execution_count": 55,
   "id": "considerable-newspaper",
   "metadata": {},
   "outputs": [
    {
     "data": {
      "text/html": [
       "<div>\n",
       "<style scoped>\n",
       "    .dataframe tbody tr th:only-of-type {\n",
       "        vertical-align: middle;\n",
       "    }\n",
       "\n",
       "    .dataframe tbody tr th {\n",
       "        vertical-align: top;\n",
       "    }\n",
       "\n",
       "    .dataframe thead th {\n",
       "        text-align: right;\n",
       "    }\n",
       "</style>\n",
       "<table border=\"1\" class=\"dataframe\">\n",
       "  <thead>\n",
       "    <tr style=\"text-align: right;\">\n",
       "      <th></th>\n",
       "      <th>Age</th>\n",
       "      <th>neutrophil</th>\n",
       "      <th>serumLevelsOfWhiteBloodCell</th>\n",
       "      <th>lymphocytes</th>\n",
       "      <th>DurationOfIllness</th>\n",
       "      <th>Temperature</th>\n",
       "    </tr>\n",
       "  </thead>\n",
       "  <tbody>\n",
       "    <tr>\n",
       "      <th>count</th>\n",
       "      <td>1.454000e+03</td>\n",
       "      <td>103.000000</td>\n",
       "      <td>1.510000e+02</td>\n",
       "      <td>1.560000e+02</td>\n",
       "      <td>8.700000e+01</td>\n",
       "      <td>6.280000e+02</td>\n",
       "    </tr>\n",
       "    <tr>\n",
       "      <th>mean</th>\n",
       "      <td>1.368308e-16</td>\n",
       "      <td>0.000000</td>\n",
       "      <td>-1.411674e-16</td>\n",
       "      <td>-1.708035e-17</td>\n",
       "      <td>-5.614921e-17</td>\n",
       "      <td>1.708471e-15</td>\n",
       "    </tr>\n",
       "    <tr>\n",
       "      <th>std</th>\n",
       "      <td>1.000344e+00</td>\n",
       "      <td>1.004890</td>\n",
       "      <td>1.003328e+00</td>\n",
       "      <td>1.003221e+00</td>\n",
       "      <td>1.005797e+00</td>\n",
       "      <td>1.000797e+00</td>\n",
       "    </tr>\n",
       "    <tr>\n",
       "      <th>min</th>\n",
       "      <td>-1.232324e+00</td>\n",
       "      <td>-0.507435</td>\n",
       "      <td>-1.473866e+00</td>\n",
       "      <td>-4.361482e-01</td>\n",
       "      <td>-1.444604e+00</td>\n",
       "      <td>-2.145299e+00</td>\n",
       "    </tr>\n",
       "    <tr>\n",
       "      <th>25%</th>\n",
       "      <td>-9.064480e-01</td>\n",
       "      <td>-0.371709</td>\n",
       "      <td>-6.671264e-01</td>\n",
       "      <td>-3.074706e-01</td>\n",
       "      <td>-7.772737e-01</td>\n",
       "      <td>-7.736770e-01</td>\n",
       "    </tr>\n",
       "    <tr>\n",
       "      <th>50%</th>\n",
       "      <td>-1.150359e-01</td>\n",
       "      <td>-0.280644</td>\n",
       "      <td>-2.758748e-01</td>\n",
       "      <td>-2.395187e-01</td>\n",
       "      <td>-2.211651e-01</td>\n",
       "      <td>-6.246559e-02</td>\n",
       "    </tr>\n",
       "    <tr>\n",
       "      <th>75%</th>\n",
       "      <td>7.229298e-01</td>\n",
       "      <td>-0.016556</td>\n",
       "      <td>5.239403e-01</td>\n",
       "      <td>-6.215921e-02</td>\n",
       "      <td>6.686088e-01</td>\n",
       "      <td>5.979450e-01</td>\n",
       "    </tr>\n",
       "    <tr>\n",
       "      <th>max</th>\n",
       "      <td>2.864398e+00</td>\n",
       "      <td>6.821614</td>\n",
       "      <td>6.736646e+00</td>\n",
       "      <td>7.289577e+00</td>\n",
       "      <td>2.559378e+00</td>\n",
       "      <td>3.798396e+00</td>\n",
       "    </tr>\n",
       "  </tbody>\n",
       "</table>\n",
       "</div>"
      ],
      "text/plain": [
       "                Age  neutrophil  serumLevelsOfWhiteBloodCell   lymphocytes  \\\n",
       "count  1.454000e+03  103.000000                 1.510000e+02  1.560000e+02   \n",
       "mean   1.368308e-16    0.000000                -1.411674e-16 -1.708035e-17   \n",
       "std    1.000344e+00    1.004890                 1.003328e+00  1.003221e+00   \n",
       "min   -1.232324e+00   -0.507435                -1.473866e+00 -4.361482e-01   \n",
       "25%   -9.064480e-01   -0.371709                -6.671264e-01 -3.074706e-01   \n",
       "50%   -1.150359e-01   -0.280644                -2.758748e-01 -2.395187e-01   \n",
       "75%    7.229298e-01   -0.016556                 5.239403e-01 -6.215921e-02   \n",
       "max    2.864398e+00    6.821614                 6.736646e+00  7.289577e+00   \n",
       "\n",
       "       DurationOfIllness   Temperature  \n",
       "count       8.700000e+01  6.280000e+02  \n",
       "mean       -5.614921e-17  1.708471e-15  \n",
       "std         1.005797e+00  1.000797e+00  \n",
       "min        -1.444604e+00 -2.145299e+00  \n",
       "25%        -7.772737e-01 -7.736770e-01  \n",
       "50%        -2.211651e-01 -6.246559e-02  \n",
       "75%         6.686088e-01  5.979450e-01  \n",
       "max         2.559378e+00  3.798396e+00  "
      ]
     },
     "execution_count": 55,
     "metadata": {},
     "output_type": "execute_result"
    }
   ],
   "source": [
    "from sklearn.preprocessing import StandardScaler, MinMaxScaler\n",
    "\n",
    "pd.DataFrame(  # mean of 0 and std of 1 but ranges are different (see min and max)\n",
    "    StandardScaler().fit_transform(covid_flu[numerical_columns]),\n",
    "    columns=numerical_columns\n",
    ").describe()"
   ]
  },
  {
   "cell_type": "code",
   "execution_count": 56,
   "id": "dirty-scout",
   "metadata": {},
   "outputs": [
    {
     "data": {
      "text/html": [
       "<div>\n",
       "<style scoped>\n",
       "    .dataframe tbody tr th:only-of-type {\n",
       "        vertical-align: middle;\n",
       "    }\n",
       "\n",
       "    .dataframe tbody tr th {\n",
       "        vertical-align: top;\n",
       "    }\n",
       "\n",
       "    .dataframe thead th {\n",
       "        text-align: right;\n",
       "    }\n",
       "</style>\n",
       "<table border=\"1\" class=\"dataframe\">\n",
       "  <thead>\n",
       "    <tr style=\"text-align: right;\">\n",
       "      <th></th>\n",
       "      <th>Age</th>\n",
       "      <th>neutrophil</th>\n",
       "      <th>serumLevelsOfWhiteBloodCell</th>\n",
       "      <th>lymphocytes</th>\n",
       "      <th>DurationOfIllness</th>\n",
       "      <th>Temperature</th>\n",
       "    </tr>\n",
       "  </thead>\n",
       "  <tbody>\n",
       "    <tr>\n",
       "      <th>count</th>\n",
       "      <td>1454.000000</td>\n",
       "      <td>103.000000</td>\n",
       "      <td>151.000000</td>\n",
       "      <td>156.000000</td>\n",
       "      <td>87.000000</td>\n",
       "      <td>628.000000</td>\n",
       "    </tr>\n",
       "    <tr>\n",
       "      <th>mean</th>\n",
       "      <td>0.300807</td>\n",
       "      <td>0.069236</td>\n",
       "      <td>0.179510</td>\n",
       "      <td>0.056454</td>\n",
       "      <td>0.360792</td>\n",
       "      <td>0.360937</td>\n",
       "    </tr>\n",
       "    <tr>\n",
       "      <th>std</th>\n",
       "      <td>0.244182</td>\n",
       "      <td>0.137111</td>\n",
       "      <td>0.122200</td>\n",
       "      <td>0.129855</td>\n",
       "      <td>0.251199</td>\n",
       "      <td>0.168380</td>\n",
       "    </tr>\n",
       "    <tr>\n",
       "      <th>min</th>\n",
       "      <td>0.000000</td>\n",
       "      <td>0.000000</td>\n",
       "      <td>0.000000</td>\n",
       "      <td>0.000000</td>\n",
       "      <td>0.000000</td>\n",
       "      <td>0.000000</td>\n",
       "    </tr>\n",
       "    <tr>\n",
       "      <th>25%</th>\n",
       "      <td>0.079545</td>\n",
       "      <td>0.018519</td>\n",
       "      <td>0.098257</td>\n",
       "      <td>0.016656</td>\n",
       "      <td>0.166667</td>\n",
       "      <td>0.230769</td>\n",
       "    </tr>\n",
       "    <tr>\n",
       "      <th>50%</th>\n",
       "      <td>0.272727</td>\n",
       "      <td>0.030944</td>\n",
       "      <td>0.145909</td>\n",
       "      <td>0.025451</td>\n",
       "      <td>0.305556</td>\n",
       "      <td>0.350427</td>\n",
       "    </tr>\n",
       "    <tr>\n",
       "      <th>75%</th>\n",
       "      <td>0.477273</td>\n",
       "      <td>0.066977</td>\n",
       "      <td>0.243323</td>\n",
       "      <td>0.048408</td>\n",
       "      <td>0.527778</td>\n",
       "      <td>0.461538</td>\n",
       "    </tr>\n",
       "    <tr>\n",
       "      <th>max</th>\n",
       "      <td>1.000000</td>\n",
       "      <td>1.000000</td>\n",
       "      <td>1.000000</td>\n",
       "      <td>1.000000</td>\n",
       "      <td>1.000000</td>\n",
       "      <td>1.000000</td>\n",
       "    </tr>\n",
       "  </tbody>\n",
       "</table>\n",
       "</div>"
      ],
      "text/plain": [
       "               Age  neutrophil  serumLevelsOfWhiteBloodCell  lymphocytes  \\\n",
       "count  1454.000000  103.000000                   151.000000   156.000000   \n",
       "mean      0.300807    0.069236                     0.179510     0.056454   \n",
       "std       0.244182    0.137111                     0.122200     0.129855   \n",
       "min       0.000000    0.000000                     0.000000     0.000000   \n",
       "25%       0.079545    0.018519                     0.098257     0.016656   \n",
       "50%       0.272727    0.030944                     0.145909     0.025451   \n",
       "75%       0.477273    0.066977                     0.243323     0.048408   \n",
       "max       1.000000    1.000000                     1.000000     1.000000   \n",
       "\n",
       "       DurationOfIllness  Temperature  \n",
       "count          87.000000   628.000000  \n",
       "mean            0.360792     0.360937  \n",
       "std             0.251199     0.168380  \n",
       "min             0.000000     0.000000  \n",
       "25%             0.166667     0.230769  \n",
       "50%             0.305556     0.350427  \n",
       "75%             0.527778     0.461538  \n",
       "max             1.000000     1.000000  "
      ]
     },
     "execution_count": 56,
     "metadata": {},
     "output_type": "execute_result"
    }
   ],
   "source": [
    "\n",
    "pd.DataFrame(  # mean and std are different but min and max are 0s and 1s\n",
    "    MinMaxScaler().fit_transform(covid_flu[numerical_columns]),\n",
    "    columns=numerical_columns\n",
    ").describe()"
   ]
  },
  {
   "cell_type": "code",
   "execution_count": null,
   "id": "bearing-burke",
   "metadata": {},
   "outputs": [],
   "source": []
  },
  {
   "cell_type": "code",
   "execution_count": null,
   "id": "speaking-nicholas",
   "metadata": {},
   "outputs": [],
   "source": []
  },
  {
   "cell_type": "code",
   "execution_count": 21,
   "id": "worldwide-turtle",
   "metadata": {},
   "outputs": [
    {
     "name": "stdout",
     "output_type": "stream",
     "text": [
      "=======\n",
      "InitialPCRDiagnosis\n",
      "=======\n",
      "NaN    1378\n",
      "Yes     100\n",
      "No        4\n",
      "Name: InitialPCRDiagnosis, dtype: int64\n",
      "=======\n",
      "Sex\n",
      "=======\n",
      "M      748\n",
      "F      658\n",
      "NaN     76\n",
      "Name: Sex, dtype: int64\n",
      "=======\n",
      "CReactiveProteinLevels\n",
      "=======\n",
      "NaN       1345\n",
      "8            3\n",
      "0.5          3\n",
      "15           3\n",
      "0.4          2\n",
      "          ... \n",
      "55.6         1\n",
      "67.62        1\n",
      "53.6         1\n",
      "217.17       1\n",
      "2.04         1\n",
      "Name: CReactiveProteinLevels, Length: 121, dtype: int64\n",
      "=======\n",
      "CTscanResults\n",
      "=======\n",
      "NaN    1323\n",
      "Yes     144\n",
      "No       15\n",
      "Name: CTscanResults, dtype: int64\n",
      "=======\n",
      "RiskFactors\n",
      "=======\n",
      "NaN                          1273\n",
      "asthma                         36\n",
      "pneumonia                      21\n",
      "immuno                         21\n",
      "diabetes                       16\n",
      "                             ... \n",
      "HepB                            1\n",
      "pneumonia                       1\n",
      "Hypertension and COPD           1\n",
      "asthma, chronic, diabetes       1\n",
      "Pre-eclampsia                   1\n",
      "Name: RiskFactors, Length: 64, dtype: int64\n",
      "=======\n",
      "GroundGlassOpacity\n",
      "=======\n",
      "NaN    1389\n",
      "Yes      90\n",
      "No        3\n",
      "Name: GroundGlassOpacity, dtype: int64\n",
      "=======\n",
      "Diarrhea\n",
      "=======\n",
      "NaN    1032\n",
      "No      340\n",
      "Yes     110\n",
      "Name: Diarrhea, dtype: int64\n",
      "=======\n",
      "Fever\n",
      "=======\n",
      "Yes    777\n",
      "NaN    559\n",
      "No     146\n",
      "Name: Fever, dtype: int64\n",
      "=======\n",
      "Coughing\n",
      "=======\n",
      "Yes    745\n",
      "NaN    623\n",
      "No     114\n",
      "Name: Coughing, dtype: int64\n",
      "=======\n",
      "ShortnessOfBreath\n",
      "=======\n",
      "NaN    1407\n",
      "Yes      45\n",
      "No       30\n",
      "Name: ShortnessOfBreath, dtype: int64\n",
      "=======\n",
      "SoreThroat\n",
      "=======\n",
      "NaN    812\n",
      "Yes    407\n",
      "No     263\n",
      "Name: SoreThroat, dtype: int64\n",
      "=======\n",
      "NauseaVomitting\n",
      "=======\n",
      "NaN    1061\n",
      "No      319\n",
      "Yes     102\n",
      "Name: NauseaVomitting, dtype: int64\n",
      "=======\n",
      "Fatigue\n",
      "=======\n",
      "NaN    951\n",
      "Yes    348\n",
      "No     183\n",
      "Name: Fatigue, dtype: int64\n"
     ]
    }
   ],
   "source": [
    "categorical_types = ['O']  # Just the \"object\" type\n",
    "\n",
    "categorical_columns = covid_flu.select_dtypes(include=categorical_types).columns.tolist()\n",
    "\n",
    "categorical_columns.remove('Diagnosis')  # our response variable\n",
    "\n",
    "for categorical_column in categorical_columns:\n",
    "    print('=======')\n",
    "    print(categorical_column)\n",
    "    print('=======')\n",
    "    print(covid_flu[categorical_column].value_counts(dropna=False))\n",
    "    "
   ]
  },
  {
   "cell_type": "code",
   "execution_count": 22,
   "id": "suspended-abuse",
   "metadata": {},
   "outputs": [],
   "source": [
    "# Turn our Sex column into a binary column\n",
    "covid_flu['Female'] = covid_flu['Sex'] == 'F'\n",
    "del covid_flu['Sex']"
   ]
  },
  {
   "cell_type": "code",
   "execution_count": 23,
   "id": "stupid-omaha",
   "metadata": {},
   "outputs": [
    {
     "data": {
      "text/html": [
       "<div>\n",
       "<style scoped>\n",
       "    .dataframe tbody tr th:only-of-type {\n",
       "        vertical-align: middle;\n",
       "    }\n",
       "\n",
       "    .dataframe tbody tr th {\n",
       "        vertical-align: top;\n",
       "    }\n",
       "\n",
       "    .dataframe thead th {\n",
       "        text-align: right;\n",
       "    }\n",
       "</style>\n",
       "<table border=\"1\" class=\"dataframe\">\n",
       "  <thead>\n",
       "    <tr style=\"text-align: right;\">\n",
       "      <th></th>\n",
       "      <th>Diagnosis</th>\n",
       "      <th>InitialPCRDiagnosis</th>\n",
       "      <th>Age</th>\n",
       "      <th>neutrophil</th>\n",
       "      <th>serumLevelsOfWhiteBloodCell</th>\n",
       "      <th>lymphocytes</th>\n",
       "      <th>CReactiveProteinLevels</th>\n",
       "      <th>DurationOfIllness</th>\n",
       "      <th>CTscanResults</th>\n",
       "      <th>RiskFactors</th>\n",
       "      <th>GroundGlassOpacity</th>\n",
       "      <th>Diarrhea</th>\n",
       "      <th>Fever</th>\n",
       "      <th>Coughing</th>\n",
       "      <th>ShortnessOfBreath</th>\n",
       "      <th>SoreThroat</th>\n",
       "      <th>NauseaVomitting</th>\n",
       "      <th>Temperature</th>\n",
       "      <th>Fatigue</th>\n",
       "      <th>Female</th>\n",
       "    </tr>\n",
       "  </thead>\n",
       "  <tbody>\n",
       "    <tr>\n",
       "      <th>0</th>\n",
       "      <td>H1N1</td>\n",
       "      <td>NaN</td>\n",
       "      <td>67.01</td>\n",
       "      <td>NaN</td>\n",
       "      <td>NaN</td>\n",
       "      <td>NaN</td>\n",
       "      <td>NaN</td>\n",
       "      <td>NaN</td>\n",
       "      <td>NaN</td>\n",
       "      <td>NaN</td>\n",
       "      <td>NaN</td>\n",
       "      <td>NaN</td>\n",
       "      <td>True</td>\n",
       "      <td>True</td>\n",
       "      <td>NaN</td>\n",
       "      <td>False</td>\n",
       "      <td>NaN</td>\n",
       "      <td>38.111111</td>\n",
       "      <td>False</td>\n",
       "      <td>True</td>\n",
       "    </tr>\n",
       "    <tr>\n",
       "      <th>1</th>\n",
       "      <td>H1N1</td>\n",
       "      <td>NaN</td>\n",
       "      <td>29.01</td>\n",
       "      <td>NaN</td>\n",
       "      <td>NaN</td>\n",
       "      <td>NaN</td>\n",
       "      <td>NaN</td>\n",
       "      <td>NaN</td>\n",
       "      <td>NaN</td>\n",
       "      <td>NaN</td>\n",
       "      <td>NaN</td>\n",
       "      <td>NaN</td>\n",
       "      <td>NaN</td>\n",
       "      <td>NaN</td>\n",
       "      <td>NaN</td>\n",
       "      <td>NaN</td>\n",
       "      <td>NaN</td>\n",
       "      <td>NaN</td>\n",
       "      <td>NaN</td>\n",
       "      <td>False</td>\n",
       "    </tr>\n",
       "    <tr>\n",
       "      <th>2</th>\n",
       "      <td>H1N1</td>\n",
       "      <td>NaN</td>\n",
       "      <td>22.01</td>\n",
       "      <td>NaN</td>\n",
       "      <td>NaN</td>\n",
       "      <td>NaN</td>\n",
       "      <td>NaN</td>\n",
       "      <td>NaN</td>\n",
       "      <td>NaN</td>\n",
       "      <td>NaN</td>\n",
       "      <td>NaN</td>\n",
       "      <td>NaN</td>\n",
       "      <td>NaN</td>\n",
       "      <td>NaN</td>\n",
       "      <td>NaN</td>\n",
       "      <td>NaN</td>\n",
       "      <td>NaN</td>\n",
       "      <td>NaN</td>\n",
       "      <td>NaN</td>\n",
       "      <td>True</td>\n",
       "    </tr>\n",
       "  </tbody>\n",
       "</table>\n",
       "</div>"
      ],
      "text/plain": [
       "  Diagnosis InitialPCRDiagnosis    Age  neutrophil  \\\n",
       "0      H1N1                 NaN  67.01         NaN   \n",
       "1      H1N1                 NaN  29.01         NaN   \n",
       "2      H1N1                 NaN  22.01         NaN   \n",
       "\n",
       "   serumLevelsOfWhiteBloodCell  lymphocytes CReactiveProteinLevels  \\\n",
       "0                          NaN          NaN                    NaN   \n",
       "1                          NaN          NaN                    NaN   \n",
       "2                          NaN          NaN                    NaN   \n",
       "\n",
       "   DurationOfIllness CTscanResults RiskFactors GroundGlassOpacity Diarrhea  \\\n",
       "0                NaN           NaN         NaN                NaN      NaN   \n",
       "1                NaN           NaN         NaN                NaN      NaN   \n",
       "2                NaN           NaN         NaN                NaN      NaN   \n",
       "\n",
       "  Fever Coughing ShortnessOfBreath SoreThroat NauseaVomitting  Temperature  \\\n",
       "0  True     True               NaN      False             NaN    38.111111   \n",
       "1   NaN      NaN               NaN        NaN             NaN          NaN   \n",
       "2   NaN      NaN               NaN        NaN             NaN          NaN   \n",
       "\n",
       "  Fatigue  Female  \n",
       "0   False    True  \n",
       "1     NaN   False  \n",
       "2     NaN    True  "
      ]
     },
     "execution_count": 23,
     "metadata": {},
     "output_type": "execute_result"
    }
   ],
   "source": [
    "covid_flu = covid_flu.replace({'Yes': True, 'No': False})  # replace yes and  no with True / False\n",
    "\n",
    "covid_flu.head(3)"
   ]
  },
  {
   "cell_type": "code",
   "execution_count": 24,
   "id": "hybrid-photography",
   "metadata": {},
   "outputs": [],
   "source": [
    "binary_features = [\n",
    "    'Female', 'GroundGlassOpacity', 'CTscanResults', 'Diarrhea', 'Fever', 'Coughing', 'SoreThroat', 'NauseaVomitting', 'Fatigue', 'InitialPCRDiagnosis'\n",
    "]"
   ]
  },
  {
   "cell_type": "code",
   "execution_count": 25,
   "id": "electric-might",
   "metadata": {},
   "outputs": [
    {
     "data": {
      "text/plain": [
       "Diarrhea           0.696356\n",
       "Fever              0.377193\n",
       "Coughing           0.420378\n",
       "SoreThroat         0.547908\n",
       "NauseaVomitting    0.715924\n",
       "Fatigue            0.641700\n",
       "dtype: float64"
      ]
     },
     "execution_count": 25,
     "metadata": {},
     "output_type": "execute_result"
    }
   ],
   "source": [
    "# percent of missing data in Flu-like symptom \n",
    "covid_flu[['Diarrhea', 'Fever', 'Coughing', 'SoreThroat', 'NauseaVomitting', 'Fatigue']].isnull().mean()"
   ]
  },
  {
   "cell_type": "code",
   "execution_count": 26,
   "id": "wooden-lambda",
   "metadata": {},
   "outputs": [
    {
     "name": "stdout",
     "output_type": "stream",
     "text": [
      "False    753\n",
      "True     729\n",
      "Name: FluSymptoms, dtype: int64\n",
      "0\n"
     ]
    }
   ],
   "source": [
    "# construct a new categorical column that is an amalgamation of several flu symptoms\n",
    "covid_flu['FluSymptoms'] = covid_flu[['Diarrhea', 'Fever', 'Coughing', 'SoreThroat', 'NauseaVomitting', 'Fatigue']].sum(axis=1) >= 2\n",
    "\n",
    "print(covid_flu['FluSymptoms'].value_counts())\n",
    "\n",
    "print(covid_flu['FluSymptoms'].isnull().sum())  # no missing values\n",
    "\n",
    "binary_features.append('FluSymptoms')"
   ]
  },
  {
   "cell_type": "code",
   "execution_count": 27,
   "id": "active-victorian",
   "metadata": {},
   "outputs": [],
   "source": [
    "# A custom data transformer to deal with our messy risk factor column\n",
    "\n",
    "from sklearn.base import BaseEstimator,TransformerMixin\n",
    "from sklearn.preprocessing import MultiLabelBinarizer  # easy class to make dummy variables\n",
    "from functools import reduce\n",
    "\n",
    "class DummifyRiskFactor(BaseEstimator,TransformerMixin):\n",
    "    def __init__(self):\n",
    "        self.label_binarizer = None\n",
    "        \n",
    "    def parse_risk_factors(self, comma_sep_factors):\n",
    "        ''' asthma,heart disease -> ['asthma', 'heart disease'] '''\n",
    "        try:\n",
    "            return [s.strip().lower() for s in comma_sep_factors.split(',')]\n",
    "        except:\n",
    "            return []\n",
    "    \n",
    "    def fit(self, X, y=None):\n",
    "        self.label_binarizer = MultiLabelBinarizer()\n",
    "        self.label_binarizer.fit(X.apply(self.parse_risk_factors))  # create dummy variable for each risk factor\n",
    "        return self\n",
    "    \n",
    "    def transform(self, X, y=None):\n",
    "        return self.label_binarizer.transform(X.apply(self.parse_risk_factors))"
   ]
  },
  {
   "cell_type": "code",
   "execution_count": 28,
   "id": "changing-health",
   "metadata": {},
   "outputs": [
    {
     "name": "stdout",
     "output_type": "stream",
     "text": [
      "(1482, 41)\n"
     ]
    },
    {
     "data": {
      "text/plain": [
       "array([[0, 0, 0, ..., 0, 0, 0],\n",
       "       [0, 0, 0, ..., 0, 0, 0],\n",
       "       [0, 0, 0, ..., 0, 0, 0],\n",
       "       ...,\n",
       "       [0, 0, 0, ..., 0, 0, 0],\n",
       "       [0, 0, 0, ..., 0, 0, 0],\n",
       "       [0, 0, 0, ..., 0, 0, 0]])"
      ]
     },
     "execution_count": 28,
     "metadata": {},
     "output_type": "execute_result"
    }
   ],
   "source": [
    "risks = DummifyRiskFactor().fit_transform(covid_flu['RiskFactors'])\n",
    "\n",
    "print(risks.shape)\n",
    "\n",
    "risks"
   ]
  },
  {
   "cell_type": "code",
   "execution_count": null,
   "id": "united-missouri",
   "metadata": {},
   "outputs": [],
   "source": []
  },
  {
   "cell_type": "code",
   "execution_count": 29,
   "id": "alert-furniture",
   "metadata": {},
   "outputs": [],
   "source": [
    "X, y = covid_flu.drop(['Diagnosis'], axis=1), covid_flu['Diagnosis']"
   ]
  },
  {
   "cell_type": "code",
   "execution_count": 30,
   "id": "acquired-ecuador",
   "metadata": {},
   "outputs": [],
   "source": [
    "from sklearn.model_selection import train_test_split\n",
    "\n",
    "x_train, x_test, y_train, y_test = train_test_split(\n",
    "    X, y, stratify=y, random_state=0, test_size=.2\n",
    ")"
   ]
  },
  {
   "cell_type": "code",
   "execution_count": 31,
   "id": "current-tuition",
   "metadata": {},
   "outputs": [
    {
     "data": {
      "text/plain": [
       "H1N1       0.723207\n",
       "COVID19    0.276793\n",
       "Name: Diagnosis, dtype: float64"
      ]
     },
     "execution_count": 31,
     "metadata": {},
     "output_type": "execute_result"
    }
   ],
   "source": [
    "y_train.value_counts(normalize=True)"
   ]
  },
  {
   "cell_type": "code",
   "execution_count": 32,
   "id": "activated-tours",
   "metadata": {},
   "outputs": [
    {
     "data": {
      "text/plain": [
       "H1N1       0.723906\n",
       "COVID19    0.276094\n",
       "Name: Diagnosis, dtype: float64"
      ]
     },
     "execution_count": 32,
     "metadata": {},
     "output_type": "execute_result"
    }
   ],
   "source": [
    "y_test.value_counts(normalize=True)"
   ]
  },
  {
   "cell_type": "code",
   "execution_count": 33,
   "id": "aerial-diploma",
   "metadata": {},
   "outputs": [],
   "source": [
    "from sklearn.pipeline import Pipeline, FeatureUnion\n"
   ]
  },
  {
   "cell_type": "code",
   "execution_count": 34,
   "id": "complex-screw",
   "metadata": {},
   "outputs": [],
   "source": [
    "from sklearn.preprocessing import FunctionTransformer\n",
    "\n",
    "# deal with risk factors\n",
    "\n",
    "risk_factor_pipeline = Pipeline(\n",
    "    [\n",
    "        ('select_and_parse_risk_factor', FunctionTransformer(lambda df: df['RiskFactors'])),\n",
    "        ('dummify', DummifyRiskFactor())\n",
    "    ]\n",
    ")\n",
    "\n",
    "# deal with binary columns\n",
    "\n",
    "binary_pipeline = Pipeline(\n",
    "    [\n",
    "        ('select_categorical_features', FunctionTransformer(lambda df: df[binary_features])),\n",
    "        ('fillna', SimpleImputer(strategy='constant', fill_value=False))  # assume missing values are not present\n",
    "    ]\n",
    ")\n",
    "\n",
    "# deal with numerical columns\n",
    "\n",
    "numerical_pipeline = Pipeline(\n",
    "    [\n",
    "        ('select_numerical_features', FunctionTransformer(lambda df: df[numerical_columns])),\n",
    "        ('impute', SimpleImputer(strategy='median')),\n",
    "    ]\n",
    ")"
   ]
  },
  {
   "cell_type": "code",
   "execution_count": 35,
   "id": "coordinate-picture",
   "metadata": {},
   "outputs": [
    {
     "name": "stdout",
     "output_type": "stream",
     "text": [
      "Parsing took 0.01 seconds\n",
      "Training took 8.10 seconds\n",
      "              precision    recall  f1-score   support\n",
      "\n",
      "     COVID19       0.76      0.70      0.73        82\n",
      "        H1N1       0.89      0.92      0.90       215\n",
      "\n",
      "    accuracy                           0.86       297\n",
      "   macro avg       0.82      0.81      0.81       297\n",
      "weighted avg       0.85      0.86      0.85       297\n",
      "\n",
      "Overall took 8.12 seconds\n"
     ]
    },
    {
     "data": {
      "text/plain": [
       "ExtraTreesClassifier()"
      ]
     },
     "execution_count": 35,
     "metadata": {},
     "output_type": "execute_result"
    }
   ],
   "source": [
    "# only using numerical values has a great precision on COVID class but awful recall..\n",
    "simple_grid_search(x_train, y_train, x_test, y_test, numerical_pipeline)"
   ]
  },
  {
   "cell_type": "code",
   "execution_count": 36,
   "id": "oriented-assurance",
   "metadata": {},
   "outputs": [
    {
     "name": "stdout",
     "output_type": "stream",
     "text": [
      "Parsing took 0.01 seconds\n"
     ]
    },
    {
     "name": "stderr",
     "output_type": "stream",
     "text": [
      "/usr/local/lib/python3.9/site-packages/sklearn/preprocessing/_label.py:860: UserWarning: unknown class(es) ['atopic dermatitis and repetitive respiratory infections', 'begin tumor (removed)', 'chronic liver disorder', 'chronic neurological disorders', 'fatty liver', 'hypertention', 'lung disease', 'pneumomediastinum and subcutaneous emphysema', 'rheumatoid arthritis'] will be ignored\n",
      "  warnings.warn('unknown class(es) {0} will be ignored'\n"
     ]
    },
    {
     "name": "stdout",
     "output_type": "stream",
     "text": [
      "Training took 7.51 seconds\n",
      "              precision    recall  f1-score   support\n",
      "\n",
      "     COVID19       0.73      0.10      0.17        82\n",
      "        H1N1       0.74      0.99      0.85       215\n",
      "\n",
      "    accuracy                           0.74       297\n",
      "   macro avg       0.73      0.54      0.51       297\n",
      "weighted avg       0.74      0.74      0.66       297\n",
      "\n",
      "Overall took 7.52 seconds\n"
     ]
    },
    {
     "data": {
      "text/plain": [
       "ExtraTreesClassifier(n_estimators=10)"
      ]
     },
     "execution_count": 36,
     "metadata": {},
     "output_type": "execute_result"
    }
   ],
   "source": [
    "# only using risk factors has 100% precision of COVID but only 7% recall\n",
    "simple_grid_search(x_train, y_train, x_test, y_test, risk_factor_pipeline)"
   ]
  },
  {
   "cell_type": "code",
   "execution_count": 37,
   "id": "timely-airline",
   "metadata": {},
   "outputs": [
    {
     "name": "stdout",
     "output_type": "stream",
     "text": [
      "Parsing took 0.01 seconds\n",
      "Training took 7.64 seconds\n",
      "              precision    recall  f1-score   support\n",
      "\n",
      "     COVID19       0.79      0.60      0.68        82\n",
      "        H1N1       0.86      0.94      0.90       215\n",
      "\n",
      "    accuracy                           0.85       297\n",
      "   macro avg       0.82      0.77      0.79       297\n",
      "weighted avg       0.84      0.85      0.84       297\n",
      "\n",
      "Overall took 7.66 seconds\n"
     ]
    },
    {
     "data": {
      "text/plain": [
       "ExtraTreesClassifier(criterion='entropy', max_depth=10)"
      ]
     },
     "execution_count": 37,
     "metadata": {},
     "output_type": "execute_result"
    }
   ],
   "source": [
    "# only using binary columns is also not performing well\n",
    "simple_grid_search(x_train, y_train, x_test, y_test, binary_pipeline)"
   ]
  },
  {
   "cell_type": "code",
   "execution_count": null,
   "id": "union-anaheim",
   "metadata": {},
   "outputs": [],
   "source": []
  },
  {
   "cell_type": "code",
   "execution_count": 38,
   "id": "inappropriate-minute",
   "metadata": {},
   "outputs": [
    {
     "name": "stdout",
     "output_type": "stream",
     "text": [
      "Parsing took 0.02 seconds\n"
     ]
    },
    {
     "name": "stderr",
     "output_type": "stream",
     "text": [
      "/usr/local/lib/python3.9/site-packages/sklearn/preprocessing/_label.py:860: UserWarning: unknown class(es) ['atopic dermatitis and repetitive respiratory infections', 'begin tumor (removed)', 'chronic liver disorder', 'chronic neurological disorders', 'fatty liver', 'hypertention', 'lung disease', 'pneumomediastinum and subcutaneous emphysema', 'rheumatoid arthritis'] will be ignored\n",
      "  warnings.warn('unknown class(es) {0} will be ignored'\n"
     ]
    },
    {
     "name": "stdout",
     "output_type": "stream",
     "text": [
      "Training took 8.62 seconds\n",
      "              precision    recall  f1-score   support\n",
      "\n",
      "     COVID19       0.85      0.87      0.86        82\n",
      "        H1N1       0.95      0.94      0.94       215\n",
      "\n",
      "    accuracy                           0.92       297\n",
      "   macro avg       0.90      0.90      0.90       297\n",
      "weighted avg       0.92      0.92      0.92       297\n",
      "\n",
      "Overall took 8.64 seconds\n"
     ]
    }
   ],
   "source": [
    "# Use our cross-validation function to show the best classification report (best == highest test set accuracy)\n",
    "# We  will use this as a baseline performance indicator for our next feature engineering attempts\n",
    "\n",
    "simple_fe = FeatureUnion([  # put all of our features together\n",
    "    ('risk_factors', risk_factor_pipeline),\n",
    "    ('binary_pipeline', binary_pipeline),\n",
    "    ('numerical_pipeline', numerical_pipeline)\n",
    "])\n",
    "\n",
    "simple_fe.fit_transform(x_train, y_train).shape\n",
    "\n",
    "best_model = simple_grid_search(x_train, y_train, x_test, y_test, simple_fe)"
   ]
  },
  {
   "cell_type": "code",
   "execution_count": 39,
   "id": "nervous-possession",
   "metadata": {},
   "outputs": [
    {
     "name": "stdout",
     "output_type": "stream",
     "text": [
      "Parsing took 0.02 seconds\n"
     ]
    },
    {
     "name": "stderr",
     "output_type": "stream",
     "text": [
      "/usr/local/lib/python3.9/site-packages/sklearn/preprocessing/_label.py:860: UserWarning: unknown class(es) ['atopic dermatitis and repetitive respiratory infections', 'begin tumor (removed)', 'chronic liver disorder', 'chronic neurological disorders', 'fatty liver', 'hypertention', 'lung disease', 'pneumomediastinum and subcutaneous emphysema', 'rheumatoid arthritis'] will be ignored\n",
      "  warnings.warn('unknown class(es) {0} will be ignored'\n"
     ]
    },
    {
     "name": "stdout",
     "output_type": "stream",
     "text": [
      "Training took 9.76 seconds\n",
      "              precision    recall  f1-score   support\n",
      "\n",
      "     COVID19       0.85      0.85      0.85        82\n",
      "        H1N1       0.94      0.94      0.94       215\n",
      "\n",
      "    accuracy                           0.92       297\n",
      "   macro avg       0.90      0.90      0.90       297\n",
      "weighted avg       0.92      0.92      0.92       297\n",
      "\n",
      "Overall took 9.86 seconds\n"
     ]
    }
   ],
   "source": [
    "numerical_pipeline = Pipeline(\n",
    "    [\n",
    "        ('select_numerical_features', FunctionTransformer(lambda df: df[numerical_columns])),\n",
    "        ('impute', SimpleImputer(strategy='mean')),  # try mean instead of median\n",
    "        ('scale', StandardScaler())  # scale our numerical features\n",
    "\n",
    "    ]\n",
    ")\n",
    "\n",
    "simple_fe = FeatureUnion([\n",
    "    ('risk_factors', risk_factor_pipeline),\n",
    "    ('binary_pipeline', binary_pipeline),\n",
    "    ('numerical_pipeline', numerical_pipeline)\n",
    "])\n",
    "\n",
    "# gained some precision for the COVID class\n",
    "best_model = simple_grid_search(x_train, y_train, x_test, y_test, simple_fe)"
   ]
  },
  {
   "cell_type": "code",
   "execution_count": 40,
   "id": "unable-worth",
   "metadata": {},
   "outputs": [
    {
     "name": "stdout",
     "output_type": "stream",
     "text": [
      "Parsing took 0.02 seconds\n"
     ]
    },
    {
     "name": "stderr",
     "output_type": "stream",
     "text": [
      "/usr/local/lib/python3.9/site-packages/sklearn/preprocessing/_label.py:860: UserWarning: unknown class(es) ['atopic dermatitis and repetitive respiratory infections', 'begin tumor (removed)', 'chronic liver disorder', 'chronic neurological disorders', 'fatty liver', 'hypertention', 'lung disease', 'pneumomediastinum and subcutaneous emphysema', 'rheumatoid arthritis'] will be ignored\n",
      "  warnings.warn('unknown class(es) {0} will be ignored'\n"
     ]
    },
    {
     "name": "stdout",
     "output_type": "stream",
     "text": [
      "Training took 8.90 seconds\n",
      "              precision    recall  f1-score   support\n",
      "\n",
      "     COVID19       0.88      0.88      0.88        82\n",
      "        H1N1       0.95      0.95      0.95       215\n",
      "\n",
      "    accuracy                           0.93       297\n",
      "   macro avg       0.92      0.92      0.92       297\n",
      "weighted avg       0.93      0.93      0.93       297\n",
      "\n",
      "Overall took 8.92 seconds\n"
     ]
    }
   ],
   "source": [
    "numerical_pipeline = Pipeline(\n",
    "    [\n",
    "        ('select_numerical_features', FunctionTransformer(lambda df: df[numerical_columns])),\n",
    "        ('impute', SimpleImputer(strategy='constant', fill_value=999)),  # try a constant 999\n",
    "        ('scale', StandardScaler())\n",
    "\n",
    "    ]\n",
    ")\n",
    "\n",
    "simple_fe = FeatureUnion([\n",
    "    ('risk_factors', risk_factor_pipeline),\n",
    "    ('binary_pipeline', binary_pipeline),\n",
    "    ('numerical_pipeline', numerical_pipeline)\n",
    "])\n",
    "\n",
    "# gained some precision for the COVID class\n",
    "best_model = simple_grid_search(x_train, y_train, x_test, y_test, simple_fe)"
   ]
  },
  {
   "cell_type": "code",
   "execution_count": null,
   "id": "choice-transmission",
   "metadata": {},
   "outputs": [],
   "source": []
  },
  {
   "cell_type": "code",
   "execution_count": 41,
   "id": "solid-paste",
   "metadata": {},
   "outputs": [
    {
     "name": "stdout",
     "output_type": "stream",
     "text": [
      "Parsing took 0.04 seconds\n"
     ]
    },
    {
     "name": "stderr",
     "output_type": "stream",
     "text": [
      "/usr/local/lib/python3.9/site-packages/sklearn/preprocessing/_label.py:860: UserWarning: unknown class(es) ['atopic dermatitis and repetitive respiratory infections', 'begin tumor (removed)', 'chronic liver disorder', 'chronic neurological disorders', 'fatty liver', 'hypertention', 'lung disease', 'pneumomediastinum and subcutaneous emphysema', 'rheumatoid arthritis'] will be ignored\n",
      "  warnings.warn('unknown class(es) {0} will be ignored'\n"
     ]
    },
    {
     "name": "stdout",
     "output_type": "stream",
     "text": [
      "Training took 9.10 seconds\n",
      "              precision    recall  f1-score   support\n",
      "\n",
      "     COVID19       0.87      0.87      0.87        82\n",
      "        H1N1       0.95      0.95      0.95       215\n",
      "\n",
      "    accuracy                           0.93       297\n",
      "   macro avg       0.91      0.91      0.91       297\n",
      "weighted avg       0.93      0.93      0.93       297\n",
      "\n",
      "Overall took 9.12 seconds\n"
     ]
    }
   ],
   "source": [
    "# Apply box-cox transformation after scaling data and impute using gaussian end of tail\n",
    "\n",
    "numerical_pipeline = Pipeline(\n",
    "    [\n",
    "        ('select_numerical_features', FunctionTransformer(lambda df: df[numerical_columns])),\n",
    "        ('box-cox', PowerTransformer(method='box-cox', standardize=True)),\n",
    "        ('turn_into_df', FunctionTransformer(lambda matrix: pd.DataFrame(matrix))),  # turn back into dataframe\n",
    "        ('end_of_tail', EndTailImputer(imputation_method='gaussian'))\n",
    "\n",
    "    ]\n",
    ")\n",
    "\n",
    "simple_fe = FeatureUnion([\n",
    "    ('risk_factors', risk_factor_pipeline),\n",
    "    ('binary_pipeline', binary_pipeline),\n",
    "    ('numerical_pipeline', numerical_pipeline)\n",
    "])\n",
    "\n",
    "# looking better\n",
    "best_model = simple_grid_search(x_train, y_train, x_test, y_test, simple_fe)"
   ]
  },
  {
   "cell_type": "code",
   "execution_count": 42,
   "id": "innovative-jordan",
   "metadata": {},
   "outputs": [
    {
     "name": "stderr",
     "output_type": "stream",
     "text": [
      "/usr/local/lib/python3.9/site-packages/sklearn/preprocessing/_label.py:860: UserWarning: unknown class(es) ['atopic dermatitis and repetitive respiratory infections', 'begin tumor (removed)', 'chronic liver disorder', 'chronic neurological disorders', 'fatty liver', 'hypertention', 'lung disease', 'pneumomediastinum and subcutaneous emphysema', 'rheumatoid arthritis'] will be ignored\n",
      "  warnings.warn('unknown class(es) {0} will be ignored'\n"
     ]
    },
    {
     "name": "stdout",
     "output_type": "stream",
     "text": [
      "Parsing took 0.19 seconds\n",
      "Training took 9.99 seconds\n",
      "              precision    recall  f1-score   support\n",
      "\n",
      "     COVID19       0.87      0.88      0.87        82\n",
      "        H1N1       0.95      0.95      0.95       215\n",
      "\n",
      "    accuracy                           0.93       297\n",
      "   macro avg       0.91      0.91      0.91       297\n",
      "weighted avg       0.93      0.93      0.93       297\n",
      "\n",
      "Overall took 10.07 seconds\n"
     ]
    }
   ],
   "source": [
    "from sklearn.feature_selection import SelectKBest\n",
    "from sklearn.feature_selection import chi2, mutual_info_classif\n",
    "\n",
    "risk_factor_pipeline = Pipeline(  # add feature selection\n",
    "    [\n",
    "        ('select_and_parse_risk_factor', FunctionTransformer(lambda df: df['RiskFactors'])),\n",
    "        ('dummify', DummifyRiskFactor()),\n",
    "        ('mutual_info', SelectKBest(mutual_info_classif, k=20)),  # remove dependent columns\n",
    "        ('chi2', SelectKBest(chi2, k=10))  # use hypothesis testing to further select features\n",
    "    ]\n",
    ")\n",
    "\n",
    "\n",
    "simple_fe = FeatureUnion([\n",
    "    ('risk_factors', risk_factor_pipeline),\n",
    "    ('binary_pipeline', binary_pipeline),\n",
    "    ('numerical_pipeline', numerical_pipeline)\n",
    "])\n",
    "\n",
    "best_model = simple_grid_search(x_train, y_train, x_test, y_test, simple_fe)"
   ]
  },
  {
   "cell_type": "code",
   "execution_count": null,
   "id": "macro-clinton",
   "metadata": {},
   "outputs": [],
   "source": []
  },
  {
   "cell_type": "code",
   "execution_count": 43,
   "id": "bright-timothy",
   "metadata": {},
   "outputs": [
    {
     "name": "stdout",
     "output_type": "stream",
     "text": [
      "Parsing took 0.04 seconds\n"
     ]
    },
    {
     "name": "stderr",
     "output_type": "stream",
     "text": [
      "/usr/local/lib/python3.9/site-packages/sklearn/preprocessing/_label.py:860: UserWarning: unknown class(es) ['atopic dermatitis and repetitive respiratory infections', 'begin tumor (removed)', 'chronic liver disorder', 'chronic neurological disorders', 'fatty liver', 'hypertention', 'lung disease', 'pneumomediastinum and subcutaneous emphysema', 'rheumatoid arthritis'] will be ignored\n",
      "  warnings.warn('unknown class(es) {0} will be ignored'\n"
     ]
    },
    {
     "name": "stdout",
     "output_type": "stream",
     "text": [
      "Training took 9.25 seconds\n",
      "              precision    recall  f1-score   support\n",
      "\n",
      "     COVID19       0.87      0.88      0.87        82\n",
      "        H1N1       0.95      0.95      0.95       215\n",
      "\n",
      "    accuracy                           0.93       297\n",
      "   macro avg       0.91      0.91      0.91       297\n",
      "weighted avg       0.93      0.93      0.93       297\n",
      "\n",
      "Overall took 9.31 seconds\n"
     ]
    }
   ],
   "source": [
    "from sklearn.feature_selection import SelectFromModel\n",
    "from sklearn.tree import DecisionTreeClassifier\n",
    "\n",
    "risk_factor_pipeline = Pipeline(  # TODO comment\n",
    "    [\n",
    "        ('select_and_parse_risk_factor', FunctionTransformer(lambda df: df['RiskFactors'])),\n",
    "        ('dummify', DummifyRiskFactor()),\n",
    "        # use a decision tree classifier to select features\n",
    "        ('tree_selector', SelectFromModel(max_features=20, estimator=DecisionTreeClassifier()))\n",
    "    ]\n",
    ")\n",
    "\n",
    "\n",
    "simple_fe = FeatureUnion([\n",
    "    ('risk_factors', risk_factor_pipeline),\n",
    "    ('binary_pipeline', binary_pipeline),\n",
    "    ('numerical_pipeline', numerical_pipeline)\n",
    "])\n",
    "\n",
    "best_model = simple_grid_search(x_train, y_train, x_test, y_test, simple_fe)"
   ]
  },
  {
   "cell_type": "code",
   "execution_count": 44,
   "id": "exact-remedy",
   "metadata": {},
   "outputs": [],
   "source": [
    "risk_factor_pipeline = Pipeline(  # back to the mutual info + chi2\n",
    "    [\n",
    "        ('select_and_parse_risk_factor', FunctionTransformer(lambda df: df['RiskFactors'])),\n",
    "        ('dummify', DummifyRiskFactor()),\n",
    "        ('mutual_info', SelectKBest(mutual_info_classif, k=20)),  # remove dependent columns\n",
    "        ('chi2', SelectKBest(chi2, k=10))  # use hypothesis testing to further select features\n",
    "    ]\n",
    ")\n"
   ]
  },
  {
   "cell_type": "code",
   "execution_count": 45,
   "id": "exempt-evaluation",
   "metadata": {},
   "outputs": [
    {
     "data": {
      "text/plain": [
       "<AxesSubplot:>"
      ]
     },
     "execution_count": 45,
     "metadata": {},
     "output_type": "execute_result"
    },
    {
     "data": {
      "image/png": "[encoded data removed]",
      "text/plain": [
       "<Figure size 432x288 with 1 Axes>"
      ]
     },
     "metadata": {
      "needs_background": "light"
     },
     "output_type": "display_data"
    }
   ],
   "source": [
    "from sklearn.preprocessing import KBinsDiscretizer  # we will use this module for binning our data\n",
    "\n",
    "# uniform will create bins of equal width\n",
    "binner = KBinsDiscretizer(n_bins=3, encode='ordinal', strategy='uniform')\n",
    "binned_data = binner.fit_transform(covid_flu[['Age']].dropna())\n",
    "pd.Series(binned_data.reshape(-1,)).hist()"
   ]
  },
  {
   "cell_type": "code",
   "execution_count": 46,
   "id": "comfortable-shield",
   "metadata": {},
   "outputs": [
    {
     "data": {
      "text/plain": [
       "<AxesSubplot:>"
      ]
     },
     "execution_count": 46,
     "metadata": {},
     "output_type": "execute_result"
    },
    {
     "data": {
      "image/png": "[encoded data removed]",
      "text/plain": [
       "<Figure size 432x288 with 1 Axes>"
      ]
     },
     "metadata": {
      "needs_background": "light"
     },
     "output_type": "display_data"
    }
   ],
   "source": [
    "# quantile will create bins of roughly equal height\n",
    "binner = KBinsDiscretizer(n_bins=3, encode='ordinal', strategy='quantile')\n",
    "binned_data = binner.fit_transform(covid_flu[['Age']].dropna())\n",
    "pd.Series(binned_data.reshape(-1,)).hist()"
   ]
  },
  {
   "cell_type": "code",
   "execution_count": 47,
   "id": "suffering-error",
   "metadata": {},
   "outputs": [
    {
     "data": {
      "text/plain": [
       "<AxesSubplot:>"
      ]
     },
     "execution_count": 47,
     "metadata": {},
     "output_type": "execute_result"
    },
    {
     "data": {
      "image/png": "[encoded data removed]",
      "text/plain": [
       "<Figure size 432x288 with 1 Axes>"
      ]
     },
     "metadata": {
      "needs_background": "light"
     },
     "output_type": "display_data"
    }
   ],
   "source": [
    "# kmeans will run a k-means cluster on each feature independently\n",
    "binner = KBinsDiscretizer(n_bins=3, encode='ordinal', strategy='kmeans')\n",
    "binned_data = binner.fit_transform(covid_flu[['Age']].dropna())\n",
    "pd.Series(binned_data.reshape(-1,)).hist()"
   ]
  },
  {
   "cell_type": "code",
   "execution_count": null,
   "id": "recreational-mentor",
   "metadata": {},
   "outputs": [],
   "source": []
  },
  {
   "cell_type": "code",
   "execution_count": 48,
   "id": "legitimate-store",
   "metadata": {},
   "outputs": [
    {
     "name": "stderr",
     "output_type": "stream",
     "text": [
      "/usr/local/lib/python3.9/site-packages/sklearn/preprocessing/_label.py:860: UserWarning: unknown class(es) ['atopic dermatitis and repetitive respiratory infections', 'begin tumor (removed)', 'chronic liver disorder', 'chronic neurological disorders', 'fatty liver', 'hypertention', 'lung disease', 'pneumomediastinum and subcutaneous emphysema', 'rheumatoid arthritis'] will be ignored\n",
      "  warnings.warn('unknown class(es) {0} will be ignored'\n"
     ]
    },
    {
     "name": "stdout",
     "output_type": "stream",
     "text": [
      "Parsing took 0.20 seconds\n",
      "Training took 9.26 seconds\n",
      "              precision    recall  f1-score   support\n",
      "\n",
      "     COVID19       0.91      0.83      0.87        82\n",
      "        H1N1       0.94      0.97      0.95       215\n",
      "\n",
      "    accuracy                           0.93       297\n",
      "   macro avg       0.92      0.90      0.91       297\n",
      "weighted avg       0.93      0.93      0.93       297\n",
      "\n",
      "Overall took 9.28 seconds\n"
     ]
    }
   ],
   "source": [
    "numerical_pipeline = Pipeline(  # bin data after scaling and imputing\n",
    "    [\n",
    "        ('select_numerical_features', FunctionTransformer(lambda df: df[numerical_columns])),\n",
    "        ('box-cox', PowerTransformer(method='box-cox', standardize=True)),\n",
    "        ('turn_into_df', FunctionTransformer(lambda matrix: pd.DataFrame(matrix))),  # turn back into dataframe\n",
    "        ('end_of_tail', EndTailImputer(imputation_method='gaussian')),\n",
    "        ('ordinal_bins', KBinsDiscretizer(n_bins=10, encode='ordinal', strategy='kmeans'))\n",
    "    ]\n",
    ")\n",
    "\n",
    "simple_fe = FeatureUnion([\n",
    "    ('risk_factors', risk_factor_pipeline),\n",
    "    ('binary_pipeline', binary_pipeline),\n",
    "    ('numerical_pipeline', numerical_pipeline)\n",
    "])\n",
    "\n",
    "# so far one of our best set of results!\n",
    "best_model = simple_grid_search(x_train, y_train, x_test, y_test, simple_fe)"
   ]
  },
  {
   "cell_type": "code",
   "execution_count": null,
   "id": "thick-butler",
   "metadata": {},
   "outputs": [],
   "source": []
  },
  {
   "cell_type": "code",
   "execution_count": 49,
   "id": "compliant-mainstream",
   "metadata": {},
   "outputs": [
    {
     "data": {
      "text/plain": [
       "[('risk_factors',\n",
       "  Pipeline(steps=[('select_and_parse_risk_factor',\n",
       "                   FunctionTransformer(func=<function <lambda> at 0x143f59dc0>)),\n",
       "                  ('dummify', DummifyRiskFactor()),\n",
       "                  ('mutual_info',\n",
       "                   SelectKBest(k=20,\n",
       "                               score_func=<function mutual_info_classif at 0x14405a940>)),\n",
       "                  ('chi2',\n",
       "                   SelectKBest(score_func=<function chi2 at 0x1440810d0>))])),\n",
       " ('binary_pipeline',\n",
       "  Pipeline(steps=[('select_categorical_features',\n",
       "                   FunctionTransformer(func=<function <lambda> at 0x144474040>)),\n",
       "                  ('fillna',\n",
       "                   SimpleImputer(fill_value=False, strategy='constant'))])),\n",
       " ('numerical_pipeline',\n",
       "  Pipeline(steps=[('select_numerical_features',\n",
       "                   FunctionTransformer(func=<function <lambda> at 0x144535280>)),\n",
       "                  ('box-cox', PowerTransformer(method='box-cox')),\n",
       "                  ('turn_into_df',\n",
       "                   FunctionTransformer(func=<function <lambda> at 0x1445350d0>)),\n",
       "                  ('end_of_tail', EndTailImputer(variables=[0, 1, 2, 3, 4, 5])),\n",
       "                  ('ordinal_bins',\n",
       "                   KBinsDiscretizer(encode='ordinal', n_bins=10,\n",
       "                                    strategy='kmeans'))]))]"
      ]
     },
     "execution_count": 49,
     "metadata": {},
     "output_type": "execute_result"
    }
   ],
   "source": [
    "# Let's take a look at our pipeline\n",
    "simple_fe.transformer_list"
   ]
  },
  {
   "cell_type": "code",
   "execution_count": null,
   "id": "enhanced-melbourne",
   "metadata": {},
   "outputs": [],
   "source": []
  },
  {
   "cell_type": "code",
   "execution_count": null,
   "id": "threaded-missile",
   "metadata": {},
   "outputs": [],
   "source": []
  },
  {
   "cell_type": "code",
   "execution_count": null,
   "id": "effective-referral",
   "metadata": {},
   "outputs": [],
   "source": []
  }
 ],
 "metadata": {
  "kernelspec": {
   "display_name": "Python 3",
   "language": "python",
   "name": "python3"
  },
  "language_info": {
   "codemirror_mode": {
    "name": "ipython",
    "version": 3
   },
   "file_extension": ".py",
   "mimetype": "text/x-python",
   "name": "python",
   "nbconvert_exporter": "python",
   "pygments_lexer": "ipython3",
   "version": "3.9.1"
  }
 },
 "nbformat": 4,
 "nbformat_minor": 5
}
