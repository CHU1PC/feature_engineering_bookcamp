{
 "cells": [
  {
   "cell_type": "code",
   "execution_count": 1,
   "id": "faced-moderator",
   "metadata": {},
   "outputs": [],
   "source": [
    "# run our base notebook"
   ]
  },
  {
   "cell_type": "code",
   "execution_count": null,
   "id": "accessible-insured",
   "metadata": {},
   "outputs": [],
   "source": []
  },
  {
   "cell_type": "code",
   "execution_count": 2,
   "id": "continuous-princess",
   "metadata": {},
   "outputs": [],
   "source": [
    "%run ./Base.ipynb"
   ]
  },
  {
   "cell_type": "code",
   "execution_count": null,
   "id": "double-valuation",
   "metadata": {},
   "outputs": [],
   "source": []
  },
  {
   "cell_type": "code",
   "execution_count": 3,
   "id": "latest-finger",
   "metadata": {},
   "outputs": [],
   "source": [
    "import pandas as pd\n",
    "\n",
    "covid_flu = pd.read_csv('../data/covid_flu.csv')"
   ]
  },
  {
   "cell_type": "code",
   "execution_count": 4,
   "id": "still-miami",
   "metadata": {},
   "outputs": [],
   "source": [
    "# Exploratory Data Analysis"
   ]
  },
  {
   "cell_type": "code",
   "execution_count": 5,
   "id": "equipped-cigarette",
   "metadata": {},
   "outputs": [
    {
     "data": {
      "text/html": [
       "<div>\n",
       "<style scoped>\n",
       "    .dataframe tbody tr th:only-of-type {\n",
       "        vertical-align: middle;\n",
       "    }\n",
       "\n",
       "    .dataframe tbody tr th {\n",
       "        vertical-align: top;\n",
       "    }\n",
       "\n",
       "    .dataframe thead th {\n",
       "        text-align: right;\n",
       "    }\n",
       "</style>\n",
       "<table border=\"1\" class=\"dataframe\">\n",
       "  <thead>\n",
       "    <tr style=\"text-align: right;\">\n",
       "      <th></th>\n",
       "      <th>Diagnosis</th>\n",
       "      <th>InitialPCRDiagnosis</th>\n",
       "      <th>Age</th>\n",
       "      <th>Sex</th>\n",
       "      <th>neutrophil</th>\n",
       "      <th>serumLevelsOfWhiteBloodCell</th>\n",
       "      <th>lymphocytes</th>\n",
       "      <th>CReactiveProteinLevels</th>\n",
       "      <th>DurationOfIllness</th>\n",
       "      <th>CTscanResults</th>\n",
       "      <th>RiskFactors</th>\n",
       "      <th>GroundGlassOpacity</th>\n",
       "      <th>Diarrhea</th>\n",
       "      <th>Fever</th>\n",
       "      <th>Coughing</th>\n",
       "      <th>ShortnessOfBreath</th>\n",
       "      <th>SoreThroat</th>\n",
       "      <th>NauseaVomitting</th>\n",
       "      <th>Temperature</th>\n",
       "      <th>Fatigue</th>\n",
       "    </tr>\n",
       "  </thead>\n",
       "  <tbody>\n",
       "    <tr>\n",
       "      <th>0</th>\n",
       "      <td>H1N1</td>\n",
       "      <td>NaN</td>\n",
       "      <td>67.0</td>\n",
       "      <td>F</td>\n",
       "      <td>NaN</td>\n",
       "      <td>NaN</td>\n",
       "      <td>NaN</td>\n",
       "      <td>NaN</td>\n",
       "      <td>NaN</td>\n",
       "      <td>NaN</td>\n",
       "      <td>NaN</td>\n",
       "      <td>NaN</td>\n",
       "      <td>NaN</td>\n",
       "      <td>Yes</td>\n",
       "      <td>Yes</td>\n",
       "      <td>NaN</td>\n",
       "      <td>No</td>\n",
       "      <td>NaN</td>\n",
       "      <td>38.111111</td>\n",
       "      <td>No</td>\n",
       "    </tr>\n",
       "    <tr>\n",
       "      <th>1</th>\n",
       "      <td>H1N1</td>\n",
       "      <td>NaN</td>\n",
       "      <td>29.0</td>\n",
       "      <td>M</td>\n",
       "      <td>NaN</td>\n",
       "      <td>NaN</td>\n",
       "      <td>NaN</td>\n",
       "      <td>NaN</td>\n",
       "      <td>NaN</td>\n",
       "      <td>NaN</td>\n",
       "      <td>NaN</td>\n",
       "      <td>NaN</td>\n",
       "      <td>NaN</td>\n",
       "      <td>NaN</td>\n",
       "      <td>NaN</td>\n",
       "      <td>NaN</td>\n",
       "      <td>NaN</td>\n",
       "      <td>NaN</td>\n",
       "      <td>NaN</td>\n",
       "      <td>NaN</td>\n",
       "    </tr>\n",
       "    <tr>\n",
       "      <th>2</th>\n",
       "      <td>H1N1</td>\n",
       "      <td>NaN</td>\n",
       "      <td>22.0</td>\n",
       "      <td>F</td>\n",
       "      <td>NaN</td>\n",
       "      <td>NaN</td>\n",
       "      <td>NaN</td>\n",
       "      <td>NaN</td>\n",
       "      <td>NaN</td>\n",
       "      <td>NaN</td>\n",
       "      <td>NaN</td>\n",
       "      <td>NaN</td>\n",
       "      <td>NaN</td>\n",
       "      <td>NaN</td>\n",
       "      <td>NaN</td>\n",
       "      <td>NaN</td>\n",
       "      <td>NaN</td>\n",
       "      <td>NaN</td>\n",
       "      <td>NaN</td>\n",
       "      <td>NaN</td>\n",
       "    </tr>\n",
       "    <tr>\n",
       "      <th>3</th>\n",
       "      <td>H1N1</td>\n",
       "      <td>NaN</td>\n",
       "      <td>20.0</td>\n",
       "      <td>F</td>\n",
       "      <td>NaN</td>\n",
       "      <td>NaN</td>\n",
       "      <td>NaN</td>\n",
       "      <td>NaN</td>\n",
       "      <td>NaN</td>\n",
       "      <td>NaN</td>\n",
       "      <td>immuno</td>\n",
       "      <td>NaN</td>\n",
       "      <td>NaN</td>\n",
       "      <td>Yes</td>\n",
       "      <td>Yes</td>\n",
       "      <td>NaN</td>\n",
       "      <td>No</td>\n",
       "      <td>NaN</td>\n",
       "      <td>36.555556</td>\n",
       "      <td>Yes</td>\n",
       "    </tr>\n",
       "    <tr>\n",
       "      <th>4</th>\n",
       "      <td>H1N1</td>\n",
       "      <td>NaN</td>\n",
       "      <td>21.0</td>\n",
       "      <td>M</td>\n",
       "      <td>NaN</td>\n",
       "      <td>NaN</td>\n",
       "      <td>NaN</td>\n",
       "      <td>NaN</td>\n",
       "      <td>NaN</td>\n",
       "      <td>NaN</td>\n",
       "      <td>NaN</td>\n",
       "      <td>NaN</td>\n",
       "      <td>NaN</td>\n",
       "      <td>NaN</td>\n",
       "      <td>NaN</td>\n",
       "      <td>NaN</td>\n",
       "      <td>NaN</td>\n",
       "      <td>NaN</td>\n",
       "      <td>NaN</td>\n",
       "      <td>NaN</td>\n",
       "    </tr>\n",
       "  </tbody>\n",
       "</table>\n",
       "</div>"
      ],
      "text/plain": [
       "  Diagnosis InitialPCRDiagnosis   Age Sex  neutrophil  \\\n",
       "0      H1N1                 NaN  67.0   F         NaN   \n",
       "1      H1N1                 NaN  29.0   M         NaN   \n",
       "2      H1N1                 NaN  22.0   F         NaN   \n",
       "3      H1N1                 NaN  20.0   F         NaN   \n",
       "4      H1N1                 NaN  21.0   M         NaN   \n",
       "\n",
       "   serumLevelsOfWhiteBloodCell  lymphocytes CReactiveProteinLevels  \\\n",
       "0                          NaN          NaN                    NaN   \n",
       "1                          NaN          NaN                    NaN   \n",
       "2                          NaN          NaN                    NaN   \n",
       "3                          NaN          NaN                    NaN   \n",
       "4                          NaN          NaN                    NaN   \n",
       "\n",
       "   DurationOfIllness CTscanResults RiskFactors GroundGlassOpacity Diarrhea  \\\n",
       "0                NaN           NaN         NaN                NaN      NaN   \n",
       "1                NaN           NaN         NaN                NaN      NaN   \n",
       "2                NaN           NaN         NaN                NaN      NaN   \n",
       "3                NaN           NaN      immuno                NaN      NaN   \n",
       "4                NaN           NaN         NaN                NaN      NaN   \n",
       "\n",
       "  Fever Coughing ShortnessOfBreath SoreThroat NauseaVomitting  Temperature  \\\n",
       "0   Yes      Yes               NaN         No             NaN    38.111111   \n",
       "1   NaN      NaN               NaN        NaN             NaN          NaN   \n",
       "2   NaN      NaN               NaN        NaN             NaN          NaN   \n",
       "3   Yes      Yes               NaN         No             NaN    36.555556   \n",
       "4   NaN      NaN               NaN        NaN             NaN          NaN   \n",
       "\n",
       "  Fatigue  \n",
       "0      No  \n",
       "1     NaN  \n",
       "2     NaN  \n",
       "3     Yes  \n",
       "4     NaN  "
      ]
     },
     "execution_count": 5,
     "metadata": {},
     "output_type": "execute_result"
    }
   ],
   "source": [
    "covid_flu.head()  # take a look at the first 5 rows"
   ]
  },
  {
   "cell_type": "code",
   "execution_count": 6,
   "id": "fewer-peace",
   "metadata": {},
   "outputs": [
    {
     "data": {
      "text/plain": [
       "(1482, 20)"
      ]
     },
     "execution_count": 6,
     "metadata": {},
     "output_type": "execute_result"
    }
   ],
   "source": [
    "covid_flu.shape  # 20 columns!"
   ]
  },
  {
   "cell_type": "code",
   "execution_count": 7,
   "id": "centered-captain",
   "metadata": {},
   "outputs": [
    {
     "data": {
      "text/plain": [
       "Diagnosis                      0.000000\n",
       "InitialPCRDiagnosis            0.929825\n",
       "Age                            0.018893\n",
       "Sex                            0.051282\n",
       "neutrophil                     0.930499\n",
       "serumLevelsOfWhiteBloodCell    0.898111\n",
       "lymphocytes                    0.894737\n",
       "CReactiveProteinLevels         0.907557\n",
       "DurationOfIllness              0.941296\n",
       "CTscanResults                  0.892713\n",
       "RiskFactors                    0.858974\n",
       "GroundGlassOpacity             0.937247\n",
       "Diarrhea                       0.696356\n",
       "Fever                          0.377193\n",
       "Coughing                       0.420378\n",
       "ShortnessOfBreath              0.949393\n",
       "SoreThroat                     0.547908\n",
       "NauseaVomitting                0.715924\n",
       "Temperature                    0.576248\n",
       "Fatigue                        0.641700\n",
       "dtype: float64"
      ]
     },
     "execution_count": 7,
     "metadata": {},
     "output_type": "execute_result"
    }
   ],
   "source": [
    "covid_flu.isnull().mean()  # percent of missing data in each column"
   ]
  },
  {
   "cell_type": "code",
   "execution_count": 8,
   "id": "initial-tissue",
   "metadata": {},
   "outputs": [
    {
     "data": {
      "text/plain": [
       "H1N1       0.723347\n",
       "COVID19    0.276653\n",
       "Name: Diagnosis, dtype: float64"
      ]
     },
     "execution_count": 8,
     "metadata": {},
     "output_type": "execute_result"
    }
   ],
   "source": [
    "covid_flu['Diagnosis'].value_counts(normalize=True)  # percent breakdown of response variable"
   ]
  },
  {
   "cell_type": "code",
   "execution_count": 9,
   "id": "collectible-injury",
   "metadata": {},
   "outputs": [
    {
     "name": "stdout",
     "output_type": "stream",
     "text": [
      "<class 'pandas.core.frame.DataFrame'>\n",
      "RangeIndex: 1482 entries, 0 to 1481\n",
      "Data columns (total 20 columns):\n",
      " #   Column                       Non-Null Count  Dtype  \n",
      "---  ------                       --------------  -----  \n",
      " 0   Diagnosis                    1482 non-null   object \n",
      " 1   InitialPCRDiagnosis          104 non-null    object \n",
      " 2   Age                          1454 non-null   float64\n",
      " 3   Sex                          1406 non-null   object \n",
      " 4   neutrophil                   103 non-null    float64\n",
      " 5   serumLevelsOfWhiteBloodCell  151 non-null    float64\n",
      " 6   lymphocytes                  156 non-null    float64\n",
      " 7   CReactiveProteinLevels       137 non-null    object \n",
      " 8   DurationOfIllness            87 non-null     float64\n",
      " 9   CTscanResults                159 non-null    object \n",
      " 10  RiskFactors                  209 non-null    object \n",
      " 11  GroundGlassOpacity           93 non-null     object \n",
      " 12  Diarrhea                     450 non-null    object \n",
      " 13  Fever                        923 non-null    object \n",
      " 14  Coughing                     859 non-null    object \n",
      " 15  ShortnessOfBreath            75 non-null     object \n",
      " 16  SoreThroat                   670 non-null    object \n",
      " 17  NauseaVomitting              421 non-null    object \n",
      " 18  Temperature                  628 non-null    float64\n",
      " 19  Fatigue                      531 non-null    object \n",
      "dtypes: float64(6), object(14)\n",
      "memory usage: 231.7+ KB\n"
     ]
    }
   ],
   "source": [
    "covid_flu.info()"
   ]
  },
  {
   "cell_type": "code",
   "execution_count": null,
   "id": "logical-douglas",
   "metadata": {},
   "outputs": [],
   "source": []
  },
  {
   "cell_type": "code",
   "execution_count": 10,
   "id": "departmental-pulse",
   "metadata": {},
   "outputs": [
    {
     "data": {
      "text/plain": [
       "['Age',\n",
       " 'neutrophil',\n",
       " 'serumLevelsOfWhiteBloodCell',\n",
       " 'lymphocytes',\n",
       " 'DurationOfIllness',\n",
       " 'Temperature']"
      ]
     },
     "execution_count": 10,
     "metadata": {},
     "output_type": "execute_result"
    }
   ],
   "source": [
    "numeric_types = ['float16', 'float32', 'float64', 'int16', 'int32', 'int64']  # the numeric types in Pandas\n",
    "\n",
    "numerical_columns = covid_flu.select_dtypes(include=numeric_types).columns.tolist()\n",
    "\n",
    "numerical_columns"
   ]
  },
  {
   "cell_type": "code",
   "execution_count": 11,
   "id": "lasting-gender",
   "metadata": {},
   "outputs": [
    {
     "name": "stdout",
     "output_type": "stream",
     "text": [
      "0   NaN\n",
      "1   NaN\n",
      "2   NaN\n",
      "3   NaN\n",
      "4   NaN\n",
      "Name: lymphocytes, dtype: float64\n",
      "\n",
      "\n",
      "Mean of Lymphocytes column is 1.8501538461538463\n",
      "\n",
      "\n",
      "[[1.85015385]\n",
      " [1.85015385]\n",
      " [1.85015385]\n",
      " [1.85015385]\n",
      " [1.85015385]]\n"
     ]
    }
   ],
   "source": [
    "from sklearn.impute import SimpleImputer  # sklearn class to impute missing data\n",
    "\n",
    "num_impute = SimpleImputer(strategy='mean')  # could be mean or median for numerical values\n",
    "\n",
    "print(covid_flu['lymphocytes'].head())  # show the first 5 values before imputing\n",
    "\n",
    "print(f\"\\n\\nMean of Lymphocytes column is {covid_flu['lymphocytes'].mean()}\\n\\n\")\n",
    "\n",
    "print(num_impute.fit_transform(covid_flu[['lymphocytes']])[:5])  # transforming turns the column into a numpy array"
   ]
  },
  {
   "cell_type": "code",
   "execution_count": null,
   "id": "appointed-jonathan",
   "metadata": {},
   "outputs": [],
   "source": []
  },
  {
   "cell_type": "code",
   "execution_count": 12,
   "id": "portable-level",
   "metadata": {},
   "outputs": [
    {
     "ename": "ModuleNotFoundError",
     "evalue": "No module named 'feature_engine'",
     "output_type": "error",
     "traceback": [
      "\u001b[0;31m---------------------------------------------------------------------------\u001b[0m",
      "\u001b[0;31mModuleNotFoundError\u001b[0m                       Traceback (most recent call last)",
      "Input \u001b[0;32mIn [12]\u001b[0m, in \u001b[0;36m<cell line: 4>\u001b[0;34m()\u001b[0m\n\u001b[1;32m      1\u001b[0m \u001b[38;5;66;03m# https://feature-engine.readthedocs.io\u001b[39;00m\n\u001b[1;32m      2\u001b[0m \u001b[38;5;28;01mimport\u001b[39;00m \u001b[38;5;21;01mmatplotlib\u001b[39;00m\u001b[38;5;21;01m.\u001b[39;00m\u001b[38;5;21;01mpyplot\u001b[39;00m \u001b[38;5;28;01mas\u001b[39;00m \u001b[38;5;21;01mplt\u001b[39;00m\n\u001b[0;32m----> 4\u001b[0m \u001b[38;5;28;01mfrom\u001b[39;00m \u001b[38;5;21;01mfeature_engine\u001b[39;00m\u001b[38;5;21;01m.\u001b[39;00m\u001b[38;5;21;01mimputation\u001b[39;00m \u001b[38;5;28;01mimport\u001b[39;00m EndTailImputer\n\u001b[1;32m      6\u001b[0m covid_flu[\u001b[38;5;124m'\u001b[39m\u001b[38;5;124mlymphocytes\u001b[39m\u001b[38;5;124m'\u001b[39m]\u001b[38;5;241m.\u001b[39mplot(\n\u001b[1;32m      7\u001b[0m     title\u001b[38;5;241m=\u001b[39m\u001b[38;5;124m'\u001b[39m\u001b[38;5;124mLymphocytes\u001b[39m\u001b[38;5;124m'\u001b[39m, kind\u001b[38;5;241m=\u001b[39m\u001b[38;5;124m'\u001b[39m\u001b[38;5;124mhist\u001b[39m\u001b[38;5;124m'\u001b[39m, xlabel\u001b[38;5;241m=\u001b[39m\u001b[38;5;124m'\u001b[39m\u001b[38;5;124mcells/μL\u001b[39m\u001b[38;5;124m'\u001b[39m\n\u001b[1;32m      8\u001b[0m )\n\u001b[1;32m     10\u001b[0m EndTailImputer()\u001b[38;5;241m.\u001b[39mfit_transform(covid_flu[[\u001b[38;5;124m'\u001b[39m\u001b[38;5;124mlymphocytes\u001b[39m\u001b[38;5;124m'\u001b[39m]])\u001b[38;5;241m.\u001b[39mplot(\n\u001b[1;32m     11\u001b[0m     title\u001b[38;5;241m=\u001b[39m\u001b[38;5;124m'\u001b[39m\u001b[38;5;124mLymphocytes (Imputed)\u001b[39m\u001b[38;5;124m'\u001b[39m, kind\u001b[38;5;241m=\u001b[39m\u001b[38;5;124m'\u001b[39m\u001b[38;5;124mhist\u001b[39m\u001b[38;5;124m'\u001b[39m, xlabel\u001b[38;5;241m=\u001b[39m\u001b[38;5;124m'\u001b[39m\u001b[38;5;124mcells/μL\u001b[39m\u001b[38;5;124m'\u001b[39m\n\u001b[1;32m     12\u001b[0m )\n",
      "\u001b[0;31mModuleNotFoundError\u001b[0m: No module named 'feature_engine'"
     ]
    }
   ],
   "source": [
    "# https://feature-engine.readthedocs.io\n",
    "import matplotlib.pyplot as plt\n",
    "\n",
    "from feature_engine.imputation import EndTailImputer\n",
    "\n",
    "covid_flu['lymphocytes'].plot(\n",
    "    title='Lymphocytes', kind='hist', xlabel='cells/μL'\n",
    ")\n",
    "\n",
    "EndTailImputer().fit_transform(covid_flu[['lymphocytes']]).plot(\n",
    "    title='Lymphocytes (Imputed)', kind='hist', xlabel='cells/μL'\n",
    ")\n"
   ]
  },
  {
   "cell_type": "code",
   "execution_count": null,
   "id": "speaking-companion",
   "metadata": {},
   "outputs": [],
   "source": []
  },
  {
   "cell_type": "code",
   "execution_count": null,
   "id": "foreign-petite",
   "metadata": {},
   "outputs": [],
   "source": [
    "cat_impute = SimpleImputer(strategy='most_frequent')  # could be most_frequent or constant (arbitrary) for categorical values\n",
    "\n",
    "print(covid_flu['Coughing'].head())\n",
    "\n",
    "print(cat_impute.fit_transform(covid_flu[['Coughing']])[:5])  # transforming turns the column into a numpy array"
   ]
  },
  {
   "cell_type": "code",
   "execution_count": null,
   "id": "removable-cruise",
   "metadata": {},
   "outputs": [],
   "source": []
  },
  {
   "cell_type": "code",
   "execution_count": null,
   "id": "ruled-horse",
   "metadata": {},
   "outputs": [],
   "source": []
  },
  {
   "cell_type": "code",
   "execution_count": null,
   "id": "informal-judges",
   "metadata": {},
   "outputs": [],
   "source": []
  },
  {
   "cell_type": "code",
   "execution_count": null,
   "id": "steady-tonight",
   "metadata": {},
   "outputs": [],
   "source": [
    "# looks like our numerical columns are hairly heavily right skewed\n",
    "\n",
    "covid_flu[numerical_columns].hist(figsize=(20, 10))  "
   ]
  },
  {
   "cell_type": "code",
   "execution_count": null,
   "id": "corresponding-canyon",
   "metadata": {},
   "outputs": [],
   "source": [
    "covid_flu['lymphocytes'].plot(\n",
    "    title='Lymphocytes', kind='hist', xlabel='cells/μL'\n",
    ")  # before log transform"
   ]
  },
  {
   "cell_type": "code",
   "execution_count": null,
   "id": "banned-elizabeth",
   "metadata": {},
   "outputs": [],
   "source": [
    "covid_flu['lymphocytes'].map(np.log1p).plot(\n",
    "    title='Lymphocytes (Log Transformed)', kind='hist', xlabel='cells/μL'\n",
    ")  # log transform of lymphocytes"
   ]
  },
  {
   "cell_type": "code",
   "execution_count": null,
   "id": "finite-drain",
   "metadata": {},
   "outputs": [],
   "source": []
  },
  {
   "cell_type": "code",
   "execution_count": null,
   "id": "abstract-alloy",
   "metadata": {},
   "outputs": [],
   "source": [
    "# looks like Age may have some 0s in it which won't work with Box-Cox\n",
    "covid_flu[covid_flu['Age']==0].head(3)\n",
    "\n",
    "covid_flu['Age'] = covid_flu['Age'] + 0.01  # to make Age strictly positive"
   ]
  },
  {
   "cell_type": "code",
   "execution_count": null,
   "id": "optical-intensity",
   "metadata": {},
   "outputs": [],
   "source": [
    "from sklearn.preprocessing import PowerTransformer\n",
    "\n",
    "boxcox_transformer = PowerTransformer(method='box-cox', standardize=False)\n",
    "pd.DataFrame(covid_flu[numerical_columns]).hist(figsize=(10, 10))\n",
    "\n",
    "pd.DataFrame(\n",
    "    boxcox_transformer.fit_transform(covid_flu[numerical_columns]), \n",
    "    columns=numerical_columns\n",
    ").hist(figsize=(10, 10))\n"
   ]
  },
  {
   "cell_type": "code",
   "execution_count": null,
   "id": "young-fifth",
   "metadata": {},
   "outputs": [],
   "source": []
  },
  {
   "cell_type": "code",
   "execution_count": null,
   "id": "consecutive-spyware",
   "metadata": {},
   "outputs": [],
   "source": [
    "boxcox_transformer.lambdas_"
   ]
  },
  {
   "cell_type": "code",
   "execution_count": null,
   "id": "graduate-conference",
   "metadata": {},
   "outputs": [],
   "source": [
    "# before any transformations, scales are all over the place as are means and standard deviations\n",
    "covid_flu[numerical_columns].describe()   "
   ]
  },
  {
   "cell_type": "code",
   "execution_count": null,
   "id": "billion-prediction",
   "metadata": {},
   "outputs": [],
   "source": [
    "covid_flu[numerical_columns].hist()\n"
   ]
  },
  {
   "cell_type": "code",
   "execution_count": null,
   "id": "technical-compression",
   "metadata": {},
   "outputs": [],
   "source": [
    "from sklearn.preprocessing import MinMaxScaler\n",
    "pd.DataFrame(  # mean of 0 and std of 1 but ranges are different (see min and max)\n",
    "    MinMaxScaler().fit_transform(covid_flu[numerical_columns]),\n",
    "    columns=numerical_columns\n",
    ").hist()\n"
   ]
  },
  {
   "cell_type": "code",
   "execution_count": null,
   "id": "considerable-newspaper",
   "metadata": {},
   "outputs": [],
   "source": [
    "from sklearn.preprocessing import StandardScaler\n",
    "\n",
    "pd.DataFrame(  # mean of 0 and std of 1 but ranges are different (see min and max)\n",
    "    StandardScaler().fit_transform(covid_flu[numerical_columns]),\n",
    "    columns=numerical_columns\n",
    ").describe()"
   ]
  },
  {
   "cell_type": "code",
   "execution_count": null,
   "id": "dirty-scout",
   "metadata": {},
   "outputs": [],
   "source": [
    "pd.DataFrame(  # mean and std are different but min and max are 0s and 1s\n",
    "    MinMaxScaler().fit_transform(covid_flu[numerical_columns]),\n",
    "    columns=numerical_columns\n",
    ").describe()"
   ]
  },
  {
   "cell_type": "code",
   "execution_count": null,
   "id": "bearing-burke",
   "metadata": {},
   "outputs": [],
   "source": []
  },
  {
   "cell_type": "code",
   "execution_count": null,
   "id": "speaking-nicholas",
   "metadata": {},
   "outputs": [],
   "source": []
  },
  {
   "cell_type": "code",
   "execution_count": null,
   "id": "worldwide-turtle",
   "metadata": {},
   "outputs": [],
   "source": [
    "categorical_types = ['O']  # Just the \"object\" type\n",
    "\n",
    "categorical_columns = covid_flu.select_dtypes(include=categorical_types).columns.tolist()\n",
    "\n",
    "categorical_columns.remove('Diagnosis')  # our response variable\n",
    "\n",
    "for categorical_column in categorical_columns:\n",
    "    print('=======')\n",
    "    print(categorical_column)\n",
    "    print('=======')\n",
    "    print(covid_flu[categorical_column].value_counts(dropna=False))\n",
    "    "
   ]
  },
  {
   "cell_type": "code",
   "execution_count": null,
   "id": "suspended-abuse",
   "metadata": {},
   "outputs": [],
   "source": [
    "# Turn our Sex column into a binary column\n",
    "covid_flu['Female'] = covid_flu['Sex'] == 'F'\n",
    "del covid_flu['Sex']"
   ]
  },
  {
   "cell_type": "code",
   "execution_count": null,
   "id": "stupid-omaha",
   "metadata": {},
   "outputs": [],
   "source": [
    "covid_flu = covid_flu.replace({'Yes': True, 'No': False})  # replace yes and  no with True / False\n",
    "\n",
    "covid_flu.head(3)"
   ]
  },
  {
   "cell_type": "code",
   "execution_count": null,
   "id": "hybrid-photography",
   "metadata": {},
   "outputs": [],
   "source": []
  },
  {
   "cell_type": "code",
   "execution_count": null,
   "id": "wooden-lambda",
   "metadata": {},
   "outputs": [],
   "source": [
    "# construct a new categorical column that is an amalgamation of several flu symptoms\n",
    "covid_flu['FluSymptoms'] = covid_flu[['Diarrhea', 'Fever', 'Coughing', 'SoreThroat', 'NauseaVomitting', 'Fatigue']].sum(axis=1) >= 2\n",
    "\n",
    "print(covid_flu['FluSymptoms'].value_counts())\n",
    "\n",
    "print(covid_flu['FluSymptoms'].isnull().sum())  # no missing values\n",
    "\n",
    "binary_features = [  # aggregate all binary columns in a list\n",
    "    'Female', 'GroundGlassOpacity', 'CTscanResults', 'Diarrhea', 'Fever', 'FluSymptoms',\n",
    "    'Coughing', 'SoreThroat', 'NauseaVomitting', 'Fatigue', 'InitialPCRDiagnosis'\n",
    "]"
   ]
  },
  {
   "cell_type": "code",
   "execution_count": null,
   "id": "preceding-stream",
   "metadata": {},
   "outputs": [],
   "source": [
    "covid_flu['FluSymptoms'] = covid_flu[['Diarrhea', 'Fever', 'Coughing', 'SoreThroat', 'NauseaVomitting', 'Fatigue']].sum(axis=1) >= 1\n",
    "\n",
    "print(covid_flu['FluSymptoms'].value_counts())\n"
   ]
  },
  {
   "cell_type": "code",
   "execution_count": null,
   "id": "active-victorian",
   "metadata": {},
   "outputs": [],
   "source": [
    "# A custom data transformer to deal with our messy risk factor column\n",
    "\n",
    "from sklearn.base import BaseEstimator, TransformerMixin\n",
    "from sklearn.preprocessing import MultiLabelBinarizer  # class to help make dummy variables\n",
    "from functools import reduce\n",
    "\n",
    "class DummifyRiskFactor(BaseEstimator,TransformerMixin):\n",
    "    def __init__(self):\n",
    "        self.label_binarizer = None\n",
    "        \n",
    "    def parse_risk_factors(self, comma_sep_factors):\n",
    "        ''' asthma,heart disease -> ['asthma', 'heart disease'] '''\n",
    "        try:\n",
    "            return [s.strip().lower() for s in comma_sep_factors.split(',')]\n",
    "        except:\n",
    "            return []\n",
    "    \n",
    "    def fit(self, X, y=None):\n",
    "        self.label_binarizer = MultiLabelBinarizer()\n",
    "        self.label_binarizer.fit(X.apply(self.parse_risk_factors))  # create dummy variable for each risk factor\n",
    "        return self\n",
    "    \n",
    "    def transform(self, X, y=None):\n",
    "        return self.label_binarizer.transform(X.apply(self.parse_risk_factors))"
   ]
  },
  {
   "cell_type": "code",
   "execution_count": null,
   "id": "changing-health",
   "metadata": {
    "scrolled": false
   },
   "outputs": [],
   "source": [
    "drf = DummifyRiskFactor()\n",
    "\n",
    "risks = drf.fit_transform(covid_flu['RiskFactors'])\n",
    "\n",
    "print(risks.shape)\n",
    "\n",
    "pd.DataFrame(risks, columns=drf.label_binarizer.classes_)"
   ]
  },
  {
   "cell_type": "code",
   "execution_count": null,
   "id": "united-missouri",
   "metadata": {},
   "outputs": [],
   "source": []
  },
  {
   "cell_type": "code",
   "execution_count": null,
   "id": "acquired-ecuador",
   "metadata": {},
   "outputs": [],
   "source": [
    "from sklearn.model_selection import train_test_split\n",
    "\n",
    "X, y = covid_flu.drop(['Diagnosis'], axis=1), covid_flu['Diagnosis']\n",
    "\n",
    "x_train, x_test, y_train, y_test = train_test_split(\n",
    "    X, y, stratify=y, random_state=0, test_size=.2\n",
    ")"
   ]
  },
  {
   "cell_type": "code",
   "execution_count": null,
   "id": "current-tuition",
   "metadata": {},
   "outputs": [],
   "source": [
    "y_train.value_counts(normalize=True)"
   ]
  },
  {
   "cell_type": "code",
   "execution_count": null,
   "id": "activated-tours",
   "metadata": {},
   "outputs": [],
   "source": [
    "y_test.value_counts(normalize=True)"
   ]
  },
  {
   "cell_type": "code",
   "execution_count": null,
   "id": "aerial-diploma",
   "metadata": {},
   "outputs": [],
   "source": []
  },
  {
   "cell_type": "code",
   "execution_count": null,
   "id": "complex-screw",
   "metadata": {},
   "outputs": [],
   "source": [
    "from sklearn.preprocessing import FunctionTransformer\n",
    "from sklearn.pipeline import Pipeline, FeatureUnion\n",
    "\n",
    "# deal with risk factors\n",
    "\n",
    "risk_factor_pipeline = Pipeline(\n",
    "    [\n",
    "        ('select_risk_factor', FunctionTransformer(lambda df: df['RiskFactors'])),\n",
    "        ('dummify', DummifyRiskFactor())\n",
    "    ]\n",
    ")\n",
    "\n",
    "# deal with binary columns\n",
    "\n",
    "binary_pipeline = Pipeline(\n",
    "    [\n",
    "        ('select_categorical_features', FunctionTransformer(lambda df: df[binary_features])),\n",
    "        ('fillna', SimpleImputer(strategy='constant', fill_value=False))  # assume missing values are not present\n",
    "    ]\n",
    ")\n",
    "\n",
    "# deal with numerical columns\n",
    "\n",
    "numerical_pipeline = Pipeline(\n",
    "    [\n",
    "        ('select_numerical_features', FunctionTransformer(lambda df: df[numerical_columns])),\n",
    "        ('impute', SimpleImputer(strategy='median')),\n",
    "    ]\n",
    ")"
   ]
  },
  {
   "cell_type": "code",
   "execution_count": null,
   "id": "coordinate-picture",
   "metadata": {},
   "outputs": [],
   "source": [
    "# only using numerical values has a good precision on COVID class but awful recall..\n",
    "simple_grid_search(x_train, y_train, x_test, y_test, numerical_pipeline)"
   ]
  },
  {
   "cell_type": "code",
   "execution_count": null,
   "id": "oriented-assurance",
   "metadata": {
    "scrolled": true
   },
   "outputs": [],
   "source": [
    "# only using risk factors has a horrible recall and accuracy is barely higher than the null accuracy\n",
    "simple_grid_search(x_train, y_train, x_test, y_test, risk_factor_pipeline)"
   ]
  },
  {
   "cell_type": "code",
   "execution_count": null,
   "id": "timely-airline",
   "metadata": {},
   "outputs": [],
   "source": [
    "# only using binary columns is also not performing well\n",
    "simple_grid_search(x_train, y_train, x_test, y_test, binary_pipeline)"
   ]
  },
  {
   "cell_type": "code",
   "execution_count": null,
   "id": "union-anaheim",
   "metadata": {},
   "outputs": [],
   "source": [
    "print(simple_grid_search(x_train, y_train, x_test, y_test, binary_pipeline))"
   ]
  },
  {
   "cell_type": "code",
   "execution_count": null,
   "id": "inappropriate-minute",
   "metadata": {},
   "outputs": [],
   "source": [
    "# Use our cross-validation function to show the best classification report (best == highest test set accuracy)\n",
    "# We  will use this as a baseline performance indicator for our next feature engineering attempts\n",
    "\n",
    "simple_fe = FeatureUnion([  # put all of our features together\n",
    "    ('risk_factors', risk_factor_pipeline),\n",
    "    ('binary_pipeline', binary_pipeline),\n",
    "    ('numerical_pipeline', numerical_pipeline)\n",
    "])\n",
    "\n",
    "simple_fe.fit_transform(x_train, y_train).shape\n",
    "\n",
    "best_model = simple_grid_search(x_train, y_train, x_test, y_test, simple_fe)"
   ]
  },
  {
   "cell_type": "code",
   "execution_count": null,
   "id": "nervous-possession",
   "metadata": {},
   "outputs": [],
   "source": [
    "numerical_pipeline = Pipeline(\n",
    "    [\n",
    "        ('select_numerical_features', FunctionTransformer(lambda df: df[numerical_columns])),\n",
    "        ('impute', SimpleImputer(strategy='mean')),  # try mean instead of median\n",
    "        ('scale', StandardScaler())  # scale our numerical features\n",
    "    ]\n",
    ")\n",
    "\n",
    "simple_fe = FeatureUnion([\n",
    "    ('risk_factors', risk_factor_pipeline),\n",
    "    ('binary_pipeline', binary_pipeline),\n",
    "    ('numerical_pipeline', numerical_pipeline)\n",
    "])\n",
    "\n",
    "# gained some precision for the COVID class\n",
    "best_model = simple_grid_search(x_train, y_train, x_test, y_test, simple_fe)"
   ]
  },
  {
   "cell_type": "code",
   "execution_count": null,
   "id": "unable-worth",
   "metadata": {},
   "outputs": [],
   "source": [
    "numerical_pipeline = Pipeline(\n",
    "    [\n",
    "        ('select_numerical_features', FunctionTransformer(lambda df: df[numerical_columns])),\n",
    "        ('impute', SimpleImputer(strategy='constant', fill_value=999)),  # try a constant 999\n",
    "        ('scale', StandardScaler())\n",
    "    ]\n",
    ")\n",
    "\n",
    "simple_fe = FeatureUnion([\n",
    "    ('risk_factors', risk_factor_pipeline),\n",
    "    ('binary_pipeline', binary_pipeline),\n",
    "    ('numerical_pipeline', numerical_pipeline)\n",
    "])\n",
    "\n",
    "# gained some precision for the COVID class\n",
    "best_model = simple_grid_search(x_train, y_train, x_test, y_test, simple_fe)"
   ]
  },
  {
   "cell_type": "code",
   "execution_count": null,
   "id": "choice-transmission",
   "metadata": {},
   "outputs": [],
   "source": []
  },
  {
   "cell_type": "code",
   "execution_count": null,
   "id": "solid-paste",
   "metadata": {},
   "outputs": [],
   "source": [
    "# Apply box-cox transformation after scaling data and impute using gaussian end of tail\n",
    "\n",
    "numerical_pipeline = Pipeline(\n",
    "    [\n",
    "        ('select_numerical_features', FunctionTransformer(lambda df: df[numerical_columns])),\n",
    "        ('box-cox', PowerTransformer(method='box-cox', standardize=True)),\n",
    "        ('turn_into_df', FunctionTransformer(lambda matrix: pd.DataFrame(matrix))),  # turn back into dataframe\n",
    "        ('end_of_tail', EndTailImputer(imputation_method='gaussian'))\n",
    "\n",
    "    ]\n",
    ")\n",
    "\n",
    "simple_fe = FeatureUnion([\n",
    "    ('risk_factors', risk_factor_pipeline),\n",
    "    ('binary_pipeline', binary_pipeline),\n",
    "    ('numerical_pipeline', numerical_pipeline)\n",
    "])\n",
    "\n",
    "# looking better\n",
    "best_model = simple_grid_search(x_train, y_train, x_test, y_test, simple_fe)"
   ]
  },
  {
   "cell_type": "code",
   "execution_count": null,
   "id": "exempt-evaluation",
   "metadata": {},
   "outputs": [],
   "source": [
    "from sklearn.preprocessing import KBinsDiscretizer  # we will use this module for binning our data\n",
    "\n",
    "# uniform will create bins of equal width\n",
    "binner = KBinsDiscretizer(n_bins=3, encode='ordinal', strategy='uniform')\n",
    "binned_data = binner.fit_transform(covid_flu[['Age']].dropna())\n",
    "pd.Series(binned_data.reshape(-1,)).plot(\n",
    "    title='Age (Uniform Binning)', kind='hist', xlabel='Age'\n",
    ")\n"
   ]
  },
  {
   "cell_type": "code",
   "execution_count": null,
   "id": "comfortable-shield",
   "metadata": {},
   "outputs": [],
   "source": [
    "# quantile will create bins of roughly equal height\n",
    "binner = KBinsDiscretizer(n_bins=3, encode='ordinal', strategy='quantile')\n",
    "binned_data = binner.fit_transform(covid_flu[['Age']].dropna())\n",
    "pd.Series(binned_data.reshape(-1,)).plot(\n",
    "    title='Age (Quantile Binning)', kind='hist', xlabel='Age'\n",
    ")\n"
   ]
  },
  {
   "cell_type": "code",
   "execution_count": null,
   "id": "suffering-error",
   "metadata": {},
   "outputs": [],
   "source": [
    "# kmeans will run a k-means cluster on each feature independently\n",
    "binner = KBinsDiscretizer(n_bins=3, encode='ordinal', strategy='kmeans')\n",
    "binned_data = binner.fit_transform(covid_flu[['Age']].dropna())\n",
    "pd.Series(binned_data.reshape(-1,)).plot(\n",
    "    title='Age (KMeans Binning)', kind='hist', xlabel='Age'\n",
    ")\n"
   ]
  },
  {
   "cell_type": "code",
   "execution_count": null,
   "id": "recreational-mentor",
   "metadata": {},
   "outputs": [],
   "source": []
  },
  {
   "cell_type": "code",
   "execution_count": null,
   "id": "legitimate-store",
   "metadata": {},
   "outputs": [],
   "source": [
    "numerical_pipeline = Pipeline(  # bin data after scaling and imputing\n",
    "    [\n",
    "        ('select_numerical_features', FunctionTransformer(lambda df: df[numerical_columns])),\n",
    "        ('box-cox', PowerTransformer(method='box-cox', standardize=True)),\n",
    "        ('turn_into_df', FunctionTransformer(lambda matrix: pd.DataFrame(matrix))),  # turn back into dataframe\n",
    "        ('end_of_tail', EndTailImputer(imputation_method='gaussian')),\n",
    "        ('ordinal_bins', KBinsDiscretizer(n_bins=10, encode='ordinal', strategy='kmeans'))\n",
    "    ]\n",
    ")\n",
    "\n",
    "simple_fe = FeatureUnion([\n",
    "    ('risk_factors', risk_factor_pipeline),\n",
    "    ('binary_pipeline', binary_pipeline),\n",
    "    ('numerical_pipeline', numerical_pipeline)\n",
    "])\n",
    "\n",
    "# so far one of our best set of results!\n",
    "best_model = simple_grid_search(x_train, y_train, x_test, y_test, simple_fe)"
   ]
  },
  {
   "cell_type": "code",
   "execution_count": null,
   "id": "motivated-wheat",
   "metadata": {},
   "outputs": [],
   "source": []
  },
  {
   "cell_type": "code",
   "execution_count": null,
   "id": "hired-helena",
   "metadata": {},
   "outputs": [],
   "source": []
  },
  {
   "cell_type": "code",
   "execution_count": null,
   "id": "innovative-jordan",
   "metadata": {},
   "outputs": [],
   "source": [
    "from sklearn.feature_selection import SelectKBest\n",
    "from sklearn.feature_selection import mutual_info_classif\n",
    "\n",
    "risk_factor_pipeline = Pipeline(  # add feature selection\n",
    "    [\n",
    "        ('select_risk_factor', FunctionTransformer(lambda df: df['RiskFactors'])),\n",
    "        ('dummify', DummifyRiskFactor()),\n",
    "        ('mutual_info', SelectKBest(mutual_info_classif, k=20)),  # feature selection based on mutual information\n",
    "    ]\n",
    ")\n",
    "\n",
    "\n",
    "simple_fe = FeatureUnion([\n",
    "    ('risk_factors', risk_factor_pipeline),\n",
    "    ('binary_pipeline', binary_pipeline),\n",
    "    ('numerical_pipeline', numerical_pipeline)\n",
    "])\n",
    "\n",
    "best_model = simple_grid_search(x_train, y_train, x_test, y_test, simple_fe)"
   ]
  },
  {
   "cell_type": "code",
   "execution_count": null,
   "id": "macro-clinton",
   "metadata": {},
   "outputs": [],
   "source": [
    "from sklearn.feature_selection import chi2\n",
    "\n",
    "risk_factor_pipeline = Pipeline(  # add feature selection\n",
    "    [\n",
    "        ('select_risk_factor', FunctionTransformer(lambda df: df['RiskFactors'])),\n",
    "        ('dummify', DummifyRiskFactor()),\n",
    "        ('chi2', SelectKBest(chi2, k=10))  # use chi2 to select features\n",
    "    ]\n",
    ")\n",
    "\n",
    "\n",
    "simple_fe = FeatureUnion([\n",
    "    ('risk_factors', risk_factor_pipeline),\n",
    "    ('binary_pipeline', binary_pipeline),\n",
    "    ('numerical_pipeline', numerical_pipeline)\n",
    "])\n",
    "\n",
    "best_model = simple_grid_search(x_train, y_train, x_test, y_test, simple_fe)\n"
   ]
  },
  {
   "cell_type": "code",
   "execution_count": null,
   "id": "bright-timothy",
   "metadata": {},
   "outputs": [],
   "source": [
    "from sklearn.feature_selection import SelectFromModel\n",
    "from sklearn.tree import DecisionTreeClassifier\n",
    "\n",
    "risk_factor_pipeline = Pipeline(\n",
    "    [\n",
    "        ('select_risk_factor', FunctionTransformer(lambda df: df['RiskFactors'])),\n",
    "        ('dummify', DummifyRiskFactor()),\n",
    "        # use a decision tree classifier to select features\n",
    "        ('tree_selector', SelectFromModel(max_features=20, estimator=DecisionTreeClassifier()))\n",
    "    ]\n",
    ")\n",
    "\n",
    "\n",
    "simple_fe = FeatureUnion([\n",
    "    ('risk_factors', risk_factor_pipeline),\n",
    "    ('binary_pipeline', binary_pipeline),\n",
    "    ('numerical_pipeline', numerical_pipeline)\n",
    "])\n",
    "\n",
    "# let's stop here\n",
    "best_model = simple_grid_search(x_train, y_train, x_test, y_test, simple_fe)"
   ]
  },
  {
   "cell_type": "code",
   "execution_count": null,
   "id": "stopped-relations",
   "metadata": {},
   "outputs": [],
   "source": []
  },
  {
   "cell_type": "code",
   "execution_count": null,
   "id": "compliant-mainstream",
   "metadata": {},
   "outputs": [],
   "source": [
    "# Let's take a look at our pipeline\n",
    "simple_fe.transformer_list"
   ]
  },
  {
   "cell_type": "code",
   "execution_count": null,
   "id": "enhanced-melbourne",
   "metadata": {},
   "outputs": [],
   "source": []
  },
  {
   "cell_type": "code",
   "execution_count": null,
   "id": "threaded-missile",
   "metadata": {},
   "outputs": [],
   "source": []
  },
  {
   "cell_type": "code",
   "execution_count": null,
   "id": "effective-referral",
   "metadata": {},
   "outputs": [],
   "source": []
  }
 ],
 "metadata": {
  "kernelspec": {
   "display_name": "Python 3 (ipykernel)",
   "language": "python",
   "name": "python3"
  },
  "language_info": {
   "codemirror_mode": {
    "name": "ipython",
    "version": 3
   },
   "file_extension": ".py",
   "mimetype": "text/x-python",
   "name": "python",
   "nbconvert_exporter": "python",
   "pygments_lexer": "ipython3",
   "version": "3.9.10"
  }
 },
 "nbformat": 4,
 "nbformat_minor": 5
}
