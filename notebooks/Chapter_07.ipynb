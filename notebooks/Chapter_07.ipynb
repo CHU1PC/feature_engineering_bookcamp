{
 "cells": [
  {
   "cell_type": "code",
   "execution_count": 133,
   "metadata": {},
   "outputs": [
    {
     "data": {
      "text/plain": [
       "'\\nTime-Series Case Study: Day-trading with Deep Learning \\n    Introduction to the Polygon.io stock dataset\\n    Setting up the problem statement and evaluation criteria\\n\\nFeature Construction\\n    Date/time related features\\n    Lag / Rolling Window features\\n    Expanding Window features\\n    Domain-specific features: MACD and Twitter Sentiment\\n    Feature Expansion\\n        Multivariate Feature Combinations\\n        Kernel-induced feature expansion\\n\\nFeature Selection\\n    Correlational analysis / Hypothesis testing\\n    Using machine learning to learn feature importances\\n    \\nFeature Extraction\\n    Using Fourier Analysis to transform time-series data\\n    \\nRecap & Conclusion\\n'"
      ]
     },
     "execution_count": 133,
     "metadata": {},
     "output_type": "execute_result"
    }
   ],
   "source": [
    "'''\n",
    "Time-Series Case Study: Day-trading with Deep Learning \n",
    "    Introduction to the Polygon.io stock dataset\n",
    "    Setting up the problem statement and evaluation criteria\n",
    "\n",
    "Feature Construction\n",
    "    Date/time related features\n",
    "    Lag / Rolling Window features\n",
    "    Expanding Window features\n",
    "    Domain-specific features: MACD and Twitter Sentiment\n",
    "    Feature Expansion\n",
    "        Multivariate Feature Combinations\n",
    "        Kernel-induced feature expansion\n",
    "\n",
    "Feature Selection\n",
    "    Correlational analysis / Hypothesis testing\n",
    "    Using machine learning to learn feature importances\n",
    "    \n",
    "Feature Extraction\n",
    "    Using Fourier Analysis to transform time-series data\n",
    "    \n",
    "Recap & Conclusion\n",
    "'''"
   ]
  },
  {
   "cell_type": "code",
   "execution_count": 134,
   "metadata": {},
   "outputs": [],
   "source": [
    "from sklearn.pipeline import Pipeline\n",
    "import pandas as pd\n",
    "import numpy as np\n",
    "from sklearn.preprocessing import FunctionTransformer\n",
    "from sklearn.feature_selection import RFE, RFECV\n",
    "from sklearn.svm import SVR, SVC\n",
    "from sklearn.ensemble import RandomForestClassifier, ExtraTreesClassifier\n",
    "from sklearn.model_selection import train_test_split\n",
    "import matplotlib.pyplot as plt\n",
    "import datetime\n",
    "import pandas as pd\n",
    "\n",
    "%matplotlib inline"
   ]
  },
  {
   "cell_type": "code",
   "execution_count": 135,
   "metadata": {},
   "outputs": [],
   "source": [
    "symbol = 'twlo'"
   ]
  },
  {
   "cell_type": "code",
   "execution_count": 136,
   "metadata": {},
   "outputs": [
    {
     "name": "stdout",
     "output_type": "stream",
     "text": [
      "(371166, 2)\n"
     ]
    },
    {
     "data": {
      "text/html": [
       "<div>\n",
       "<style scoped>\n",
       "    .dataframe tbody tr th:only-of-type {\n",
       "        vertical-align: middle;\n",
       "    }\n",
       "\n",
       "    .dataframe tbody tr th {\n",
       "        vertical-align: top;\n",
       "    }\n",
       "\n",
       "    .dataframe thead th {\n",
       "        text-align: right;\n",
       "    }\n",
       "</style>\n",
       "<table border=\"1\" class=\"dataframe\">\n",
       "  <thead>\n",
       "    <tr style=\"text-align: right;\">\n",
       "      <th></th>\n",
       "      <th>close</th>\n",
       "      <th>volume</th>\n",
       "    </tr>\n",
       "    <tr>\n",
       "      <th>date</th>\n",
       "      <th></th>\n",
       "      <th></th>\n",
       "    </tr>\n",
       "  </thead>\n",
       "  <tbody>\n",
       "    <tr>\n",
       "      <th>2021-07-08 12:55:00-07:00</th>\n",
       "      <td>385.022491</td>\n",
       "      <td>8706.0</td>\n",
       "    </tr>\n",
       "    <tr>\n",
       "      <th>2021-07-08 12:56:00-07:00</th>\n",
       "      <td>385.269989</td>\n",
       "      <td>2589.0</td>\n",
       "    </tr>\n",
       "    <tr>\n",
       "      <th>2021-07-08 12:57:00-07:00</th>\n",
       "      <td>384.929993</td>\n",
       "      <td>8974.0</td>\n",
       "    </tr>\n",
       "    <tr>\n",
       "      <th>2021-07-08 12:58:00-07:00</th>\n",
       "      <td>385.334991</td>\n",
       "      <td>13451.0</td>\n",
       "    </tr>\n",
       "    <tr>\n",
       "      <th>2021-07-08 12:59:00-07:00</th>\n",
       "      <td>384.640015</td>\n",
       "      <td>18742.0</td>\n",
       "    </tr>\n",
       "  </tbody>\n",
       "</table>\n",
       "</div>"
      ],
      "text/plain": [
       "                                close   volume\n",
       "date                                          \n",
       "2021-07-08 12:55:00-07:00  385.022491   8706.0\n",
       "2021-07-08 12:56:00-07:00  385.269989   2589.0\n",
       "2021-07-08 12:57:00-07:00  384.929993   8974.0\n",
       "2021-07-08 12:58:00-07:00  385.334991  13451.0\n",
       "2021-07-08 12:59:00-07:00  384.640015  18742.0"
      ]
     },
     "execution_count": 136,
     "metadata": {},
     "output_type": "execute_result"
    }
   ],
   "source": [
    "price_df = pd.read_csv(f\"../data/{symbol}.csv\")\n",
    "\n",
    "price_df.index = pd.to_datetime(price_df['date'])\n",
    "price_df.index = price_df.index.tz_convert('US/Pacific')\n",
    "\n",
    "price_df.sort_index(inplace=True)\n",
    "\n",
    "del price_df['date']\n",
    "print(price_df.shape)\n",
    "\n",
    "price_df = price_df['2020-07-08':'2021-07-08']\n",
    "\n",
    "price_df = price_df[price_df.index.map(lambda x: x.time() >= datetime.time(6, 30) and x.time() <= datetime.time(13, 0))]  # A\n",
    "# TODO Limit our data to normal trading hours only but use extended data to calculate predictions\n",
    "# 6:30 a.m. – 1:00 p.m.\n",
    "\n",
    "# price_df = price_df[:'2021-06-30']  # TODO re-save\n",
    "\n",
    "price_df.tail()"
   ]
  },
  {
   "cell_type": "code",
   "execution_count": 137,
   "metadata": {},
   "outputs": [
    {
     "data": {
      "text/plain": [
       "<AxesSubplot:xlabel='date'>"
      ]
     },
     "execution_count": 137,
     "metadata": {},
     "output_type": "execute_result"
    },
    {
     "data": {
      "image/png": "[encoded data removed]",
      "text/plain": [
       "<Figure size 432x288 with 1 Axes>"
      ]
     },
     "metadata": {
      "needs_background": "light"
     },
     "output_type": "display_data"
    }
   ],
   "source": [
    "price_df['close'].plot()"
   ]
  },
  {
   "cell_type": "code",
   "execution_count": 138,
   "metadata": {},
   "outputs": [
    {
     "data": {
      "text/plain": [
       "2    20166\n",
       "1    19859\n",
       "3    19771\n",
       "4    18434\n",
       "0    18024\n",
       "Name: feature__dayofweek, dtype: int64"
      ]
     },
     "execution_count": 138,
     "metadata": {},
     "output_type": "execute_result"
    }
   ],
   "source": [
    "# Datetime features\n",
    "\n",
    "price_df['feature__dayofweek'] = price_df.index.dayofweek\n",
    "price_df['feature__dayofweek'].value_counts()"
   ]
  },
  {
   "cell_type": "code",
   "execution_count": null,
   "metadata": {},
   "outputs": [],
   "source": []
  },
  {
   "cell_type": "code",
   "execution_count": 139,
   "metadata": {},
   "outputs": [],
   "source": [
    "daily_stats = pd.DataFrame()  # A\n",
    "\n",
    "# A a dataframe to hold statistics by day"
   ]
  },
  {
   "cell_type": "code",
   "execution_count": 140,
   "metadata": {},
   "outputs": [],
   "source": [
    "daily_stats['first_5_min_avg_close'] = price_df.groupby(price_df.index.date)['close'].apply(lambda x: x.head().mean())"
   ]
  },
  {
   "cell_type": "code",
   "execution_count": 141,
   "metadata": {},
   "outputs": [],
   "source": [
    "daily_stats['last_5_min_avg_close'] = price_df.groupby(price_df.index.date)['close'].apply(lambda x: x.tail().mean())"
   ]
  },
  {
   "cell_type": "code",
   "execution_count": 142,
   "metadata": {},
   "outputs": [],
   "source": [
    "daily_stats['feature__overnight_change_close'] = (daily_stats['first_5_min_avg_close'] - daily_stats['last_5_min_avg_close'].shift(1)) / daily_stats['last_5_min_avg_close'].shift(1)"
   ]
  },
  {
   "cell_type": "code",
   "execution_count": 143,
   "metadata": {},
   "outputs": [],
   "source": [
    "daily_stats['feature__monthly_pct_change_close'] = daily_stats['first_5_min_avg_close'].pct_change(periods=31)"
   ]
  },
  {
   "cell_type": "code",
   "execution_count": 144,
   "metadata": {},
   "outputs": [
    {
     "data": {
      "text/html": [
       "<div>\n",
       "<style scoped>\n",
       "    .dataframe tbody tr th:only-of-type {\n",
       "        vertical-align: middle;\n",
       "    }\n",
       "\n",
       "    .dataframe tbody tr th {\n",
       "        vertical-align: top;\n",
       "    }\n",
       "\n",
       "    .dataframe thead th {\n",
       "        text-align: right;\n",
       "    }\n",
       "</style>\n",
       "<table border=\"1\" class=\"dataframe\">\n",
       "  <thead>\n",
       "    <tr style=\"text-align: right;\">\n",
       "      <th></th>\n",
       "      <th>first_5_min_avg_close</th>\n",
       "      <th>last_5_min_avg_close</th>\n",
       "      <th>feature__overnight_change_close</th>\n",
       "      <th>feature__monthly_pct_change_close</th>\n",
       "    </tr>\n",
       "  </thead>\n",
       "  <tbody>\n",
       "    <tr>\n",
       "      <th>2020-07-08</th>\n",
       "      <td>237.975680</td>\n",
       "      <td>243.051000</td>\n",
       "      <td>NaN</td>\n",
       "      <td>NaN</td>\n",
       "    </tr>\n",
       "    <tr>\n",
       "      <th>2020-07-09</th>\n",
       "      <td>245.982160</td>\n",
       "      <td>245.631340</td>\n",
       "      <td>0.012060</td>\n",
       "      <td>NaN</td>\n",
       "    </tr>\n",
       "    <tr>\n",
       "      <th>2020-07-10</th>\n",
       "      <td>243.951000</td>\n",
       "      <td>240.884000</td>\n",
       "      <td>-0.006841</td>\n",
       "      <td>NaN</td>\n",
       "    </tr>\n",
       "    <tr>\n",
       "      <th>2020-07-13</th>\n",
       "      <td>241.795000</td>\n",
       "      <td>225.352000</td>\n",
       "      <td>0.003782</td>\n",
       "      <td>NaN</td>\n",
       "    </tr>\n",
       "    <tr>\n",
       "      <th>2020-07-14</th>\n",
       "      <td>223.668160</td>\n",
       "      <td>223.843000</td>\n",
       "      <td>-0.007472</td>\n",
       "      <td>NaN</td>\n",
       "    </tr>\n",
       "    <tr>\n",
       "      <th>...</th>\n",
       "      <td>...</td>\n",
       "      <td>...</td>\n",
       "      <td>...</td>\n",
       "      <td>...</td>\n",
       "    </tr>\n",
       "    <tr>\n",
       "      <th>2021-07-01</th>\n",
       "      <td>394.490320</td>\n",
       "      <td>386.239996</td>\n",
       "      <td>-0.001285</td>\n",
       "      <td>0.306463</td>\n",
       "    </tr>\n",
       "    <tr>\n",
       "      <th>2021-07-02</th>\n",
       "      <td>390.972504</td>\n",
       "      <td>389.064001</td>\n",
       "      <td>0.012253</td>\n",
       "      <td>0.342893</td>\n",
       "    </tr>\n",
       "    <tr>\n",
       "      <th>2021-07-06</th>\n",
       "      <td>388.284839</td>\n",
       "      <td>393.950006</td>\n",
       "      <td>-0.002003</td>\n",
       "      <td>0.289620</td>\n",
       "    </tr>\n",
       "    <tr>\n",
       "      <th>2021-07-07</th>\n",
       "      <td>399.926001</td>\n",
       "      <td>388.443561</td>\n",
       "      <td>0.015169</td>\n",
       "      <td>0.264159</td>\n",
       "    </tr>\n",
       "    <tr>\n",
       "      <th>2021-07-08</th>\n",
       "      <td>380.841559</td>\n",
       "      <td>385.039496</td>\n",
       "      <td>-0.019570</td>\n",
       "      <td>0.207495</td>\n",
       "    </tr>\n",
       "  </tbody>\n",
       "</table>\n",
       "<p>253 rows × 4 columns</p>\n",
       "</div>"
      ],
      "text/plain": [
       "            first_5_min_avg_close  last_5_min_avg_close  \\\n",
       "2020-07-08             237.975680            243.051000   \n",
       "2020-07-09             245.982160            245.631340   \n",
       "2020-07-10             243.951000            240.884000   \n",
       "2020-07-13             241.795000            225.352000   \n",
       "2020-07-14             223.668160            223.843000   \n",
       "...                           ...                   ...   \n",
       "2021-07-01             394.490320            386.239996   \n",
       "2021-07-02             390.972504            389.064001   \n",
       "2021-07-06             388.284839            393.950006   \n",
       "2021-07-07             399.926001            388.443561   \n",
       "2021-07-08             380.841559            385.039496   \n",
       "\n",
       "            feature__overnight_change_close  feature__monthly_pct_change_close  \n",
       "2020-07-08                              NaN                                NaN  \n",
       "2020-07-09                         0.012060                                NaN  \n",
       "2020-07-10                        -0.006841                                NaN  \n",
       "2020-07-13                         0.003782                                NaN  \n",
       "2020-07-14                        -0.007472                                NaN  \n",
       "...                                     ...                                ...  \n",
       "2021-07-01                        -0.001285                           0.306463  \n",
       "2021-07-02                         0.012253                           0.342893  \n",
       "2021-07-06                        -0.002003                           0.289620  \n",
       "2021-07-07                         0.015169                           0.264159  \n",
       "2021-07-08                        -0.019570                           0.207495  \n",
       "\n",
       "[253 rows x 4 columns]"
      ]
     },
     "execution_count": 144,
     "metadata": {},
     "output_type": "execute_result"
    }
   ],
   "source": [
    "daily_stats"
   ]
  },
  {
   "cell_type": "code",
   "execution_count": 145,
   "metadata": {},
   "outputs": [
    {
     "data": {
      "text/html": [
       "<div>\n",
       "<style scoped>\n",
       "    .dataframe tbody tr th:only-of-type {\n",
       "        vertical-align: middle;\n",
       "    }\n",
       "\n",
       "    .dataframe tbody tr th {\n",
       "        vertical-align: top;\n",
       "    }\n",
       "\n",
       "    .dataframe thead th {\n",
       "        text-align: right;\n",
       "    }\n",
       "</style>\n",
       "<table border=\"1\" class=\"dataframe\">\n",
       "  <thead>\n",
       "    <tr style=\"text-align: right;\">\n",
       "      <th></th>\n",
       "      <th>key_0</th>\n",
       "      <th>close</th>\n",
       "      <th>volume</th>\n",
       "      <th>feature__dayofweek</th>\n",
       "      <th>first_5_min_avg_close</th>\n",
       "      <th>last_5_min_avg_close</th>\n",
       "      <th>feature__overnight_change_close</th>\n",
       "      <th>feature__monthly_pct_change_close</th>\n",
       "    </tr>\n",
       "    <tr>\n",
       "      <th>date</th>\n",
       "      <th></th>\n",
       "      <th></th>\n",
       "      <th></th>\n",
       "      <th></th>\n",
       "      <th></th>\n",
       "      <th></th>\n",
       "      <th></th>\n",
       "      <th></th>\n",
       "    </tr>\n",
       "  </thead>\n",
       "  <tbody>\n",
       "    <tr>\n",
       "      <th>2020-07-08 06:30:00-07:00</th>\n",
       "      <td>2020-07-08</td>\n",
       "      <td>236.7300</td>\n",
       "      <td>46565.0</td>\n",
       "      <td>2</td>\n",
       "      <td>237.97568</td>\n",
       "      <td>243.051</td>\n",
       "      <td>NaN</td>\n",
       "      <td>NaN</td>\n",
       "    </tr>\n",
       "    <tr>\n",
       "      <th>2020-07-08 06:31:00-07:00</th>\n",
       "      <td>2020-07-08</td>\n",
       "      <td>237.3100</td>\n",
       "      <td>6603.0</td>\n",
       "      <td>2</td>\n",
       "      <td>237.97568</td>\n",
       "      <td>243.051</td>\n",
       "      <td>NaN</td>\n",
       "      <td>NaN</td>\n",
       "    </tr>\n",
       "    <tr>\n",
       "      <th>2020-07-08 06:32:00-07:00</th>\n",
       "      <td>2020-07-08</td>\n",
       "      <td>238.0800</td>\n",
       "      <td>15181.0</td>\n",
       "      <td>2</td>\n",
       "      <td>237.97568</td>\n",
       "      <td>243.051</td>\n",
       "      <td>NaN</td>\n",
       "      <td>NaN</td>\n",
       "    </tr>\n",
       "    <tr>\n",
       "      <th>2020-07-08 06:33:00-07:00</th>\n",
       "      <td>2020-07-08</td>\n",
       "      <td>238.4634</td>\n",
       "      <td>14304.0</td>\n",
       "      <td>2</td>\n",
       "      <td>237.97568</td>\n",
       "      <td>243.051</td>\n",
       "      <td>NaN</td>\n",
       "      <td>NaN</td>\n",
       "    </tr>\n",
       "    <tr>\n",
       "      <th>2020-07-08 06:34:00-07:00</th>\n",
       "      <td>2020-07-08</td>\n",
       "      <td>239.2950</td>\n",
       "      <td>11881.0</td>\n",
       "      <td>2</td>\n",
       "      <td>237.97568</td>\n",
       "      <td>243.051</td>\n",
       "      <td>NaN</td>\n",
       "      <td>NaN</td>\n",
       "    </tr>\n",
       "  </tbody>\n",
       "</table>\n",
       "</div>"
      ],
      "text/plain": [
       "                                key_0     close   volume  feature__dayofweek  \\\n",
       "date                                                                           \n",
       "2020-07-08 06:30:00-07:00  2020-07-08  236.7300  46565.0                   2   \n",
       "2020-07-08 06:31:00-07:00  2020-07-08  237.3100   6603.0                   2   \n",
       "2020-07-08 06:32:00-07:00  2020-07-08  238.0800  15181.0                   2   \n",
       "2020-07-08 06:33:00-07:00  2020-07-08  238.4634  14304.0                   2   \n",
       "2020-07-08 06:34:00-07:00  2020-07-08  239.2950  11881.0                   2   \n",
       "\n",
       "                           first_5_min_avg_close  last_5_min_avg_close  \\\n",
       "date                                                                     \n",
       "2020-07-08 06:30:00-07:00              237.97568               243.051   \n",
       "2020-07-08 06:31:00-07:00              237.97568               243.051   \n",
       "2020-07-08 06:32:00-07:00              237.97568               243.051   \n",
       "2020-07-08 06:33:00-07:00              237.97568               243.051   \n",
       "2020-07-08 06:34:00-07:00              237.97568               243.051   \n",
       "\n",
       "                           feature__overnight_change_close  \\\n",
       "date                                                         \n",
       "2020-07-08 06:30:00-07:00                              NaN   \n",
       "2020-07-08 06:31:00-07:00                              NaN   \n",
       "2020-07-08 06:32:00-07:00                              NaN   \n",
       "2020-07-08 06:33:00-07:00                              NaN   \n",
       "2020-07-08 06:34:00-07:00                              NaN   \n",
       "\n",
       "                           feature__monthly_pct_change_close  \n",
       "date                                                          \n",
       "2020-07-08 06:30:00-07:00                                NaN  \n",
       "2020-07-08 06:31:00-07:00                                NaN  \n",
       "2020-07-08 06:32:00-07:00                                NaN  \n",
       "2020-07-08 06:33:00-07:00                                NaN  \n",
       "2020-07-08 06:34:00-07:00                                NaN  "
      ]
     },
     "execution_count": 145,
     "metadata": {},
     "output_type": "execute_result"
    }
   ],
   "source": [
    "price_df = price_df.merge(daily_stats, left_on=price_df.index.date, right_index=True)\n",
    "\n",
    "price_df.head()"
   ]
  },
  {
   "cell_type": "code",
   "execution_count": 146,
   "metadata": {},
   "outputs": [
    {
     "data": {
      "text/plain": [
       "<AxesSubplot:xlabel='date'>"
      ]
     },
     "execution_count": 146,
     "metadata": {},
     "output_type": "execute_result"
    },
    {
     "data": {
      "image/png": "[encoded data removed]",
      "text/plain": [
       "<Figure size 1440x360 with 1 Axes>"
      ]
     },
     "metadata": {
      "needs_background": "light"
     },
     "output_type": "display_data"
    }
   ],
   "source": [
    "price_df['pct_change_eod'] = (price_df['last_5_min_avg_close'] - price_df['close']) / price_df['close']\n",
    "\n",
    "price_df['pct_change_eod'].plot(figsize=(20,5))"
   ]
  },
  {
   "cell_type": "code",
   "execution_count": 147,
   "metadata": {},
   "outputs": [],
   "source": [
    "price_df.dropna(inplace=True)"
   ]
  },
  {
   "cell_type": "code",
   "execution_count": 148,
   "metadata": {},
   "outputs": [
    {
     "data": {
      "text/plain": [
       "(84182, 9)"
      ]
     },
     "execution_count": 148,
     "metadata": {},
     "output_type": "execute_result"
    }
   ],
   "source": [
    "price_df.shape"
   ]
  },
  {
   "cell_type": "code",
   "execution_count": 149,
   "metadata": {},
   "outputs": [
    {
     "data": {
      "text/plain": [
       "True     43163\n",
       "False    41019\n",
       "Name: stock_price_rose, dtype: int64"
      ]
     },
     "execution_count": 149,
     "metadata": {},
     "output_type": "execute_result"
    }
   ],
   "source": [
    "price_df['stock_price_rose'] = price_df['pct_change_eod']  > 0\n",
    "\n",
    "price_df['stock_price_rose'].value_counts()"
   ]
  },
  {
   "cell_type": "code",
   "execution_count": null,
   "metadata": {},
   "outputs": [],
   "source": []
  },
  {
   "cell_type": "code",
   "execution_count": null,
   "metadata": {},
   "outputs": [],
   "source": []
  },
  {
   "cell_type": "code",
   "execution_count": null,
   "metadata": {},
   "outputs": [],
   "source": []
  },
  {
   "cell_type": "code",
   "execution_count": 150,
   "metadata": {},
   "outputs": [],
   "source": [
    "%run ./Base.ipynb"
   ]
  },
  {
   "cell_type": "code",
   "execution_count": 154,
   "metadata": {},
   "outputs": [],
   "source": [
    "from sklearn.pipeline import Pipeline  # A\n",
    "from sklearn.ensemble import RandomForestClassifier\n",
    "from sklearn.tree import DecisionTreeClassifier\n",
    "from sklearn.preprocessing import StandardScaler\n",
    "from sklearn.calibration import CalibratedClassifierCV\n",
    "\n",
    "\n",
    "downsized_price_df = price_df[price_df.index.minute == 30]  # A\n",
    "train_set, test_set = downsized_price_df[:'2021-05-31'], downsized_price_df['2021-06-01':]\n",
    "\n",
    "clf = RandomForestClassifier(n_estimators=50, max_depth=None, random_state=0)\n",
    "clf = DecisionTreeClassifier(max_depth=None)\n",
    "\n",
    "ml_pipeline = Pipeline([  # C\n",
    "    ('scale', StandardScaler()),\n",
    "    ('classifier', clf)\n",
    "])\n",
    "\n",
    "params = {  # C\n",
    "#     'classifier__n_estimators': [50, 100, 200, 500],\n",
    "#     'classifier__bootstrap': [False, True]\n",
    "    'classifier__criterion': ['gini', 'entropy'],\n",
    "    'classifier__min_samples_split': [2, 5, 10],\n",
    "    \n",
    "    'classifier__max_depth': [5, 10, None],\n",
    "    'classifier__max_features': [None, 'auto', 'sqrt']\n",
    "}\n",
    "\n",
    "# A limit our data to only make trades after 8 when the market has been open for 1.5 hours and before noon (with at most an hour before close)"
   ]
  },
  {
   "cell_type": "code",
   "execution_count": 155,
   "metadata": {},
   "outputs": [
    {
     "data": {
      "text/plain": [
       "True     0.508852\n",
       "False    0.491148\n",
       "Name: stock_price_rose, dtype: float64"
      ]
     },
     "execution_count": 155,
     "metadata": {},
     "output_type": "execute_result"
    }
   ],
   "source": [
    "downsized_price_df['stock_price_rose'].value_counts(normalize=True)"
   ]
  },
  {
   "cell_type": "code",
   "execution_count": 156,
   "metadata": {},
   "outputs": [
    {
     "data": {
      "text/html": [
       "<div>\n",
       "<style scoped>\n",
       "    .dataframe tbody tr th:only-of-type {\n",
       "        vertical-align: middle;\n",
       "    }\n",
       "\n",
       "    .dataframe tbody tr th {\n",
       "        vertical-align: top;\n",
       "    }\n",
       "\n",
       "    .dataframe thead th {\n",
       "        text-align: right;\n",
       "    }\n",
       "</style>\n",
       "<table border=\"1\" class=\"dataframe\">\n",
       "  <thead>\n",
       "    <tr style=\"text-align: right;\">\n",
       "      <th></th>\n",
       "      <th>key_0</th>\n",
       "      <th>close</th>\n",
       "      <th>volume</th>\n",
       "      <th>feature__dayofweek</th>\n",
       "      <th>first_5_min_avg_close</th>\n",
       "      <th>last_5_min_avg_close</th>\n",
       "      <th>feature__overnight_change_close</th>\n",
       "      <th>feature__monthly_pct_change_close</th>\n",
       "      <th>pct_change_eod</th>\n",
       "      <th>stock_price_rose</th>\n",
       "    </tr>\n",
       "    <tr>\n",
       "      <th>date</th>\n",
       "      <th></th>\n",
       "      <th></th>\n",
       "      <th></th>\n",
       "      <th></th>\n",
       "      <th></th>\n",
       "      <th></th>\n",
       "      <th></th>\n",
       "      <th></th>\n",
       "      <th></th>\n",
       "      <th></th>\n",
       "    </tr>\n",
       "  </thead>\n",
       "  <tbody>\n",
       "    <tr>\n",
       "      <th>2020-08-20 06:30:00-07:00</th>\n",
       "      <td>2020-08-20</td>\n",
       "      <td>248.079700</td>\n",
       "      <td>93916.0</td>\n",
       "      <td>3</td>\n",
       "      <td>247.897060</td>\n",
       "      <td>258.040000</td>\n",
       "      <td>-0.011133</td>\n",
       "      <td>0.041691</td>\n",
       "      <td>0.040150</td>\n",
       "      <td>True</td>\n",
       "    </tr>\n",
       "    <tr>\n",
       "      <th>2020-08-20 07:30:00-07:00</th>\n",
       "      <td>2020-08-20</td>\n",
       "      <td>254.720000</td>\n",
       "      <td>8895.0</td>\n",
       "      <td>3</td>\n",
       "      <td>247.897060</td>\n",
       "      <td>258.040000</td>\n",
       "      <td>-0.011133</td>\n",
       "      <td>0.041691</td>\n",
       "      <td>0.013034</td>\n",
       "      <td>True</td>\n",
       "    </tr>\n",
       "    <tr>\n",
       "      <th>2020-08-20 08:30:00-07:00</th>\n",
       "      <td>2020-08-20</td>\n",
       "      <td>255.670000</td>\n",
       "      <td>1423.0</td>\n",
       "      <td>3</td>\n",
       "      <td>247.897060</td>\n",
       "      <td>258.040000</td>\n",
       "      <td>-0.011133</td>\n",
       "      <td>0.041691</td>\n",
       "      <td>0.009270</td>\n",
       "      <td>True</td>\n",
       "    </tr>\n",
       "    <tr>\n",
       "      <th>2020-08-20 09:30:00-07:00</th>\n",
       "      <td>2020-08-20</td>\n",
       "      <td>255.090000</td>\n",
       "      <td>1465.0</td>\n",
       "      <td>3</td>\n",
       "      <td>247.897060</td>\n",
       "      <td>258.040000</td>\n",
       "      <td>-0.011133</td>\n",
       "      <td>0.041691</td>\n",
       "      <td>0.011565</td>\n",
       "      <td>True</td>\n",
       "    </tr>\n",
       "    <tr>\n",
       "      <th>2020-08-20 10:30:00-07:00</th>\n",
       "      <td>2020-08-20</td>\n",
       "      <td>257.480000</td>\n",
       "      <td>1047.0</td>\n",
       "      <td>3</td>\n",
       "      <td>247.897060</td>\n",
       "      <td>258.040000</td>\n",
       "      <td>-0.011133</td>\n",
       "      <td>0.041691</td>\n",
       "      <td>0.002175</td>\n",
       "      <td>True</td>\n",
       "    </tr>\n",
       "    <tr>\n",
       "      <th>...</th>\n",
       "      <td>...</td>\n",
       "      <td>...</td>\n",
       "      <td>...</td>\n",
       "      <td>...</td>\n",
       "      <td>...</td>\n",
       "      <td>...</td>\n",
       "      <td>...</td>\n",
       "      <td>...</td>\n",
       "      <td>...</td>\n",
       "      <td>...</td>\n",
       "    </tr>\n",
       "    <tr>\n",
       "      <th>2021-07-08 08:30:00-07:00</th>\n",
       "      <td>2021-07-08</td>\n",
       "      <td>379.869995</td>\n",
       "      <td>1258.0</td>\n",
       "      <td>3</td>\n",
       "      <td>380.841559</td>\n",
       "      <td>385.039496</td>\n",
       "      <td>-0.019570</td>\n",
       "      <td>0.207495</td>\n",
       "      <td>0.013609</td>\n",
       "      <td>True</td>\n",
       "    </tr>\n",
       "    <tr>\n",
       "      <th>2021-07-08 09:30:00-07:00</th>\n",
       "      <td>2021-07-08</td>\n",
       "      <td>382.859985</td>\n",
       "      <td>727.0</td>\n",
       "      <td>3</td>\n",
       "      <td>380.841559</td>\n",
       "      <td>385.039496</td>\n",
       "      <td>-0.019570</td>\n",
       "      <td>0.207495</td>\n",
       "      <td>0.005693</td>\n",
       "      <td>True</td>\n",
       "    </tr>\n",
       "    <tr>\n",
       "      <th>2021-07-08 10:30:00-07:00</th>\n",
       "      <td>2021-07-08</td>\n",
       "      <td>384.500000</td>\n",
       "      <td>1665.0</td>\n",
       "      <td>3</td>\n",
       "      <td>380.841559</td>\n",
       "      <td>385.039496</td>\n",
       "      <td>-0.019570</td>\n",
       "      <td>0.207495</td>\n",
       "      <td>0.001403</td>\n",
       "      <td>True</td>\n",
       "    </tr>\n",
       "    <tr>\n",
       "      <th>2021-07-08 11:30:00-07:00</th>\n",
       "      <td>2021-07-08</td>\n",
       "      <td>384.500000</td>\n",
       "      <td>949.0</td>\n",
       "      <td>3</td>\n",
       "      <td>380.841559</td>\n",
       "      <td>385.039496</td>\n",
       "      <td>-0.019570</td>\n",
       "      <td>0.207495</td>\n",
       "      <td>0.001403</td>\n",
       "      <td>True</td>\n",
       "    </tr>\n",
       "    <tr>\n",
       "      <th>2021-07-08 12:30:00-07:00</th>\n",
       "      <td>2021-07-08</td>\n",
       "      <td>383.704987</td>\n",
       "      <td>2290.0</td>\n",
       "      <td>3</td>\n",
       "      <td>380.841559</td>\n",
       "      <td>385.039496</td>\n",
       "      <td>-0.019570</td>\n",
       "      <td>0.207495</td>\n",
       "      <td>0.003478</td>\n",
       "      <td>True</td>\n",
       "    </tr>\n",
       "  </tbody>\n",
       "</table>\n",
       "<p>1525 rows × 10 columns</p>\n",
       "</div>"
      ],
      "text/plain": [
       "                                key_0       close   volume  \\\n",
       "date                                                         \n",
       "2020-08-20 06:30:00-07:00  2020-08-20  248.079700  93916.0   \n",
       "2020-08-20 07:30:00-07:00  2020-08-20  254.720000   8895.0   \n",
       "2020-08-20 08:30:00-07:00  2020-08-20  255.670000   1423.0   \n",
       "2020-08-20 09:30:00-07:00  2020-08-20  255.090000   1465.0   \n",
       "2020-08-20 10:30:00-07:00  2020-08-20  257.480000   1047.0   \n",
       "...                               ...         ...      ...   \n",
       "2021-07-08 08:30:00-07:00  2021-07-08  379.869995   1258.0   \n",
       "2021-07-08 09:30:00-07:00  2021-07-08  382.859985    727.0   \n",
       "2021-07-08 10:30:00-07:00  2021-07-08  384.500000   1665.0   \n",
       "2021-07-08 11:30:00-07:00  2021-07-08  384.500000    949.0   \n",
       "2021-07-08 12:30:00-07:00  2021-07-08  383.704987   2290.0   \n",
       "\n",
       "                           feature__dayofweek  first_5_min_avg_close  \\\n",
       "date                                                                   \n",
       "2020-08-20 06:30:00-07:00                   3             247.897060   \n",
       "2020-08-20 07:30:00-07:00                   3             247.897060   \n",
       "2020-08-20 08:30:00-07:00                   3             247.897060   \n",
       "2020-08-20 09:30:00-07:00                   3             247.897060   \n",
       "2020-08-20 10:30:00-07:00                   3             247.897060   \n",
       "...                                       ...                    ...   \n",
       "2021-07-08 08:30:00-07:00                   3             380.841559   \n",
       "2021-07-08 09:30:00-07:00                   3             380.841559   \n",
       "2021-07-08 10:30:00-07:00                   3             380.841559   \n",
       "2021-07-08 11:30:00-07:00                   3             380.841559   \n",
       "2021-07-08 12:30:00-07:00                   3             380.841559   \n",
       "\n",
       "                           last_5_min_avg_close  \\\n",
       "date                                              \n",
       "2020-08-20 06:30:00-07:00            258.040000   \n",
       "2020-08-20 07:30:00-07:00            258.040000   \n",
       "2020-08-20 08:30:00-07:00            258.040000   \n",
       "2020-08-20 09:30:00-07:00            258.040000   \n",
       "2020-08-20 10:30:00-07:00            258.040000   \n",
       "...                                         ...   \n",
       "2021-07-08 08:30:00-07:00            385.039496   \n",
       "2021-07-08 09:30:00-07:00            385.039496   \n",
       "2021-07-08 10:30:00-07:00            385.039496   \n",
       "2021-07-08 11:30:00-07:00            385.039496   \n",
       "2021-07-08 12:30:00-07:00            385.039496   \n",
       "\n",
       "                           feature__overnight_change_close  \\\n",
       "date                                                         \n",
       "2020-08-20 06:30:00-07:00                        -0.011133   \n",
       "2020-08-20 07:30:00-07:00                        -0.011133   \n",
       "2020-08-20 08:30:00-07:00                        -0.011133   \n",
       "2020-08-20 09:30:00-07:00                        -0.011133   \n",
       "2020-08-20 10:30:00-07:00                        -0.011133   \n",
       "...                                                    ...   \n",
       "2021-07-08 08:30:00-07:00                        -0.019570   \n",
       "2021-07-08 09:30:00-07:00                        -0.019570   \n",
       "2021-07-08 10:30:00-07:00                        -0.019570   \n",
       "2021-07-08 11:30:00-07:00                        -0.019570   \n",
       "2021-07-08 12:30:00-07:00                        -0.019570   \n",
       "\n",
       "                           feature__monthly_pct_change_close  pct_change_eod  \\\n",
       "date                                                                           \n",
       "2020-08-20 06:30:00-07:00                           0.041691        0.040150   \n",
       "2020-08-20 07:30:00-07:00                           0.041691        0.013034   \n",
       "2020-08-20 08:30:00-07:00                           0.041691        0.009270   \n",
       "2020-08-20 09:30:00-07:00                           0.041691        0.011565   \n",
       "2020-08-20 10:30:00-07:00                           0.041691        0.002175   \n",
       "...                                                      ...             ...   \n",
       "2021-07-08 08:30:00-07:00                           0.207495        0.013609   \n",
       "2021-07-08 09:30:00-07:00                           0.207495        0.005693   \n",
       "2021-07-08 10:30:00-07:00                           0.207495        0.001403   \n",
       "2021-07-08 11:30:00-07:00                           0.207495        0.001403   \n",
       "2021-07-08 12:30:00-07:00                           0.207495        0.003478   \n",
       "\n",
       "                           stock_price_rose  \n",
       "date                                         \n",
       "2020-08-20 06:30:00-07:00              True  \n",
       "2020-08-20 07:30:00-07:00              True  \n",
       "2020-08-20 08:30:00-07:00              True  \n",
       "2020-08-20 09:30:00-07:00              True  \n",
       "2020-08-20 10:30:00-07:00              True  \n",
       "...                                     ...  \n",
       "2021-07-08 08:30:00-07:00              True  \n",
       "2021-07-08 09:30:00-07:00              True  \n",
       "2021-07-08 10:30:00-07:00              True  \n",
       "2021-07-08 11:30:00-07:00              True  \n",
       "2021-07-08 12:30:00-07:00              True  \n",
       "\n",
       "[1525 rows x 10 columns]"
      ]
     },
     "execution_count": 156,
     "metadata": {},
     "output_type": "execute_result"
    }
   ],
   "source": [
    "downsized_price_df"
   ]
  },
  {
   "cell_type": "code",
   "execution_count": null,
   "metadata": {},
   "outputs": [],
   "source": []
  },
  {
   "cell_type": "code",
   "execution_count": 157,
   "metadata": {},
   "outputs": [],
   "source": [
    "from sklearn.model_selection import TimeSeriesSplit  # A\n",
    "\n",
    "tscv = TimeSeriesSplit(n_splits=2)  # A\n",
    "\n",
    "# A This splitter "
   ]
  },
  {
   "cell_type": "code",
   "execution_count": 158,
   "metadata": {},
   "outputs": [
    {
     "name": "stdout",
     "output_type": "stream",
     "text": [
      "Date-time features + Random Forest\n",
      "==========================\n",
      "              precision    recall  f1-score   support\n",
      "\n",
      "       False       0.47      0.74      0.57        81\n",
      "        True       0.60      0.32      0.42       101\n",
      "\n",
      "    accuracy                           0.51       182\n",
      "   macro avg       0.53      0.53      0.49       182\n",
      "weighted avg       0.54      0.51      0.48       182\n",
      "\n",
      "Best params: {'classifier__criterion': 'entropy', 'classifier__max_depth': 10, 'classifier__max_features': 'auto', 'classifier__min_samples_split': 5}\n",
      "Overall took 0.58 seconds\n"
     ]
    }
   ],
   "source": [
    "print(\"Date-time features + Random Forest\\n==========================\")\n",
    "best_model, test_preds, test_probas = advanced_grid_search(\n",
    "    train_set.filter(regex='feature__'), train_set['stock_price_rose'],  # B\n",
    "    test_set.filter(regex='feature__'), test_set['stock_price_rose'],   # B\n",
    "    ml_pipeline, params, \n",
    "    cv=tscv, include_probas=True  # C\n",
    ")\n"
   ]
  },
  {
   "cell_type": "code",
   "execution_count": 159,
   "metadata": {},
   "outputs": [],
   "source": [
    "def test_threshold(df, predictions, probas, threshold):\n",
    "    df['movement_correct_multiplier'] = (predictions == df['stock_price_rose']).map({True: 1, False: -1})\n",
    "    df_over_threshold = df[probas >= threshold].copy()\n",
    "    df_over_threshold['gain'] = df_over_threshold['movement_correct_multiplier'] * df_over_threshold['pct_change_eod'].abs()\n",
    "    gains = df_over_threshold.sort_index().groupby(df_over_threshold.index.date).head(1)['gain']\n",
    "    total_gains = gains.sum()\n",
    "    std_gains = gains.std()\n",
    "    print(f'Total Gains for threshold {threshold:.5f} is {total_gains:.3f} with std {std_gains:.3f}')\n",
    "    return gains, total_gains, std_gains\n"
   ]
  },
  {
   "cell_type": "code",
   "execution_count": 160,
   "metadata": {},
   "outputs": [],
   "source": [
    "def test_threshold(df, predictions):\n",
    "    df['movement_correct_multiplier'] = (predictions == df['stock_price_rose']).map({True: 1, False: -1})\n",
    "    df['gain'] = df['movement_correct_multiplier'] * df['pct_change_eod'].abs()\n",
    "    bullish = df[predictions == True]\n",
    "    bullish_gains = bullish.sort_index().groupby(bullish.index.date).head(1)['gain']\n",
    "    bullish_gains.cumsum().plot(label='Bullish Only', legend=True)\n",
    "    print(f'Total Gains for bullish is {bullish_gains.sum():.3f}')\n",
    "    \n",
    "    bearish = df[predictions == False]\n",
    "    bearish_gains = bearish.sort_index().groupby(bearish.index.date).head(1)['gain']\n",
    "    bearish_gains.cumsum().plot(label='Bearish Only', legend=True)\n",
    "    print(f'Total Gains for bearish is {bearish_gains.sum():.3f}')\n",
    "    \n",
    "    gains = df.sort_index().groupby(df.index.date).head(1)['gain']\n",
    "    gains.cumsum().plot(label='All Predictions', legend=True)\n",
    "    print(f'Total Gains for all predictions is {gains.sum():.3f}')\n"
   ]
  },
  {
   "cell_type": "code",
   "execution_count": 161,
   "metadata": {},
   "outputs": [
    {
     "name": "stdout",
     "output_type": "stream",
     "text": [
      "Total Gains for bullish is 0.070\n",
      "Total Gains for bearish is -0.057\n",
      "Total Gains for all predictions is 0.013\n"
     ]
    },
    {
     "data": {
      "image/png": "[encoded data removed]",
      "text/plain": [
       "<Figure size 432x288 with 1 Axes>"
      ]
     },
     "metadata": {
      "needs_background": "light"
     },
     "output_type": "display_data"
    }
   ],
   "source": [
    "test_threshold(test_set.copy(), test_preds)"
   ]
  },
  {
   "cell_type": "code",
   "execution_count": null,
   "metadata": {},
   "outputs": [],
   "source": []
  },
  {
   "cell_type": "code",
   "execution_count": null,
   "metadata": {},
   "outputs": [],
   "source": []
  },
  {
   "cell_type": "code",
   "execution_count": null,
   "metadata": {},
   "outputs": [],
   "source": []
  },
  {
   "cell_type": "code",
   "execution_count": null,
   "metadata": {},
   "outputs": [],
   "source": []
  },
  {
   "cell_type": "code",
   "execution_count": 163,
   "metadata": {},
   "outputs": [
    {
     "data": {
      "text/plain": [
       "<AxesSubplot:xlabel='date'>"
      ]
     },
     "execution_count": 163,
     "metadata": {},
     "output_type": "execute_result"
    },
    {
     "data": {
      "image/png": "[encoded data removed]",
      "text/plain": [
       "<Figure size 432x288 with 1 Axes>"
      ]
     },
     "metadata": {
      "needs_background": "light"
     },
     "output_type": "display_data"
    }
   ],
   "source": [
    "price_df['feature__rolling_close_mean_60'] = price_df['close'].rolling('60min').mean()\n",
    "\n",
    "price_df['feature__rolling_close_mean_60'].plot()"
   ]
  },
  {
   "cell_type": "code",
   "execution_count": null,
   "metadata": {},
   "outputs": [],
   "source": []
  },
  {
   "cell_type": "code",
   "execution_count": 164,
   "metadata": {},
   "outputs": [],
   "source": [
    "price_df['feature__rolling_close_std_60'] = price_df['close'].rolling('60min').std()\n",
    "price_df['feature__rolling_volume_mean_60'] = price_df['volume'].rolling('60min').mean()\n",
    "price_df['feature__rolling_volume_std_60'] = price_df['volume'].rolling('60min').std()\n",
    "\n",
    "price_df.dropna(inplace=True)"
   ]
  },
  {
   "cell_type": "code",
   "execution_count": 165,
   "metadata": {},
   "outputs": [
    {
     "data": {
      "text/plain": [
       "feature__monthly_pct_change_close   -0.051965\n",
       "feature__rolling_close_mean_60      -0.033683\n",
       "feature__dayofweek                  -0.025652\n",
       "feature__rolling_close_std_60        0.009157\n",
       "feature__overnight_change_close      0.011246\n",
       "feature__rolling_volume_mean_60      0.011296\n",
       "feature__rolling_volume_std_60       0.012812\n",
       "dtype: float64"
      ]
     },
     "execution_count": 165,
     "metadata": {},
     "output_type": "execute_result"
    }
   ],
   "source": [
    "price_df.filter(regex='feature__').corrwith(price_df['pct_change_eod']).sort_values()"
   ]
  },
  {
   "cell_type": "code",
   "execution_count": 166,
   "metadata": {},
   "outputs": [
    {
     "name": "stdout",
     "output_type": "stream",
     "text": [
      "Date-time features + Random Forest\n",
      "==========================\n",
      "              precision    recall  f1-score   support\n",
      "\n",
      "       False       0.39      0.53      0.45        68\n",
      "        True       0.48      0.34      0.40        87\n",
      "\n",
      "    accuracy                           0.43       155\n",
      "   macro avg       0.44      0.44      0.42       155\n",
      "weighted avg       0.44      0.43      0.42       155\n",
      "\n",
      "Best params: {'classifier__criterion': 'gini', 'classifier__max_depth': 5, 'classifier__max_features': 'sqrt', 'classifier__min_samples_split': 2}\n",
      "Overall took 0.70 seconds\n"
     ]
    }
   ],
   "source": [
    "\n",
    "downsized_price_df = price_df[price_df.index.minute == 30]  # A\n",
    "train_set, test_set = downsized_price_df[:'2021-05-31'], downsized_price_df['2021-06-01':]\n",
    "\n",
    "print(\"Date-time features + Random Forest\\n==========================\")\n",
    "best_model, test_preds, test_probas = advanced_grid_search(\n",
    "    train_set.filter(regex='feature__'), train_set['stock_price_rose'],  # B\n",
    "    test_set.filter(regex='feature__'), test_set['stock_price_rose'],   # B\n",
    "    ml_pipeline, params,\n",
    "    cv=tscv, include_probas=True  # C\n",
    ")\n"
   ]
  },
  {
   "cell_type": "code",
   "execution_count": 168,
   "metadata": {},
   "outputs": [
    {
     "name": "stdout",
     "output_type": "stream",
     "text": [
      "Total Gains for bullish is -0.034\n",
      "Total Gains for bearish is 0.001\n",
      "Total Gains for all predictions is -0.069\n"
     ]
    },
    {
     "data": {
      "image/png": "[encoded data removed]",
      "text/plain": [
       "<Figure size 432x288 with 1 Axes>"
      ]
     },
     "metadata": {
      "needs_background": "light"
     },
     "output_type": "display_data"
    }
   ],
   "source": [
    "test_threshold(test_set.copy(), test_preds)"
   ]
  },
  {
   "cell_type": "code",
   "execution_count": null,
   "metadata": {},
   "outputs": [],
   "source": []
  },
  {
   "cell_type": "code",
   "execution_count": 169,
   "metadata": {},
   "outputs": [
    {
     "data": {
      "text/html": [
       "<div>\n",
       "<style scoped>\n",
       "    .dataframe tbody tr th:only-of-type {\n",
       "        vertical-align: middle;\n",
       "    }\n",
       "\n",
       "    .dataframe tbody tr th {\n",
       "        vertical-align: top;\n",
       "    }\n",
       "\n",
       "    .dataframe thead th {\n",
       "        text-align: right;\n",
       "    }\n",
       "</style>\n",
       "<table border=\"1\" class=\"dataframe\">\n",
       "  <thead>\n",
       "    <tr style=\"text-align: right;\">\n",
       "      <th></th>\n",
       "      <th>text</th>\n",
       "      <th>tweet_unique_id</th>\n",
       "      <th>author_verified</th>\n",
       "      <th>num_followers</th>\n",
       "    </tr>\n",
       "    <tr>\n",
       "      <th>date_tweeted</th>\n",
       "      <th></th>\n",
       "      <th></th>\n",
       "      <th></th>\n",
       "      <th></th>\n",
       "    </tr>\n",
       "  </thead>\n",
       "  <tbody>\n",
       "    <tr>\n",
       "      <th>2021-07-08 22:47:30-07:00</th>\n",
       "      <td>RT @HonestInvesting: Iâd be perfectly fine h...</td>\n",
       "      <td>1.413374e+18</td>\n",
       "      <td>False</td>\n",
       "      <td>148.0</td>\n",
       "    </tr>\n",
       "    <tr>\n",
       "      <th>2021-07-08 22:55:44-07:00</th>\n",
       "      <td>RT @HonestInvesting: Iâd be perfectly fine h...</td>\n",
       "      <td>1.413376e+18</td>\n",
       "      <td>False</td>\n",
       "      <td>53.0</td>\n",
       "    </tr>\n",
       "    <tr>\n",
       "      <th>2021-07-08 23:12:26-07:00</th>\n",
       "      <td>RT @HonestInvesting: Iâd be perfectly fine h...</td>\n",
       "      <td>1.413381e+18</td>\n",
       "      <td>False</td>\n",
       "      <td>696.0</td>\n",
       "    </tr>\n",
       "    <tr>\n",
       "      <th>2021-07-08 23:24:17-07:00</th>\n",
       "      <td>RT @reilly_mcadams: Names everyone talks about...</td>\n",
       "      <td>1.413383e+18</td>\n",
       "      <td>False</td>\n",
       "      <td>4.0</td>\n",
       "    </tr>\n",
       "    <tr>\n",
       "      <th>2021-07-08 23:30:29-07:00</th>\n",
       "      <td>RT @HonestInvesting: Iâd be perfectly fine h...</td>\n",
       "      <td>1.413385e+18</td>\n",
       "      <td>False</td>\n",
       "      <td>138.0</td>\n",
       "    </tr>\n",
       "  </tbody>\n",
       "</table>\n",
       "</div>"
      ],
      "text/plain": [
       "                                                                        text  \\\n",
       "date_tweeted                                                                   \n",
       "2021-07-08 22:47:30-07:00  RT @HonestInvesting: Iâd be perfectly fine h...   \n",
       "2021-07-08 22:55:44-07:00  RT @HonestInvesting: Iâd be perfectly fine h...   \n",
       "2021-07-08 23:12:26-07:00  RT @HonestInvesting: Iâd be perfectly fine h...   \n",
       "2021-07-08 23:24:17-07:00  RT @reilly_mcadams: Names everyone talks about...   \n",
       "2021-07-08 23:30:29-07:00  RT @HonestInvesting: Iâd be perfectly fine h...   \n",
       "\n",
       "                           tweet_unique_id author_verified  num_followers  \n",
       "date_tweeted                                                               \n",
       "2021-07-08 22:47:30-07:00     1.413374e+18           False          148.0  \n",
       "2021-07-08 22:55:44-07:00     1.413376e+18           False           53.0  \n",
       "2021-07-08 23:12:26-07:00     1.413381e+18           False          696.0  \n",
       "2021-07-08 23:24:17-07:00     1.413383e+18           False            4.0  \n",
       "2021-07-08 23:30:29-07:00     1.413385e+18           False          138.0  "
      ]
     },
     "execution_count": 169,
     "metadata": {},
     "output_type": "execute_result"
    }
   ],
   "source": [
    "tweet_df = pd.read_csv(f\"../data/{symbol}_tweets.csv\", encoding='ISO-8859-1')\n",
    "\n",
    "tweet_df.index = pd.to_datetime(tweet_df['date_tweeted'])\n",
    "tweet_df.index = tweet_df.index.tz_convert('US/Pacific')\n",
    "del tweet_df['date_tweeted']\n",
    "\n",
    "tweet_df.sort_index(inplace=True)\n",
    "tweet_df.dropna(inplace=True)\n",
    "\n",
    "tweet_df = tweet_df['2020-07-08':'2021-07-08']\n",
    "\n",
    "\n",
    "tweet_df.tail()"
   ]
  },
  {
   "cell_type": "code",
   "execution_count": 170,
   "metadata": {},
   "outputs": [
    {
     "data": {
      "text/plain": [
       "<AxesSubplot:xlabel='date_tweeted'>"
      ]
     },
     "execution_count": 170,
     "metadata": {},
     "output_type": "execute_result"
    },
    {
     "data": {
      "image/png": "[encoded data removed]",
      "text/plain": [
       "<Figure size 432x288 with 1 Axes>"
      ]
     },
     "metadata": {
      "needs_background": "light"
     },
     "output_type": "display_data"
    }
   ],
   "source": [
    "rolling_120_min_total_tweets = tweet_df.resample('1T')['tweet_unique_id'].count().rolling('120T').sum()\n",
    "\n",
    "rolling_120_min_total_tweets.plot()"
   ]
  },
  {
   "cell_type": "code",
   "execution_count": 171,
   "metadata": {},
   "outputs": [
    {
     "data": {
      "text/plain": [
       "<AxesSubplot:xlabel='date_tweeted'>"
      ]
     },
     "execution_count": 171,
     "metadata": {},
     "output_type": "execute_result"
    },
    {
     "data": {
      "image/png": "[encoded data removed]",
      "text/plain": [
       "<Figure size 432x288 with 1 Axes>"
      ]
     },
     "metadata": {
      "needs_background": "light"
     },
     "output_type": "display_data"
    }
   ],
   "source": [
    "rolling_120_min_number_followers = tweet_df.resample('1T')['num_followers'].sum().rolling('120T').sum()\n",
    "\n",
    "rolling_120_min_number_followers.plot()"
   ]
  },
  {
   "cell_type": "code",
   "execution_count": 172,
   "metadata": {},
   "outputs": [
    {
     "data": {
      "text/html": [
       "<div>\n",
       "<style scoped>\n",
       "    .dataframe tbody tr th:only-of-type {\n",
       "        vertical-align: middle;\n",
       "    }\n",
       "\n",
       "    .dataframe tbody tr th {\n",
       "        vertical-align: top;\n",
       "    }\n",
       "\n",
       "    .dataframe thead th {\n",
       "        text-align: right;\n",
       "    }\n",
       "</style>\n",
       "<table border=\"1\" class=\"dataframe\">\n",
       "  <thead>\n",
       "    <tr style=\"text-align: right;\">\n",
       "      <th></th>\n",
       "      <th>feature__rolling_120_min_total_tweets</th>\n",
       "      <th>feature__rolling_120_min_number_followers</th>\n",
       "    </tr>\n",
       "    <tr>\n",
       "      <th>date_tweeted</th>\n",
       "      <th></th>\n",
       "      <th></th>\n",
       "    </tr>\n",
       "  </thead>\n",
       "  <tbody>\n",
       "    <tr>\n",
       "      <th>2020-07-08 00:45:00-07:00</th>\n",
       "      <td>1.0</td>\n",
       "      <td>31.0</td>\n",
       "    </tr>\n",
       "    <tr>\n",
       "      <th>2020-07-08 00:46:00-07:00</th>\n",
       "      <td>1.0</td>\n",
       "      <td>31.0</td>\n",
       "    </tr>\n",
       "    <tr>\n",
       "      <th>2020-07-08 00:47:00-07:00</th>\n",
       "      <td>1.0</td>\n",
       "      <td>31.0</td>\n",
       "    </tr>\n",
       "    <tr>\n",
       "      <th>2020-07-08 00:48:00-07:00</th>\n",
       "      <td>1.0</td>\n",
       "      <td>31.0</td>\n",
       "    </tr>\n",
       "    <tr>\n",
       "      <th>2020-07-08 00:49:00-07:00</th>\n",
       "      <td>1.0</td>\n",
       "      <td>31.0</td>\n",
       "    </tr>\n",
       "  </tbody>\n",
       "</table>\n",
       "</div>"
      ],
      "text/plain": [
       "                           feature__rolling_120_min_total_tweets  \\\n",
       "date_tweeted                                                       \n",
       "2020-07-08 00:45:00-07:00                                    1.0   \n",
       "2020-07-08 00:46:00-07:00                                    1.0   \n",
       "2020-07-08 00:47:00-07:00                                    1.0   \n",
       "2020-07-08 00:48:00-07:00                                    1.0   \n",
       "2020-07-08 00:49:00-07:00                                    1.0   \n",
       "\n",
       "                           feature__rolling_120_min_number_followers  \n",
       "date_tweeted                                                          \n",
       "2020-07-08 00:45:00-07:00                                       31.0  \n",
       "2020-07-08 00:46:00-07:00                                       31.0  \n",
       "2020-07-08 00:47:00-07:00                                       31.0  \n",
       "2020-07-08 00:48:00-07:00                                       31.0  \n",
       "2020-07-08 00:49:00-07:00                                       31.0  "
      ]
     },
     "execution_count": 172,
     "metadata": {},
     "output_type": "execute_result"
    }
   ],
   "source": [
    "twitter_stats = pd.DataFrame({\n",
    "    'feature__rolling_120_min_total_tweets': rolling_120_min_total_tweets,\n",
    "    'feature__rolling_120_min_number_followers': rolling_120_min_number_followers\n",
    "})\n",
    "twitter_stats.index = pd.to_datetime(twitter_stats.index)\n",
    "twitter_stats.index = twitter_stats.index.tz_convert('US/Pacific')\n",
    "\n",
    "twitter_stats.head()"
   ]
  },
  {
   "cell_type": "code",
   "execution_count": 173,
   "metadata": {},
   "outputs": [
    {
     "data": {
      "text/html": [
       "<div>\n",
       "<style scoped>\n",
       "    .dataframe tbody tr th:only-of-type {\n",
       "        vertical-align: middle;\n",
       "    }\n",
       "\n",
       "    .dataframe tbody tr th {\n",
       "        vertical-align: top;\n",
       "    }\n",
       "\n",
       "    .dataframe thead th {\n",
       "        text-align: right;\n",
       "    }\n",
       "</style>\n",
       "<table border=\"1\" class=\"dataframe\">\n",
       "  <thead>\n",
       "    <tr style=\"text-align: right;\">\n",
       "      <th></th>\n",
       "      <th>key_0</th>\n",
       "      <th>close</th>\n",
       "      <th>volume</th>\n",
       "      <th>feature__dayofweek</th>\n",
       "      <th>first_5_min_avg_close</th>\n",
       "      <th>last_5_min_avg_close</th>\n",
       "      <th>feature__overnight_change_close</th>\n",
       "      <th>feature__monthly_pct_change_close</th>\n",
       "      <th>pct_change_eod</th>\n",
       "      <th>stock_price_rose</th>\n",
       "      <th>feature__rolling_close_mean_60</th>\n",
       "      <th>feature__rolling_close_std_60</th>\n",
       "      <th>feature__rolling_volume_mean_60</th>\n",
       "      <th>feature__rolling_volume_std_60</th>\n",
       "      <th>feature__rolling_120_min_total_tweets</th>\n",
       "      <th>feature__rolling_120_min_number_followers</th>\n",
       "    </tr>\n",
       "  </thead>\n",
       "  <tbody>\n",
       "    <tr>\n",
       "      <th>2020-08-20 06:31:00-07:00</th>\n",
       "      <td>2020-08-20</td>\n",
       "      <td>247.9500</td>\n",
       "      <td>8543.0</td>\n",
       "      <td>3</td>\n",
       "      <td>247.89706</td>\n",
       "      <td>258.04</td>\n",
       "      <td>-0.011133</td>\n",
       "      <td>0.041691</td>\n",
       "      <td>0.040694</td>\n",
       "      <td>True</td>\n",
       "      <td>248.014850</td>\n",
       "      <td>0.091712</td>\n",
       "      <td>51229.500000</td>\n",
       "      <td>60367.827230</td>\n",
       "      <td>14.0</td>\n",
       "      <td>17779.0</td>\n",
       "    </tr>\n",
       "    <tr>\n",
       "      <th>2020-08-20 06:32:00-07:00</th>\n",
       "      <td>2020-08-20</td>\n",
       "      <td>247.5000</td>\n",
       "      <td>14724.0</td>\n",
       "      <td>3</td>\n",
       "      <td>247.89706</td>\n",
       "      <td>258.04</td>\n",
       "      <td>-0.011133</td>\n",
       "      <td>0.041691</td>\n",
       "      <td>0.042586</td>\n",
       "      <td>True</td>\n",
       "      <td>247.843233</td>\n",
       "      <td>0.304241</td>\n",
       "      <td>39061.000000</td>\n",
       "      <td>47606.243908</td>\n",
       "      <td>14.0</td>\n",
       "      <td>17779.0</td>\n",
       "    </tr>\n",
       "    <tr>\n",
       "      <th>2020-08-20 06:33:00-07:00</th>\n",
       "      <td>2020-08-20</td>\n",
       "      <td>247.7306</td>\n",
       "      <td>18897.0</td>\n",
       "      <td>3</td>\n",
       "      <td>247.89706</td>\n",
       "      <td>258.04</td>\n",
       "      <td>-0.011133</td>\n",
       "      <td>0.041691</td>\n",
       "      <td>0.041615</td>\n",
       "      <td>True</td>\n",
       "      <td>247.815075</td>\n",
       "      <td>0.254715</td>\n",
       "      <td>34020.000000</td>\n",
       "      <td>40156.564802</td>\n",
       "      <td>14.0</td>\n",
       "      <td>17779.0</td>\n",
       "    </tr>\n",
       "    <tr>\n",
       "      <th>2020-08-20 06:34:00-07:00</th>\n",
       "      <td>2020-08-20</td>\n",
       "      <td>248.2250</td>\n",
       "      <td>17339.0</td>\n",
       "      <td>3</td>\n",
       "      <td>247.89706</td>\n",
       "      <td>258.04</td>\n",
       "      <td>-0.011133</td>\n",
       "      <td>0.041691</td>\n",
       "      <td>0.039541</td>\n",
       "      <td>True</td>\n",
       "      <td>247.897060</td>\n",
       "      <td>0.286823</td>\n",
       "      <td>30683.800000</td>\n",
       "      <td>35567.730103</td>\n",
       "      <td>14.0</td>\n",
       "      <td>17779.0</td>\n",
       "    </tr>\n",
       "    <tr>\n",
       "      <th>2020-08-20 06:35:00-07:00</th>\n",
       "      <td>2020-08-20</td>\n",
       "      <td>248.3100</td>\n",
       "      <td>35462.0</td>\n",
       "      <td>3</td>\n",
       "      <td>247.89706</td>\n",
       "      <td>258.04</td>\n",
       "      <td>-0.011133</td>\n",
       "      <td>0.041691</td>\n",
       "      <td>0.039185</td>\n",
       "      <td>True</td>\n",
       "      <td>247.965883</td>\n",
       "      <td>0.306975</td>\n",
       "      <td>31480.166667</td>\n",
       "      <td>31872.495023</td>\n",
       "      <td>14.0</td>\n",
       "      <td>17779.0</td>\n",
       "    </tr>\n",
       "  </tbody>\n",
       "</table>\n",
       "</div>"
      ],
      "text/plain": [
       "                                key_0     close   volume  feature__dayofweek  \\\n",
       "2020-08-20 06:31:00-07:00  2020-08-20  247.9500   8543.0                   3   \n",
       "2020-08-20 06:32:00-07:00  2020-08-20  247.5000  14724.0                   3   \n",
       "2020-08-20 06:33:00-07:00  2020-08-20  247.7306  18897.0                   3   \n",
       "2020-08-20 06:34:00-07:00  2020-08-20  248.2250  17339.0                   3   \n",
       "2020-08-20 06:35:00-07:00  2020-08-20  248.3100  35462.0                   3   \n",
       "\n",
       "                           first_5_min_avg_close  last_5_min_avg_close  \\\n",
       "2020-08-20 06:31:00-07:00              247.89706                258.04   \n",
       "2020-08-20 06:32:00-07:00              247.89706                258.04   \n",
       "2020-08-20 06:33:00-07:00              247.89706                258.04   \n",
       "2020-08-20 06:34:00-07:00              247.89706                258.04   \n",
       "2020-08-20 06:35:00-07:00              247.89706                258.04   \n",
       "\n",
       "                           feature__overnight_change_close  \\\n",
       "2020-08-20 06:31:00-07:00                        -0.011133   \n",
       "2020-08-20 06:32:00-07:00                        -0.011133   \n",
       "2020-08-20 06:33:00-07:00                        -0.011133   \n",
       "2020-08-20 06:34:00-07:00                        -0.011133   \n",
       "2020-08-20 06:35:00-07:00                        -0.011133   \n",
       "\n",
       "                           feature__monthly_pct_change_close  pct_change_eod  \\\n",
       "2020-08-20 06:31:00-07:00                           0.041691        0.040694   \n",
       "2020-08-20 06:32:00-07:00                           0.041691        0.042586   \n",
       "2020-08-20 06:33:00-07:00                           0.041691        0.041615   \n",
       "2020-08-20 06:34:00-07:00                           0.041691        0.039541   \n",
       "2020-08-20 06:35:00-07:00                           0.041691        0.039185   \n",
       "\n",
       "                           stock_price_rose  feature__rolling_close_mean_60  \\\n",
       "2020-08-20 06:31:00-07:00              True                      248.014850   \n",
       "2020-08-20 06:32:00-07:00              True                      247.843233   \n",
       "2020-08-20 06:33:00-07:00              True                      247.815075   \n",
       "2020-08-20 06:34:00-07:00              True                      247.897060   \n",
       "2020-08-20 06:35:00-07:00              True                      247.965883   \n",
       "\n",
       "                           feature__rolling_close_std_60  \\\n",
       "2020-08-20 06:31:00-07:00                       0.091712   \n",
       "2020-08-20 06:32:00-07:00                       0.304241   \n",
       "2020-08-20 06:33:00-07:00                       0.254715   \n",
       "2020-08-20 06:34:00-07:00                       0.286823   \n",
       "2020-08-20 06:35:00-07:00                       0.306975   \n",
       "\n",
       "                           feature__rolling_volume_mean_60  \\\n",
       "2020-08-20 06:31:00-07:00                     51229.500000   \n",
       "2020-08-20 06:32:00-07:00                     39061.000000   \n",
       "2020-08-20 06:33:00-07:00                     34020.000000   \n",
       "2020-08-20 06:34:00-07:00                     30683.800000   \n",
       "2020-08-20 06:35:00-07:00                     31480.166667   \n",
       "\n",
       "                           feature__rolling_volume_std_60  \\\n",
       "2020-08-20 06:31:00-07:00                    60367.827230   \n",
       "2020-08-20 06:32:00-07:00                    47606.243908   \n",
       "2020-08-20 06:33:00-07:00                    40156.564802   \n",
       "2020-08-20 06:34:00-07:00                    35567.730103   \n",
       "2020-08-20 06:35:00-07:00                    31872.495023   \n",
       "\n",
       "                           feature__rolling_120_min_total_tweets  \\\n",
       "2020-08-20 06:31:00-07:00                                   14.0   \n",
       "2020-08-20 06:32:00-07:00                                   14.0   \n",
       "2020-08-20 06:33:00-07:00                                   14.0   \n",
       "2020-08-20 06:34:00-07:00                                   14.0   \n",
       "2020-08-20 06:35:00-07:00                                   14.0   \n",
       "\n",
       "                           feature__rolling_120_min_number_followers  \n",
       "2020-08-20 06:31:00-07:00                                    17779.0  \n",
       "2020-08-20 06:32:00-07:00                                    17779.0  \n",
       "2020-08-20 06:33:00-07:00                                    17779.0  \n",
       "2020-08-20 06:34:00-07:00                                    17779.0  \n",
       "2020-08-20 06:35:00-07:00                                    17779.0  "
      ]
     },
     "execution_count": 173,
     "metadata": {},
     "output_type": "execute_result"
    }
   ],
   "source": [
    "price_df = price_df.merge(twitter_stats, left_index=True, right_index=True)\n",
    "\n",
    "price_df.head()"
   ]
  },
  {
   "cell_type": "code",
   "execution_count": 174,
   "metadata": {},
   "outputs": [
    {
     "data": {
      "text/plain": [
       "feature__monthly_pct_change_close           -0.051965\n",
       "feature__rolling_close_mean_60              -0.033683\n",
       "feature__dayofweek                          -0.025652\n",
       "feature__rolling_close_std_60                0.009157\n",
       "feature__overnight_change_close              0.011246\n",
       "feature__rolling_volume_mean_60              0.011296\n",
       "feature__rolling_volume_std_60               0.012812\n",
       "feature__rolling_120_min_number_followers    0.019970\n",
       "feature__rolling_120_min_total_tweets        0.022983\n",
       "dtype: float64"
      ]
     },
     "execution_count": 174,
     "metadata": {},
     "output_type": "execute_result"
    }
   ],
   "source": [
    "price_df.filter(regex='feature__').corrwith(price_df['pct_change_eod']).sort_values()"
   ]
  },
  {
   "cell_type": "code",
   "execution_count": 175,
   "metadata": {},
   "outputs": [
    {
     "name": "stdout",
     "output_type": "stream",
     "text": [
      "Twitter Features + Random Forest\n",
      "==========================\n",
      "              precision    recall  f1-score   support\n",
      "\n",
      "       False       0.44      0.53      0.48        68\n",
      "        True       0.57      0.48      0.52        87\n",
      "\n",
      "    accuracy                           0.50       155\n",
      "   macro avg       0.51      0.51      0.50       155\n",
      "weighted avg       0.51      0.50      0.50       155\n",
      "\n",
      "Best params: {'classifier__criterion': 'entropy', 'classifier__max_depth': None, 'classifier__max_features': 'sqrt', 'classifier__min_samples_split': 5}\n",
      "Overall took 0.71 seconds\n"
     ]
    }
   ],
   "source": [
    "\n",
    "downsized_price_df = price_df[price_df.index.minute == 30]  # A\n",
    "train_set, test_set = downsized_price_df[:'2021-05-31'], downsized_price_df['2021-06-01':]\n",
    "\n",
    "\n",
    "print(\"Twitter Features + Random Forest\\n==========================\")\n",
    "best_model, test_preds, test_probas = advanced_grid_search(\n",
    "    train_set.filter(regex='feature__'), train_set['stock_price_rose'],  # B\n",
    "    test_set.filter(regex='feature__'), test_set['stock_price_rose'],   # B\n",
    "    ml_pipeline, params, \n",
    "    cv=tscv, include_probas=True  # C\n",
    ")\n"
   ]
  },
  {
   "cell_type": "code",
   "execution_count": 176,
   "metadata": {},
   "outputs": [
    {
     "name": "stdout",
     "output_type": "stream",
     "text": [
      "Total Gains for bullish is 0.013\n",
      "Total Gains for bearish is -0.015\n",
      "Total Gains for all predictions is 0.005\n"
     ]
    },
    {
     "data": {
      "image/png": "[encoded data removed]",
      "text/plain": [
       "<Figure size 432x288 with 1 Axes>"
      ]
     },
     "metadata": {
      "needs_background": "light"
     },
     "output_type": "display_data"
    }
   ],
   "source": [
    "test_threshold(test_set.copy(), test_preds)"
   ]
  },
  {
   "cell_type": "code",
   "execution_count": null,
   "metadata": {},
   "outputs": [],
   "source": []
  },
  {
   "cell_type": "code",
   "execution_count": 177,
   "metadata": {},
   "outputs": [
    {
     "name": "stdout",
     "output_type": "stream",
     "text": [
      "Date-time features + Random Fores  + RFE\n",
      "==========================\n",
      "              precision    recall  f1-score   support\n",
      "\n",
      "       False       0.47      0.81      0.60        68\n",
      "        True       0.67      0.30      0.41        87\n",
      "\n",
      "    accuracy                           0.52       155\n",
      "   macro avg       0.57      0.55      0.51       155\n",
      "weighted avg       0.58      0.52      0.49       155\n",
      "\n",
      "Best params: {'classifier__criterion': 'entropy', 'classifier__max_depth': None, 'classifier__max_features': None, 'classifier__min_samples_split': 5}\n",
      "Overall took 47.90 seconds\n"
     ]
    }
   ],
   "source": [
    "from sklearn.feature_selection import RFE\n",
    "from sklearn.tree import DecisionTreeClassifier\n",
    "from sklearn.linear_model import LogisticRegression\n",
    "\n",
    "ml_pipeline = Pipeline([  \n",
    "    ('scale', StandardScaler()),\n",
    "    ('rfe', RFE(estimator=RandomForestClassifier(n_estimators=50, max_depth=None, random_state=0))),  # A\n",
    "    ('classifier', clf)\n",
    "])\n",
    "\n",
    "\n",
    "print(\"Date-time features + Random Fores  + RFE\\n==========================\")\n",
    "best_model, test_preds, test_probas = advanced_grid_search(\n",
    "    train_set.filter(regex='feature__'), train_set['stock_price_rose'],  # B\n",
    "    test_set.filter(regex='feature__'), test_set['stock_price_rose'],   # B\n",
    "    ml_pipeline, params, \n",
    "    cv=tscv, include_probas=True  # C\n",
    ")"
   ]
  },
  {
   "cell_type": "code",
   "execution_count": 181,
   "metadata": {},
   "outputs": [
    {
     "data": {
      "text/plain": [
       "[('feature__dayofweek', 6),\n",
       " ('feature__overnight_change_close', 1),\n",
       " ('feature__monthly_pct_change_close', 1),\n",
       " ('feature__rolling_close_mean_60', 1),\n",
       " ('feature__rolling_close_std_60', 1),\n",
       " ('feature__rolling_volume_mean_60', 4),\n",
       " ('feature__rolling_volume_std_60', 2),\n",
       " ('feature__rolling_120_min_total_tweets', 5),\n",
       " ('feature__rolling_120_min_number_followers', 3)]"
      ]
     },
     "execution_count": 181,
     "metadata": {},
     "output_type": "execute_result"
    }
   ],
   "source": [
    "list(zip(train_set.filter(regex='feature__').columns, best_model.named_steps['rfe'].ranking_))  # A\n",
    "\n",
    "# A get  the ranking of features"
   ]
  },
  {
   "cell_type": "code",
   "execution_count": 182,
   "metadata": {},
   "outputs": [
    {
     "name": "stdout",
     "output_type": "stream",
     "text": [
      "Total Gains for bullish is 0.028\n",
      "Total Gains for bearish is 0.028\n",
      "Total Gains for all predictions is 0.081\n"
     ]
    },
    {
     "data": {
      "image/png": "[encoded data removed]",
      "text/plain": [
       "<Figure size 432x288 with 1 Axes>"
      ]
     },
     "metadata": {
      "needs_background": "light"
     },
     "output_type": "display_data"
    }
   ],
   "source": [
    "test_threshold(test_set.copy(), test_preds)"
   ]
  },
  {
   "cell_type": "code",
   "execution_count": 183,
   "metadata": {},
   "outputs": [
    {
     "data": {
      "text/html": [
       "<div>\n",
       "<style scoped>\n",
       "    .dataframe tbody tr th:only-of-type {\n",
       "        vertical-align: middle;\n",
       "    }\n",
       "\n",
       "    .dataframe tbody tr th {\n",
       "        vertical-align: top;\n",
       "    }\n",
       "\n",
       "    .dataframe thead th {\n",
       "        text-align: right;\n",
       "    }\n",
       "</style>\n",
       "<table border=\"1\" class=\"dataframe\">\n",
       "  <thead>\n",
       "    <tr style=\"text-align: right;\">\n",
       "      <th></th>\n",
       "      <th>text</th>\n",
       "      <th>tweet_unique_id</th>\n",
       "      <th>author_verified</th>\n",
       "      <th>num_followers</th>\n",
       "    </tr>\n",
       "    <tr>\n",
       "      <th>date_tweeted</th>\n",
       "      <th></th>\n",
       "      <th></th>\n",
       "      <th></th>\n",
       "      <th></th>\n",
       "    </tr>\n",
       "  </thead>\n",
       "  <tbody>\n",
       "    <tr>\n",
       "      <th>2020-07-08 00:45:30-07:00</th>\n",
       "      <td>RT @MadMraket: $TWLO \\n\\nGood EX. to hold 8 wk...</td>\n",
       "      <td>1.280770e+18</td>\n",
       "      <td>False</td>\n",
       "      <td>31.0</td>\n",
       "    </tr>\n",
       "    <tr>\n",
       "      <th>2020-07-08 01:09:05-07:00</th>\n",
       "      <td>RT @ospuy: ãã®æ¹ãä¿æãã¦ããè¦è...</td>\n",
       "      <td>1.280776e+18</td>\n",
       "      <td>False</td>\n",
       "      <td>139.0</td>\n",
       "    </tr>\n",
       "    <tr>\n",
       "      <th>2020-07-08 01:51:33-07:00</th>\n",
       "      <td>RT @MadMraket: $TWLO \\n\\nGood EX. to hold 8 wk...</td>\n",
       "      <td>1.280787e+18</td>\n",
       "      <td>False</td>\n",
       "      <td>6273.0</td>\n",
       "    </tr>\n",
       "    <tr>\n",
       "      <th>2020-07-08 03:03:11-07:00</th>\n",
       "      <td>$TWLO ã¯èªç¤¾ã§ä½¿ããã¨ã«ãªãã$30ã...</td>\n",
       "      <td>1.280805e+18</td>\n",
       "      <td>False</td>\n",
       "      <td>1.0</td>\n",
       "    </tr>\n",
       "    <tr>\n",
       "      <th>2020-07-08 03:17:27-07:00</th>\n",
       "      <td>RT @ospuy: ãã®æ¹ãä¿æãã¦ããè¦è...</td>\n",
       "      <td>1.280808e+18</td>\n",
       "      <td>False</td>\n",
       "      <td>112.0</td>\n",
       "    </tr>\n",
       "    <tr>\n",
       "      <th>...</th>\n",
       "      <td>...</td>\n",
       "      <td>...</td>\n",
       "      <td>...</td>\n",
       "      <td>...</td>\n",
       "    </tr>\n",
       "    <tr>\n",
       "      <th>2021-07-08 22:47:30-07:00</th>\n",
       "      <td>RT @HonestInvesting: Iâd be perfectly fine h...</td>\n",
       "      <td>1.413374e+18</td>\n",
       "      <td>False</td>\n",
       "      <td>148.0</td>\n",
       "    </tr>\n",
       "    <tr>\n",
       "      <th>2021-07-08 22:55:44-07:00</th>\n",
       "      <td>RT @HonestInvesting: Iâd be perfectly fine h...</td>\n",
       "      <td>1.413376e+18</td>\n",
       "      <td>False</td>\n",
       "      <td>53.0</td>\n",
       "    </tr>\n",
       "    <tr>\n",
       "      <th>2021-07-08 23:12:26-07:00</th>\n",
       "      <td>RT @HonestInvesting: Iâd be perfectly fine h...</td>\n",
       "      <td>1.413381e+18</td>\n",
       "      <td>False</td>\n",
       "      <td>696.0</td>\n",
       "    </tr>\n",
       "    <tr>\n",
       "      <th>2021-07-08 23:24:17-07:00</th>\n",
       "      <td>RT @reilly_mcadams: Names everyone talks about...</td>\n",
       "      <td>1.413383e+18</td>\n",
       "      <td>False</td>\n",
       "      <td>4.0</td>\n",
       "    </tr>\n",
       "    <tr>\n",
       "      <th>2021-07-08 23:30:29-07:00</th>\n",
       "      <td>RT @HonestInvesting: Iâd be perfectly fine h...</td>\n",
       "      <td>1.413385e+18</td>\n",
       "      <td>False</td>\n",
       "      <td>138.0</td>\n",
       "    </tr>\n",
       "  </tbody>\n",
       "</table>\n",
       "<p>38887 rows × 4 columns</p>\n",
       "</div>"
      ],
      "text/plain": [
       "                                                                        text  \\\n",
       "date_tweeted                                                                   \n",
       "2020-07-08 00:45:30-07:00  RT @MadMraket: $TWLO \\n\\nGood EX. to hold 8 wk...   \n",
       "2020-07-08 01:09:05-07:00  RT @ospuy: ãã®æ¹ãä¿æãã¦ããè¦è...   \n",
       "2020-07-08 01:51:33-07:00  RT @MadMraket: $TWLO \\n\\nGood EX. to hold 8 wk...   \n",
       "2020-07-08 03:03:11-07:00  $TWLO ã¯èªç¤¾ã§ä½¿ããã¨ã«ãªãã$30ã...   \n",
       "2020-07-08 03:17:27-07:00  RT @ospuy: ãã®æ¹ãä¿æãã¦ããè¦è...   \n",
       "...                                                                      ...   \n",
       "2021-07-08 22:47:30-07:00  RT @HonestInvesting: Iâd be perfectly fine h...   \n",
       "2021-07-08 22:55:44-07:00  RT @HonestInvesting: Iâd be perfectly fine h...   \n",
       "2021-07-08 23:12:26-07:00  RT @HonestInvesting: Iâd be perfectly fine h...   \n",
       "2021-07-08 23:24:17-07:00  RT @reilly_mcadams: Names everyone talks about...   \n",
       "2021-07-08 23:30:29-07:00  RT @HonestInvesting: Iâd be perfectly fine h...   \n",
       "\n",
       "                           tweet_unique_id author_verified  num_followers  \n",
       "date_tweeted                                                               \n",
       "2020-07-08 00:45:30-07:00     1.280770e+18           False           31.0  \n",
       "2020-07-08 01:09:05-07:00     1.280776e+18           False          139.0  \n",
       "2020-07-08 01:51:33-07:00     1.280787e+18           False         6273.0  \n",
       "2020-07-08 03:03:11-07:00     1.280805e+18           False            1.0  \n",
       "2020-07-08 03:17:27-07:00     1.280808e+18           False          112.0  \n",
       "...                                    ...             ...            ...  \n",
       "2021-07-08 22:47:30-07:00     1.413374e+18           False          148.0  \n",
       "2021-07-08 22:55:44-07:00     1.413376e+18           False           53.0  \n",
       "2021-07-08 23:12:26-07:00     1.413381e+18           False          696.0  \n",
       "2021-07-08 23:24:17-07:00     1.413383e+18           False            4.0  \n",
       "2021-07-08 23:30:29-07:00     1.413385e+18           False          138.0  \n",
       "\n",
       "[38887 rows x 4 columns]"
      ]
     },
     "execution_count": 183,
     "metadata": {},
     "output_type": "execute_result"
    }
   ],
   "source": [
    "tweet_df  #  TODO sentiment"
   ]
  },
  {
   "cell_type": "code",
   "execution_count": 185,
   "metadata": {},
   "outputs": [
    {
     "name": "stdout",
     "output_type": "stream",
     "text": [
      "Date-time features + Random Forest + Poly + RFE\n",
      "==========================\n",
      "              precision    recall  f1-score   support\n",
      "\n",
      "       False       0.44      0.69      0.54        68\n",
      "        True       0.56      0.31      0.40        87\n",
      "\n",
      "    accuracy                           0.48       155\n",
      "   macro avg       0.50      0.50      0.47       155\n",
      "weighted avg       0.51      0.48      0.46       155\n",
      "\n",
      "Best params: {'classifier__criterion': 'gini', 'classifier__max_depth': None, 'classifier__max_features': None, 'classifier__min_samples_split': 2, 'poly__degree': 2, 'poly__interaction_only': True}\n",
      "Overall took 15471.62 seconds\n"
     ]
    }
   ],
   "source": [
    "from sklearn.preprocessing import PolynomialFeatures\n",
    "\n",
    "ml_pipeline = Pipeline([  \n",
    "    ('scale', StandardScaler()),\n",
    "    ('poly', PolynomialFeatures(2, include_bias=False)),\n",
    "    ('rfe', RFE(estimator=RandomForestClassifier(n_estimators=50, max_depth=None, random_state=0))),  # A\n",
    "    ('classifier', clf)\n",
    "])\n",
    "\n",
    "params['poly__degree'] = [2, 3]\n",
    "params['poly__interaction_only'] = [False, True]\n",
    "\n",
    "\n",
    "print(\"Date-time features + Random Forest + Poly + RFE\\n==========================\")\n",
    "best_model, test_preds, test_probas = advanced_grid_search(\n",
    "    train_set.filter(regex='feature__'), train_set['stock_price_rose'],  # B\n",
    "    test_set.filter(regex='feature__'), test_set['stock_price_rose'],   # B\n",
    "    ml_pipeline, params, \n",
    "    cv=tscv, include_probas=True  # C\n",
    ")"
   ]
  },
  {
   "cell_type": "code",
   "execution_count": 187,
   "metadata": {},
   "outputs": [
    {
     "name": "stdout",
     "output_type": "stream",
     "text": [
      "Total Gains for bullish is 0.064\n",
      "Total Gains for bearish is 0.070\n",
      "Total Gains for all predictions is 0.121\n"
     ]
    },
    {
     "data": {
      "image/png": "[encoded data removed]",
      "text/plain": [
       "<Figure size 432x288 with 1 Axes>"
      ]
     },
     "metadata": {
      "needs_background": "light"
     },
     "output_type": "display_data"
    }
   ],
   "source": [
    "test_threshold(test_set.copy(), test_preds)"
   ]
  },
  {
   "cell_type": "code",
   "execution_count": null,
   "metadata": {},
   "outputs": [],
   "source": [
    "# TODO baseline with just guessing bullish or bearish every day"
   ]
  },
  {
   "cell_type": "code",
   "execution_count": null,
   "metadata": {},
   "outputs": [],
   "source": []
  },
  {
   "cell_type": "code",
   "execution_count": null,
   "metadata": {},
   "outputs": [],
   "source": []
  },
  {
   "cell_type": "code",
   "execution_count": null,
   "metadata": {},
   "outputs": [],
   "source": []
  },
  {
   "cell_type": "code",
   "execution_count": null,
   "metadata": {},
   "outputs": [],
   "source": []
  },
  {
   "cell_type": "code",
   "execution_count": null,
   "metadata": {},
   "outputs": [],
   "source": []
  },
  {
   "cell_type": "code",
   "execution_count": null,
   "metadata": {},
   "outputs": [],
   "source": []
  }
 ],
 "metadata": {
  "kernelspec": {
   "display_name": "Python 3",
   "language": "python",
   "name": "python3"
  },
  "language_info": {
   "codemirror_mode": {
    "name": "ipython",
    "version": 3
   },
   "file_extension": ".py",
   "mimetype": "text/x-python",
   "name": "python",
   "nbconvert_exporter": "python",
   "pygments_lexer": "ipython3",
   "version": "3.9.6"
  }
 },
 "nbformat": 4,
 "nbformat_minor": 4
}
