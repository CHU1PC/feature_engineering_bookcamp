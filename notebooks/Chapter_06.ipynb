{
 "cells": [
  {
   "cell_type": "code",
   "execution_count": 2,
   "id": "american-headquarters",
   "metadata": {},
   "outputs": [],
   "source": [
    "import numpy as np\n",
    "import pickle"
   ]
  },
  {
   "cell_type": "code",
   "execution_count": 125,
   "id": "varied-participant",
   "metadata": {},
   "outputs": [
    {
     "name": "stdout",
     "output_type": "stream",
     "text": [
      "Loading the training set\n",
      "Loading the testing set\n",
      "Loading the labels\n"
     ]
    }
   ],
   "source": [
    "def unpickle(file):  # A\n",
    "    with open(file, 'rb') as fo:\n",
    "        d = pickle.load(fo, encoding='bytes')\n",
    "    return d\n",
    "                                      \n",
    "def load_cifar(filenames):\n",
    "    training_images = []\n",
    "    training_labels = []\n",
    "\n",
    "    for file_name in filenames:\n",
    "        unpickled_images = unpickle(file_name)\n",
    "        images, labels = unpickled_images[b'data'], unpickled_images[b'labels']  # B\n",
    "        images = np.reshape(images,(-1, 3, 32, 32))  # C\n",
    "        images = np.transpose(images, (0, 2, 3, 1))  # C\n",
    "        training_images.append(images)\n",
    "        training_labels += labels\n",
    "\n",
    "    return np.vstack(training_images), training_labels\n",
    "\n",
    "print(\"Loading the training set\")\n",
    "training_files = [f'../data/cifar-10/data_batch_{i}' for i in range(1, 6)]  # D\n",
    "training_images, int_training_labels = load_cifar(training_files)  # D\n",
    "\n",
    "print(\"Loading the testing set\")\n",
    "training_files = ['../data/cifar-10/test_batch']  # D\n",
    "testing_images, int_testing_labels = load_cifar(training_files)  # D\n",
    "\n",
    "print(\"Loading the labels\")\n",
    "label_names = unpickle('../data/cifar-10/batches.meta')[b'label_names']  # E\n",
    "training_labels = [str(label_names[_]) for _ in int_training_labels]\n",
    "testing_labels = [str(label_names[_]) for _ in int_testing_labels]\n",
    "\n",
    "# A function to load the files from the main CIFAR site\n",
    "# B Grab the images and labels from the files\n",
    "# C reshape and transpose so our shape is (number_of_images, height, width, channels (RGB))\n",
    "# D Load up the training and testing images\n",
    "# E Load up the labels"
   ]
  },
  {
   "cell_type": "code",
   "execution_count": 134,
   "id": "legislative-method",
   "metadata": {},
   "outputs": [
    {
     "data": {
      "text/plain": [
       "'airplane, automobile, bird, cat, deer, dog, frog, horse, ship, truck'"
      ]
     },
     "execution_count": 134,
     "metadata": {},
     "output_type": "execute_result"
    }
   ],
   "source": [
    "', '.join([l.decode() for l in label_names])"
   ]
  },
  {
   "cell_type": "code",
   "execution_count": 129,
   "id": "exotic-frank",
   "metadata": {},
   "outputs": [
    {
     "name": "stdout",
     "output_type": "stream",
     "text": [
      "b'frog'\n"
     ]
    },
    {
     "data": {
      "text/plain": [
       "Text(0.5, 1.0, \"b'frog'\")"
      ]
     },
     "execution_count": 129,
     "metadata": {},
     "output_type": "execute_result"
    },
    {
     "data": {
      "image/png": "[encoded data removed]",
      "text/plain": [
       "<Figure size 432x288 with 1 Axes>"
      ]
     },
     "metadata": {
      "needs_background": "light"
     },
     "output_type": "display_data"
    }
   ],
   "source": [
    "import matplotlib.pyplot as plt\n",
    "print(training_labels[0])\n",
    "plt.imshow(training_images[0])\n",
    "plt.title(training_labels[0])"
   ]
  },
  {
   "cell_type": "code",
   "execution_count": 97,
   "id": "premier-rocket",
   "metadata": {},
   "outputs": [
    {
     "name": "stdout",
     "output_type": "stream",
     "text": [
      "b'cat'\n"
     ]
    },
    {
     "data": {
      "text/plain": [
       "<matplotlib.image.AxesImage at 0x14e097b20>"
      ]
     },
     "execution_count": 97,
     "metadata": {},
     "output_type": "execute_result"
    },
    {
     "data": {
      "image/png": "[encoded data removed]",
      "text/plain": [
       "<Figure size 432x288 with 1 Axes>"
      ]
     },
     "metadata": {
      "needs_background": "light"
     },
     "output_type": "display_data"
    }
   ],
   "source": [
    "print(testing_labels[0])\n",
    "plt.imshow(testing_images[0])"
   ]
  },
  {
   "cell_type": "code",
   "execution_count": 9,
   "id": "accessory-january",
   "metadata": {},
   "outputs": [
    {
     "data": {
      "text/plain": [
       "(50000, 32, 32, 3)"
      ]
     },
     "execution_count": 9,
     "metadata": {},
     "output_type": "execute_result"
    }
   ],
   "source": [
    "training_images.shape"
   ]
  },
  {
   "cell_type": "code",
   "execution_count": 137,
   "id": "retained-glasgow",
   "metadata": {},
   "outputs": [
    {
     "data": {
      "text/plain": [
       "array([59, 62, 63], dtype=uint8)"
      ]
     },
     "execution_count": 137,
     "metadata": {},
     "output_type": "execute_result"
    }
   ],
   "source": [
    "training_images[0][0, 0]  # RGB values of the top left pixel"
   ]
  },
  {
   "cell_type": "code",
   "execution_count": 10,
   "id": "intended-junior",
   "metadata": {},
   "outputs": [
    {
     "data": {
      "text/plain": [
       "(50000, 1024)"
      ]
     },
     "execution_count": 10,
     "metadata": {},
     "output_type": "execute_result"
    }
   ],
   "source": [
    "avg_training_images = training_images.mean(axis=3).reshape(50000,-1)  # A\n",
    "avg_testing_images = testing_images.mean(axis=3).reshape(10000,-1)  # A\n",
    "\n",
    "print(avg_training_images.shape)\n",
    "\n",
    "# A average the RGB values together and reshape to make a 1D vector for each image. \n",
    "# The shapes went from (50000, 32, 32, 3) --> (50000, 1024) == (50000, 32 * 32)"
   ]
  },
  {
   "cell_type": "code",
   "execution_count": 156,
   "id": "magnetic-tuning",
   "metadata": {},
   "outputs": [
    {
     "data": {
      "text/plain": [
       "<matplotlib.image.AxesImage at 0x10a5439d0>"
      ]
     },
     "execution_count": 156,
     "metadata": {},
     "output_type": "execute_result"
    },
    {
     "data": {
      "image/png": "[encoded data removed]",
      "text/plain": [
       "<Figure size 432x288 with 1 Axes>"
      ]
     },
     "metadata": {
      "needs_background": "light"
     },
     "output_type": "display_data"
    }
   ],
   "source": [
    "plt.imshow(training_images.mean(axis=3)[0], cmap='gray')"
   ]
  },
  {
   "cell_type": "code",
   "execution_count": 11,
   "id": "structured-fruit",
   "metadata": {},
   "outputs": [],
   "source": [
    "%run ./Base.ipynb"
   ]
  },
  {
   "cell_type": "code",
   "execution_count": 12,
   "id": "widespread-rainbow",
   "metadata": {},
   "outputs": [
    {
     "name": "stdout",
     "output_type": "stream",
     "text": [
      "Average Pixel Value + LogReg\n",
      "==========================\n"
     ]
    },
    {
     "name": "stderr",
     "output_type": "stream",
     "text": [
      "/usr/local/lib/python3.9/site-packages/sklearn/linear_model/_sag.py:328: ConvergenceWarning: The max_iter was reached which means the coef_ did not converge\n",
      "  warnings.warn(\"The max_iter was reached which means \"\n",
      "/usr/local/lib/python3.9/site-packages/sklearn/linear_model/_sag.py:328: ConvergenceWarning: The max_iter was reached which means the coef_ did not converge\n",
      "  warnings.warn(\"The max_iter was reached which means \"\n",
      "/usr/local/lib/python3.9/site-packages/sklearn/linear_model/_sag.py:328: ConvergenceWarning: The max_iter was reached which means the coef_ did not converge\n",
      "  warnings.warn(\"The max_iter was reached which means \"\n",
      "/usr/local/lib/python3.9/site-packages/sklearn/linear_model/_sag.py:328: ConvergenceWarning: The max_iter was reached which means the coef_ did not converge\n",
      "  warnings.warn(\"The max_iter was reached which means \"\n",
      "/usr/local/lib/python3.9/site-packages/sklearn/linear_model/_sag.py:328: ConvergenceWarning: The max_iter was reached which means the coef_ did not converge\n",
      "  warnings.warn(\"The max_iter was reached which means \"\n",
      "/usr/local/lib/python3.9/site-packages/sklearn/linear_model/_sag.py:328: ConvergenceWarning: The max_iter was reached which means the coef_ did not converge\n",
      "  warnings.warn(\"The max_iter was reached which means \"\n",
      "/usr/local/lib/python3.9/site-packages/sklearn/linear_model/_sag.py:328: ConvergenceWarning: The max_iter was reached which means the coef_ did not converge\n",
      "  warnings.warn(\"The max_iter was reached which means \"\n",
      "/usr/local/lib/python3.9/site-packages/sklearn/linear_model/_sag.py:328: ConvergenceWarning: The max_iter was reached which means the coef_ did not converge\n",
      "  warnings.warn(\"The max_iter was reached which means \"\n",
      "/usr/local/lib/python3.9/site-packages/sklearn/linear_model/_sag.py:328: ConvergenceWarning: The max_iter was reached which means the coef_ did not converge\n",
      "  warnings.warn(\"The max_iter was reached which means \"\n",
      "/usr/local/lib/python3.9/site-packages/sklearn/linear_model/_sag.py:328: ConvergenceWarning: The max_iter was reached which means the coef_ did not converge\n",
      "  warnings.warn(\"The max_iter was reached which means \"\n"
     ]
    },
    {
     "name": "stdout",
     "output_type": "stream",
     "text": [
      "               precision    recall  f1-score   support\n",
      "\n",
      "  b'airplane'       0.23      0.27      0.25      1000\n",
      "b'automobile'       0.34      0.35      0.35      1000\n",
      "      b'bird'       0.23      0.19      0.20      1000\n",
      "       b'cat'       0.19      0.15      0.17      1000\n",
      "      b'deer'       0.20      0.13      0.16      1000\n",
      "       b'dog'       0.26      0.30      0.28      1000\n",
      "      b'frog'       0.25      0.22      0.23      1000\n",
      "     b'horse'       0.26      0.23      0.25      1000\n",
      "      b'ship'       0.28      0.38      0.32      1000\n",
      "     b'truck'       0.36      0.41      0.38      1000\n",
      "\n",
      "     accuracy                           0.26     10000\n",
      "    macro avg       0.26      0.26      0.26     10000\n",
      " weighted avg       0.26      0.26      0.26     10000\n",
      "\n",
      "Best params: {'classifier__C': 10.0}\n",
      "Overall took 1148.33 seconds\n"
     ]
    },
    {
     "data": {
      "text/plain": [
       "Pipeline(steps=[('classifier', LogisticRegression(C=10.0, solver='saga'))])"
      ]
     },
     "execution_count": 12,
     "metadata": {},
     "output_type": "execute_result"
    }
   ],
   "source": [
    "from sklearn.pipeline import Pipeline  # A\n",
    "from sklearn.linear_model import LogisticRegression  # A\n",
    "\n",
    "clf = LogisticRegression(max_iter=100, solver='saga')  # B\n",
    "\n",
    "ml_pipeline = Pipeline([  # C\n",
    "    ('classifier', clf)\n",
    "])\n",
    "\n",
    "params = {  # C\n",
    "    'classifier__C': [1e-1, 1e0, 1e1]\n",
    "}\n",
    "\n",
    "print(\"Average Pixel Value + LogReg\\n==========================\")\n",
    "advanced_grid_search(   # D \n",
    "    avg_training_images, training_labels, avg_testing_images, testing_labels, \n",
    "    ml_pipeline, params\n",
    ")\n",
    "\n",
    "# A import ML packages\n",
    "# B Instantiate our simple Logistic Regression model\n",
    "# C Set up our simple grid search pipeline to try three different values for the LogReg model\n",
    "# D Run our grid search to get an accuracy value for our pipeline"
   ]
  },
  {
   "cell_type": "code",
   "execution_count": null,
   "id": "rotary-montana",
   "metadata": {},
   "outputs": [],
   "source": []
  },
  {
   "cell_type": "code",
   "execution_count": 201,
   "id": "smart-harvard",
   "metadata": {},
   "outputs": [
    {
     "name": "stdout",
     "output_type": "stream",
     "text": [
      "(1568,)\n"
     ]
    },
    {
     "data": {
      "image/png": "[encoded data removed]",
      "text/plain": [
       "<Figure size 576x288 with 2 Axes>"
      ]
     },
     "metadata": {
      "needs_background": "light"
     },
     "output_type": "display_data"
    },
    {
     "data": {
      "image/png": "[encoded data removed]",
      "text/plain": [
       "<Figure size 576x288 with 2 Axes>"
      ]
     },
     "metadata": {
      "needs_background": "light"
     },
     "output_type": "display_data"
    },
    {
     "data": {
      "image/png": "[encoded data removed]",
      "text/plain": [
       "<Figure size 576x288 with 2 Axes>"
      ]
     },
     "metadata": {
      "needs_background": "light"
     },
     "output_type": "display_data"
    }
   ],
   "source": [
    "# derived from https://scikit-image.org/docs/dev/auto_examples/features_detection/plot_hog.html\n",
    "\n",
    "from skimage.feature import hog  # A\n",
    "from skimage import data, exposure  # A\n",
    "from skimage.transform import resize  # A\n",
    "\n",
    "for image in training_images[:3]:\n",
    "\n",
    "    hog_features, hog_image = hog(  # B\n",
    "        image,\n",
    "        orientations=8, pixels_per_cell=(4, 4), cells_per_block=(2, 2), visualize=True,\n",
    "        transform_sqrt=True, block_norm='L2-Hys')\n",
    "\n",
    "    fig, (ax1, ax2) = plt.subplots(1, 2, figsize=(8, 4), sharex=True, sharey=True)  # C\n",
    "\n",
    "    ax1.axis('off')  # C\n",
    "    ax1.imshow(image, cmap=plt.cm.gray)  # C\n",
    "    ax1.set_title('Input image')  # C\n",
    "\n",
    "    ax2.axis('off')  # C\n",
    "    ax2.imshow(hog_image, cmap=plt.cm.gray)  # C\n",
    "    ax2.set_title('Histogram of Oriented Gradients')  # C\n",
    "    \n",
    "print(hog_features.shape)  # D\n",
    "plt.show()\n",
    "\n",
    "# A Import functions from scikit-image\n",
    "# B Calculate HOG for 3 of our training images\n",
    "# C Plot the HOG next to the original images\n",
    "# D the size of the feature vector"
   ]
  },
  {
   "cell_type": "code",
   "execution_count": 202,
   "id": "nervous-dayton",
   "metadata": {},
   "outputs": [
    {
     "name": "stderr",
     "output_type": "stream",
     "text": [
      "100%|██████████| 50000/50000 [01:17<00:00, 642.60it/s]\n",
      "100%|██████████| 10000/10000 [00:14<00:00, 667.66it/s]\n"
     ]
    }
   ],
   "source": [
    "from tqdm import tqdm   # A\n",
    "\n",
    "def calculate_hogs(images):  # B\n",
    "    hog_descriptors = []\n",
    "    for image in tqdm(np.sqrt(images)):\n",
    "        hog_descriptors.append(hog(\n",
    "            image, orientations=8, pixels_per_cell=(4, 4), cells_per_block=(2, 2), \n",
    "            transform_sqrt=True, block_norm='L2-Hys', visualize=False\n",
    "        ))\n",
    "\n",
    "    return np.squeeze(hog_descriptors)\n",
    "\n",
    "hog_training = calculate_hogs(training_images)\n",
    "hog_testing = calculate_hogs(testing_images)\n",
    "\n",
    "# A tqdm will give us a progress bar so we can see how long it takes to calculate our HOGs\n",
    "# B function to calculate HOGs for a set of images"
   ]
  },
  {
   "cell_type": "code",
   "execution_count": 203,
   "id": "combined-apartment",
   "metadata": {},
   "outputs": [
    {
     "data": {
      "text/plain": [
       "(50000, 1568)"
      ]
     },
     "execution_count": 203,
     "metadata": {},
     "output_type": "execute_result"
    }
   ],
   "source": [
    "hog_training.shape"
   ]
  },
  {
   "cell_type": "code",
   "execution_count": 204,
   "id": "absolute-excellence",
   "metadata": {},
   "outputs": [
    {
     "data": {
      "text/plain": [
       "(10000, 1568)"
      ]
     },
     "execution_count": 204,
     "metadata": {},
     "output_type": "execute_result"
    }
   ],
   "source": [
    "hog_testing.shape"
   ]
  },
  {
   "cell_type": "code",
   "execution_count": 208,
   "id": "second-senior",
   "metadata": {},
   "outputs": [
    {
     "name": "stdout",
     "output_type": "stream",
     "text": [
      "HOG + LogReg\n",
      "=====================\n"
     ]
    },
    {
     "name": "stderr",
     "output_type": "stream",
     "text": [
      "/usr/local/lib/python3.9/site-packages/sklearn/linear_model/_sag.py:328: ConvergenceWarning: The max_iter was reached which means the coef_ did not converge\n",
      "  warnings.warn(\"The max_iter was reached which means \"\n",
      "/usr/local/lib/python3.9/site-packages/sklearn/linear_model/_sag.py:328: ConvergenceWarning: The max_iter was reached which means the coef_ did not converge\n",
      "  warnings.warn(\"The max_iter was reached which means \"\n",
      "/usr/local/lib/python3.9/site-packages/sklearn/linear_model/_sag.py:328: ConvergenceWarning: The max_iter was reached which means the coef_ did not converge\n",
      "  warnings.warn(\"The max_iter was reached which means \"\n",
      "/usr/local/lib/python3.9/site-packages/sklearn/linear_model/_sag.py:328: ConvergenceWarning: The max_iter was reached which means the coef_ did not converge\n",
      "  warnings.warn(\"The max_iter was reached which means \"\n",
      "/usr/local/lib/python3.9/site-packages/sklearn/linear_model/_sag.py:328: ConvergenceWarning: The max_iter was reached which means the coef_ did not converge\n",
      "  warnings.warn(\"The max_iter was reached which means \"\n",
      "/usr/local/lib/python3.9/site-packages/sklearn/linear_model/_sag.py:328: ConvergenceWarning: The max_iter was reached which means the coef_ did not converge\n",
      "  warnings.warn(\"The max_iter was reached which means \"\n"
     ]
    },
    {
     "name": "stdout",
     "output_type": "stream",
     "text": [
      "               precision    recall  f1-score   support\n",
      "\n",
      "  b'airplane'       0.61      0.61      0.61      1000\n",
      "b'automobile'       0.68      0.69      0.69      1000\n",
      "      b'bird'       0.43      0.37      0.40      1000\n",
      "       b'cat'       0.42      0.36      0.39      1000\n",
      "      b'deer'       0.47      0.50      0.49      1000\n",
      "       b'dog'       0.47      0.44      0.46      1000\n",
      "      b'frog'       0.56      0.69      0.62      1000\n",
      "     b'horse'       0.58      0.60      0.59      1000\n",
      "      b'ship'       0.64      0.64      0.64      1000\n",
      "     b'truck'       0.68      0.70      0.69      1000\n",
      "\n",
      "     accuracy                           0.56     10000\n",
      "    macro avg       0.55      0.56      0.56     10000\n",
      " weighted avg       0.55      0.56      0.56     10000\n",
      "\n",
      "Best params: {'classifier__C': 0.1}\n",
      "Overall took 1480.04 seconds\n"
     ]
    },
    {
     "data": {
      "text/plain": [
       "Pipeline(steps=[('classifier', LogisticRegression(C=0.1, solver='saga'))])"
      ]
     },
     "execution_count": 208,
     "metadata": {},
     "output_type": "execute_result"
    }
   ],
   "source": [
    "print(\"HOG + LogReg\\n=====================\")\n",
    "advanced_grid_search(\n",
    "    hog_training, training_labels, hog_testing, testing_labels, \n",
    "    ml_pipeline, params\n",
    ")"
   ]
  },
  {
   "cell_type": "code",
   "execution_count": null,
   "id": "naughty-angola",
   "metadata": {},
   "outputs": [],
   "source": []
  },
  {
   "cell_type": "code",
   "execution_count": 20,
   "id": "floating-africa",
   "metadata": {},
   "outputs": [
    {
     "data": {
      "text/plain": [
       "PCA(n_components=1568)"
      ]
     },
     "execution_count": 20,
     "metadata": {},
     "output_type": "execute_result"
    }
   ],
   "source": []
  },
  {
   "cell_type": "code",
   "execution_count": 209,
   "id": "domestic-wrist",
   "metadata": {},
   "outputs": [
    {
     "data": {
      "text/plain": [
       "Text(0, 0.5, '% of Explained Variance')"
      ]
     },
     "execution_count": 209,
     "metadata": {},
     "output_type": "execute_result"
    },
    {
     "data": {
      "image/png": "[encoded data removed]",
      "text/plain": [
       "<Figure size 432x288 with 1 Axes>"
      ]
     },
     "metadata": {
      "needs_background": "light"
     },
     "output_type": "display_data"
    }
   ],
   "source": [
    "from sklearn.decomposition import PCA  # A\n",
    "\n",
    "num_hog_features = hog_training.shape[1]  # B\n",
    "\n",
    "p = PCA(n_components=num_hog_features)  # C\n",
    "p.fit(hog_training)  # C\n",
    "\n",
    "plt.plot(p.explained_variance_ratio_.cumsum())  # D\n",
    "plt.title('Explained Variance vs # of PCA Components')\n",
    "plt.xlabel('Number of Components')\n",
    "plt.ylabel('% of Explained Variance')\n",
    "\n",
    "# A import our Principcal Component Analysis module\n",
    "# B Number of features from the original HOG transformation\n",
    "# C Fit the PCA module to the HOG matrix\n",
    "# D Visualize the cumulative explained variance"
   ]
  },
  {
   "cell_type": "code",
   "execution_count": null,
   "id": "prostate-raleigh",
   "metadata": {},
   "outputs": [],
   "source": []
  },
  {
   "cell_type": "code",
   "execution_count": 210,
   "id": "yellow-duncan",
   "metadata": {},
   "outputs": [
    {
     "name": "stdout",
     "output_type": "stream",
     "text": [
      "HOG + PCA + LogReg\n",
      "=====================\n"
     ]
    },
    {
     "name": "stderr",
     "output_type": "stream",
     "text": [
      "/usr/local/lib/python3.9/site-packages/sklearn/linear_model/_sag.py:328: ConvergenceWarning: The max_iter was reached which means the coef_ did not converge\n",
      "  warnings.warn(\"The max_iter was reached which means \"\n",
      "/usr/local/lib/python3.9/site-packages/sklearn/linear_model/_sag.py:328: ConvergenceWarning: The max_iter was reached which means the coef_ did not converge\n",
      "  warnings.warn(\"The max_iter was reached which means \"\n"
     ]
    },
    {
     "name": "stdout",
     "output_type": "stream",
     "text": [
      "               precision    recall  f1-score   support\n",
      "\n",
      "  b'airplane'       0.60      0.60      0.60      1000\n",
      "b'automobile'       0.68      0.69      0.68      1000\n",
      "      b'bird'       0.44      0.37      0.40      1000\n",
      "       b'cat'       0.42      0.35      0.38      1000\n",
      "      b'deer'       0.46      0.50      0.48      1000\n",
      "       b'dog'       0.48      0.45      0.46      1000\n",
      "      b'frog'       0.56      0.69      0.62      1000\n",
      "     b'horse'       0.58      0.59      0.58      1000\n",
      "      b'ship'       0.63      0.63      0.63      1000\n",
      "     b'truck'       0.68      0.70      0.69      1000\n",
      "\n",
      "     accuracy                           0.56     10000\n",
      "    macro avg       0.55      0.56      0.55     10000\n",
      " weighted avg       0.55      0.56      0.55     10000\n",
      "\n",
      "Best params: {'classifier__C': 0.1}\n",
      "Overall took 389.02 seconds\n"
     ]
    },
    {
     "data": {
      "text/plain": [
       "Pipeline(steps=[('classifier', LogisticRegression(C=0.1, solver='saga'))])"
      ]
     },
     "execution_count": 210,
     "metadata": {},
     "output_type": "execute_result"
    }
   ],
   "source": [
    "p = PCA(n_components=600)  # A\n",
    "\n",
    "hog_training_pca = p.fit_transform(hog_training)  # B\n",
    "hog_testing_pca = p.transform(hog_testing)  # B\n",
    "\n",
    "print(\"HOG + PCA + LogReg\\n=====================\")\n",
    "advanced_grid_search(  # C\n",
    "    hog_training_pca, training_labels, hog_testing_pca, testing_labels, \n",
    "    ml_pipeline, params\n",
    ")\n",
    "\n",
    "# A Choose to extract 600 new features\n",
    "# B Transform the original HOG features to the reduced space\n",
    "# C Get accuracy for reduced HOG features"
   ]
  },
  {
   "cell_type": "code",
   "execution_count": null,
   "id": "welcome-vegetation",
   "metadata": {},
   "outputs": [],
   "source": []
  },
  {
   "cell_type": "code",
   "execution_count": null,
   "id": "particular-thread",
   "metadata": {},
   "outputs": [],
   "source": []
  },
  {
   "cell_type": "code",
   "execution_count": null,
   "id": "athletic-south",
   "metadata": {},
   "outputs": [],
   "source": []
  },
  {
   "cell_type": "code",
   "execution_count": 182,
   "id": "popular-parent",
   "metadata": {},
   "outputs": [],
   "source": [
    "import torchvision.models as models\n",
    "import torch.nn as nn\n",
    "\n",
    "vgg_model = models.vgg11(pretrained='imagenet')  # A\n",
    "\n",
    "normalized_training_images = ((training_images/255) - [0.485, 0.456, 0.406]) / [0.229, 0.224, 0.225]  # B\n",
    "normalized_testing_images = ((testing_images/255) - [0.485, 0.456, 0.406]) / [0.229, 0.224, 0.225]  # B\n",
    "\n",
    "# A Instantiate a VGG-11 Model pretrained on the imagenet corpus\n",
    "# B Normalize the raw images using values from the original paper"
   ]
  },
  {
   "cell_type": "code",
   "execution_count": 29,
   "id": "filled-speed",
   "metadata": {},
   "outputs": [],
   "source": [
    "import torch\n",
    "from torch.utils.data import TensorDataset, DataLoader\n",
    "\n",
    "training_images_tensor = torch.Tensor(normalized_training_images.transpose(0, 3, 1, 2))  # A\n",
    "training_labels_tensor = torch.Tensor(int_training_labels).type(torch.LongTensor)  # A\n",
    "\n",
    "training_dataset = TensorDataset(training_images_tensor, training_labels_tensor)  # A\n",
    "training_dataloader = DataLoader(training_dataset, shuffle=True, batch_size=2048)  # A\n",
    "\n",
    "\n",
    "testing_images_tensor = torch.Tensor(normalized_testing_images.transpose(0, 3, 1, 2))  # B\n",
    "testing_labels_tensor = torch.Tensor(int_testing_labels).type(torch.LongTensor)  # B\n",
    "\n",
    "testing_dataset = TensorDataset(testing_images_tensor, testing_labels_tensor)  # B\n",
    "testing_dataloader = DataLoader(testing_dataset, shuffle=True, batch_size=2048)  # B\n",
    "\n",
    "# A Transform the normalized training image data into a Pytorch DataLoader\n",
    "# B Transform the normalized testing image data into a Pytorch DataLoader"
   ]
  },
  {
   "cell_type": "code",
   "execution_count": 30,
   "id": "smoking-poland",
   "metadata": {},
   "outputs": [],
   "source": []
  },
  {
   "cell_type": "code",
   "execution_count": 61,
   "id": "accomplished-contract",
   "metadata": {},
   "outputs": [],
   "source": [
    "from tqdm import tqdm\n",
    "\n",
    "def get_vgg_features(feature_extractor):\n",
    "    print(\"Extracting features for training set\")\n",
    "    extracted_training_images = []\n",
    "    shuffled_training_labels = []\n",
    "    for batch_idx, (data_, target_) in tqdm(enumerate(training_dataloader)):\n",
    "        extracted_training_images.append(feature_extractor(data_).detach().numpy().squeeze((2, 3)))\n",
    "        shuffled_training_labels += target_\n",
    "\n",
    "    print(\"Extracting features for testing set\")\n",
    "    extracted_testing_images = []\n",
    "    shuffled_testing_labels = []\n",
    "    for batch_idx, (data_, target_) in tqdm(enumerate(testing_dataloader)):\n",
    "        extracted_testing_images.append(feature_extractor(data_).detach().numpy().squeeze((2, 3)))\n",
    "        shuffled_testing_labels += target_\n",
    "\n",
    "    return np.vstack(extracted_training_images), shuffled_training_labels, np.vstack(extracted_testing_images), shuffled_testing_labels\n",
    "        "
   ]
  },
  {
   "cell_type": "code",
   "execution_count": 62,
   "id": "faced-forge",
   "metadata": {
    "scrolled": true
   },
   "outputs": [
    {
     "name": "stderr",
     "output_type": "stream",
     "text": [
      "\r",
      "0it [00:00, ?it/s]"
     ]
    },
    {
     "name": "stdout",
     "output_type": "stream",
     "text": [
      "Extracting features for training set\n"
     ]
    },
    {
     "name": "stderr",
     "output_type": "stream",
     "text": [
      "25it [03:34,  8.57s/it]\n",
      "0it [00:00, ?it/s]"
     ]
    },
    {
     "name": "stdout",
     "output_type": "stream",
     "text": [
      "Extracting features for testing set\n"
     ]
    },
    {
     "name": "stderr",
     "output_type": "stream",
     "text": [
      "5it [00:39,  7.94s/it]\n"
     ]
    }
   ],
   "source": []
  },
  {
   "cell_type": "code",
   "execution_count": 185,
   "id": "structured-addiction",
   "metadata": {},
   "outputs": [
    {
     "data": {
      "text/plain": [
       "VGG(\n",
       "  (features): Sequential(\n",
       "    (0): Conv2d(3, 64, kernel_size=(3, 3), stride=(1, 1), padding=(1, 1))\n",
       "    (1): ReLU(inplace=True)\n",
       "    (2): MaxPool2d(kernel_size=2, stride=2, padding=0, dilation=1, ceil_mode=False)\n",
       "    (3): Conv2d(64, 128, kernel_size=(3, 3), stride=(1, 1), padding=(1, 1))\n",
       "    (4): ReLU(inplace=True)\n",
       "    (5): MaxPool2d(kernel_size=2, stride=2, padding=0, dilation=1, ceil_mode=False)\n",
       "    (6): Conv2d(128, 256, kernel_size=(3, 3), stride=(1, 1), padding=(1, 1))\n",
       "    (7): ReLU(inplace=True)\n",
       "    (8): Conv2d(256, 256, kernel_size=(3, 3), stride=(1, 1), padding=(1, 1))\n",
       "    (9): ReLU(inplace=True)\n",
       "    (10): MaxPool2d(kernel_size=2, stride=2, padding=0, dilation=1, ceil_mode=False)\n",
       "    (11): Conv2d(256, 512, kernel_size=(3, 3), stride=(1, 1), padding=(1, 1))\n",
       "    (12): ReLU(inplace=True)\n",
       "    (13): Conv2d(512, 512, kernel_size=(3, 3), stride=(1, 1), padding=(1, 1))\n",
       "    (14): ReLU(inplace=True)\n",
       "    (15): MaxPool2d(kernel_size=2, stride=2, padding=0, dilation=1, ceil_mode=False)\n",
       "    (16): Conv2d(512, 512, kernel_size=(3, 3), stride=(1, 1), padding=(1, 1))\n",
       "    (17): ReLU(inplace=True)\n",
       "    (18): Conv2d(512, 512, kernel_size=(3, 3), stride=(1, 1), padding=(1, 1))\n",
       "    (19): ReLU(inplace=True)\n",
       "    (20): MaxPool2d(kernel_size=2, stride=2, padding=0, dilation=1, ceil_mode=False)\n",
       "  )\n",
       "  (avgpool): AdaptiveAvgPool2d(output_size=(7, 7))\n",
       "  (classifier): Sequential(\n",
       "    (0): Linear(in_features=25088, out_features=4096, bias=True)\n",
       "    (1): ReLU(inplace=True)\n",
       "    (2): Dropout(p=0.5, inplace=False)\n",
       "    (3): Linear(in_features=4096, out_features=4096, bias=True)\n",
       "    (4): ReLU(inplace=True)\n",
       "    (5): Dropout(p=0.5, inplace=False)\n",
       "    (6): Linear(in_features=4096, out_features=1000, bias=True)\n",
       "  )\n",
       ")"
      ]
     },
     "execution_count": 185,
     "metadata": {},
     "output_type": "execute_result"
    }
   ],
   "source": [
    "vgg_model"
   ]
  },
  {
   "cell_type": "code",
   "execution_count": 94,
   "id": "accessory-converter",
   "metadata": {
    "scrolled": false
   },
   "outputs": [
    {
     "name": "stdout",
     "output_type": "stream",
     "text": [
      "VGG11(Imagenet) + LogReg\n",
      "=====================\n"
     ]
    },
    {
     "name": "stderr",
     "output_type": "stream",
     "text": [
      "/usr/local/lib/python3.9/site-packages/sklearn/linear_model/_sag.py:328: ConvergenceWarning: The max_iter was reached which means the coef_ did not converge\n",
      "  warnings.warn(\"The max_iter was reached which means \"\n",
      "/usr/local/lib/python3.9/site-packages/sklearn/linear_model/_sag.py:328: ConvergenceWarning: The max_iter was reached which means the coef_ did not converge\n",
      "  warnings.warn(\"The max_iter was reached which means \"\n",
      "/usr/local/lib/python3.9/site-packages/sklearn/linear_model/_sag.py:328: ConvergenceWarning: The max_iter was reached which means the coef_ did not converge\n",
      "  warnings.warn(\"The max_iter was reached which means \"\n",
      "/usr/local/lib/python3.9/site-packages/sklearn/linear_model/_sag.py:328: ConvergenceWarning: The max_iter was reached which means the coef_ did not converge\n",
      "  warnings.warn(\"The max_iter was reached which means \"\n",
      "/usr/local/lib/python3.9/site-packages/sklearn/linear_model/_sag.py:328: ConvergenceWarning: The max_iter was reached which means the coef_ did not converge\n",
      "  warnings.warn(\"The max_iter was reached which means \"\n",
      "/usr/local/lib/python3.9/site-packages/sklearn/linear_model/_sag.py:328: ConvergenceWarning: The max_iter was reached which means the coef_ did not converge\n",
      "  warnings.warn(\"The max_iter was reached which means \"\n",
      "/usr/local/lib/python3.9/site-packages/sklearn/linear_model/_sag.py:328: ConvergenceWarning: The max_iter was reached which means the coef_ did not converge\n",
      "  warnings.warn(\"The max_iter was reached which means \"\n",
      "/usr/local/lib/python3.9/site-packages/sklearn/linear_model/_sag.py:328: ConvergenceWarning: The max_iter was reached which means the coef_ did not converge\n",
      "  warnings.warn(\"The max_iter was reached which means \"\n",
      "/usr/local/lib/python3.9/site-packages/sklearn/linear_model/_sag.py:328: ConvergenceWarning: The max_iter was reached which means the coef_ did not converge\n",
      "  warnings.warn(\"The max_iter was reached which means \"\n",
      "/usr/local/lib/python3.9/site-packages/sklearn/linear_model/_sag.py:328: ConvergenceWarning: The max_iter was reached which means the coef_ did not converge\n",
      "  warnings.warn(\"The max_iter was reached which means \"\n"
     ]
    },
    {
     "name": "stdout",
     "output_type": "stream",
     "text": [
      "              precision    recall  f1-score   support\n",
      "\n",
      "           0       0.10      0.09      0.09      1000\n",
      "           1       0.10      0.12      0.11      1000\n",
      "           2       0.08      0.07      0.07      1000\n",
      "           3       0.10      0.10      0.10      1000\n",
      "           4       0.10      0.09      0.10      1000\n",
      "           5       0.10      0.11      0.11      1000\n",
      "           6       0.12      0.12      0.12      1000\n",
      "           7       0.10      0.10      0.10      1000\n",
      "           8       0.11      0.12      0.11      1000\n",
      "           9       0.10      0.09      0.09      1000\n",
      "\n",
      "    accuracy                           0.10     10000\n",
      "   macro avg       0.10      0.10      0.10     10000\n",
      "weighted avg       0.10      0.10      0.10     10000\n",
      "\n",
      "Best params: {'classifier__C': 10.0}\n",
      "Overall took 645.08 seconds\n"
     ]
    },
    {
     "data": {
      "text/plain": [
       "Pipeline(steps=[('classifier', LogisticRegression(C=10.0, solver='saga'))])"
      ]
     },
     "execution_count": 94,
     "metadata": {},
     "output_type": "execute_result"
    }
   ],
   "source": [
    "transformed_training_images, shuffled_training_labels, transformed_testing_images, shuffled_testing_labels = get_vgg_features(vgg_model.features)  # A\n",
    "\n",
    "print(\"VGG11(Imagenet) + LogReg\\n=====================\")\n",
    "advanced_grid_search(\n",
    "    transformed_training_images, shuffled_training_labels, # B\n",
    "    transformed_testing_images, shuffled_testing_labels,   # B\n",
    "    ml_pipeline, params\n",
    ")\n",
    "\n",
    "# A extract features from the VGG-11 Model\n",
    "# B We needed to re-extract the training labels because the dataloader will shuffle the points around"
   ]
  },
  {
   "cell_type": "code",
   "execution_count": null,
   "id": "decreased-industry",
   "metadata": {},
   "outputs": [],
   "source": []
  },
  {
   "cell_type": "code",
   "execution_count": 36,
   "id": "amber-halloween",
   "metadata": {},
   "outputs": [],
   "source": [
    "device = torch.device('cuda:0' if torch.cuda.is_available() else 'cpu')  # A\n",
    "\n",
    "fine_tuned_vgg_model = models.vgg11(pretrained='imagenet')  # B\n",
    "\n",
    "fine_tuned_vgg_model.classifier[-1].out_features = 10  # C\n",
    "\n",
    "for layer in fine_tuned_vgg_model.classifier:  # D\n",
    "    if hasattr(layer, 'weight'):  # D\n",
    "        torch.nn.init.xavier_uniform_(layer.weight)  # D\n",
    "    if hasattr(layer, 'bias'):  # D\n",
    "        nn.init.constant_(layer.bias.data, 0)  # D\n",
    "\n",
    "# A set device to either cuda or cpu\n",
    "# B instantiate a new VGG model\n",
    "# C Change the final classifier layer to output 10 classes instead of 1,000\n",
    "# D Randomize all parameters in the classifier to start fresh"
   ]
  },
  {
   "cell_type": "code",
   "execution_count": 37,
   "id": "military-journalism",
   "metadata": {},
   "outputs": [],
   "source": []
  },
  {
   "cell_type": "code",
   "execution_count": 39,
   "id": "printable-circus",
   "metadata": {},
   "outputs": [],
   "source": [
    "import torch.optim as optim  # A\n",
    "\n",
    "criterion = nn.CrossEntropyLoss()  # A\n",
    "optimizer = optim.SGD(fine_tuned_vgg_model.parameters(), lr=0.01, momentum=0.9)  # A\n",
    "\n",
    "n_epochs = 15  # A\n",
    "print_every = 10  # A\n",
    "valid_loss_min = np.Inf  # A\n",
    "total_step = len(training_dataloader)  # A\n",
    "\n",
    "train_loss, val_loss, train_acc, val_acc = [], [], [], []  # B\n",
    "\n",
    "\n",
    "# A Set our training parameters (parameter tuning happened off-screen)\n",
    "# B Initialize lists to keep track of loss and accuracy"
   ]
  },
  {
   "cell_type": "code",
   "execution_count": 40,
   "id": "radical-matter",
   "metadata": {
    "scrolled": true
   },
   "outputs": [
    {
     "name": "stdout",
     "output_type": "stream",
     "text": [
      "Epoch 1\n",
      "\n",
      "Epoch [1/15], Step [0/25], Loss: 8.8893\n",
      "Epoch [1/15], Step [10/25], Loss: 1.5730\n",
      "Epoch [1/15], Step [20/25], Loss: 1.1407\n",
      "\n",
      "train-loss: 2.0290, train-acc: 44.4640%\n",
      "validation loss: 0.9768, validation acc: 65.7600%\n",
      "\n",
      "Saving Parameters\n",
      "Epoch 2\n",
      "\n",
      "Epoch [2/15], Step [0/25], Loss: 1.0384\n",
      "Epoch [2/15], Step [10/25], Loss: 0.8624\n",
      "Epoch [2/15], Step [20/25], Loss: 0.6999\n",
      "\n",
      "train-loss: 1.4355, train-acc: 70.5640%\n",
      "validation loss: 0.8393, validation acc: 75.9900%\n",
      "\n",
      "Saving Parameters\n",
      "Epoch 3\n",
      "\n",
      "Epoch [3/15], Step [0/25], Loss: 0.6878\n",
      "Epoch [3/15], Step [10/25], Loss: 0.6402\n",
      "Epoch [3/15], Step [20/25], Loss: 0.6219\n",
      "\n",
      "train-loss: 1.1675, train-acc: 78.0980%\n",
      "validation loss: 0.7638, validation acc: 78.9800%\n",
      "\n",
      "Saving Parameters\n",
      "Epoch 4\n",
      "\n",
      "Epoch [4/15], Step [0/25], Loss: 0.5639\n",
      "Epoch [4/15], Step [10/25], Loss: 0.5082\n",
      "Epoch [4/15], Step [20/25], Loss: 0.5061\n",
      "\n",
      "train-loss: 1.0074, train-acc: 81.7520%\n",
      "validation loss: 0.7141, validation acc: 81.0100%\n",
      "\n",
      "Saving Parameters\n",
      "Epoch 5\n",
      "\n",
      "Epoch [5/15], Step [0/25], Loss: 0.4808\n",
      "Epoch [5/15], Step [10/25], Loss: 0.4591\n",
      "Epoch [5/15], Step [20/25], Loss: 0.4380\n",
      "\n",
      "train-loss: 0.8954, train-acc: 84.3840%\n",
      "validation loss: 0.6794, validation acc: 81.8500%\n",
      "\n",
      "Saving Parameters\n",
      "Epoch 6\n",
      "\n",
      "Epoch [6/15], Step [0/25], Loss: 0.4030\n",
      "Epoch [6/15], Step [10/25], Loss: 0.3688\n",
      "Epoch [6/15], Step [20/25], Loss: 0.3839\n",
      "\n",
      "train-loss: 0.8104, train-acc: 86.7040%\n",
      "validation loss: 0.6548, validation acc: 82.6100%\n",
      "\n",
      "Saving Parameters\n",
      "Epoch 7\n",
      "\n",
      "Epoch [7/15], Step [0/25], Loss: 0.3487\n",
      "Epoch [7/15], Step [10/25], Loss: 0.3296\n",
      "Epoch [7/15], Step [20/25], Loss: 0.3455\n",
      "\n",
      "train-loss: 0.7428, train-acc: 88.3100%\n",
      "validation loss: 0.6368, validation acc: 83.1500%\n",
      "\n",
      "Saving Parameters\n",
      "Epoch 8\n",
      "\n",
      "Epoch [8/15], Step [0/25], Loss: 0.2467\n",
      "Epoch [8/15], Step [10/25], Loss: 0.3316\n",
      "Epoch [8/15], Step [20/25], Loss: 0.2926\n",
      "\n",
      "train-loss: 0.6862, train-acc: 89.9380%\n",
      "validation loss: 0.6242, validation acc: 83.2700%\n",
      "\n",
      "Epoch 9\n",
      "\n",
      "Epoch [9/15], Step [0/25], Loss: 0.2505\n",
      "Epoch [9/15], Step [10/25], Loss: 0.2173\n",
      "Epoch [9/15], Step [20/25], Loss: 0.2437\n",
      "\n",
      "train-loss: 0.6369, train-acc: 91.7980%\n",
      "validation loss: 0.6156, validation acc: 83.9100%\n",
      "\n",
      "Epoch 10\n",
      "\n",
      "Epoch [10/15], Step [0/25], Loss: 0.2110\n",
      "Epoch [10/15], Step [10/25], Loss: 0.1867\n",
      "Epoch [10/15], Step [20/25], Loss: 0.1957\n",
      "\n",
      "train-loss: 0.5942, train-acc: 92.8160%\n",
      "validation loss: 0.6103, validation acc: 83.5900%\n",
      "\n",
      "Epoch 11\n",
      "\n",
      "Epoch [11/15], Step [0/25], Loss: 0.1635\n",
      "Epoch [11/15], Step [10/25], Loss: 0.1539\n",
      "Epoch [11/15], Step [20/25], Loss: 0.1510\n",
      "\n",
      "train-loss: 0.5547, train-acc: 94.7540%\n",
      "validation loss: 0.6072, validation acc: 84.2800%\n",
      "\n",
      "Epoch 12\n",
      "\n",
      "Epoch [12/15], Step [0/25], Loss: 0.1517\n",
      "Epoch [12/15], Step [10/25], Loss: 0.1222\n",
      "Epoch [12/15], Step [20/25], Loss: 0.1217\n",
      "\n",
      "train-loss: 0.5191, train-acc: 95.8660%\n",
      "validation loss: 0.6083, validation acc: 83.8900%\n",
      "\n",
      "Epoch 13\n",
      "\n",
      "Epoch [13/15], Step [0/25], Loss: 0.1053\n",
      "Epoch [13/15], Step [10/25], Loss: 0.0942\n",
      "Epoch [13/15], Step [20/25], Loss: 0.0965\n",
      "\n",
      "train-loss: 0.4871, train-acc: 96.8100%\n",
      "validation loss: 0.6121, validation acc: 84.0300%\n",
      "\n",
      "Epoch 14\n",
      "\n",
      "Epoch [14/15], Step [0/25], Loss: 0.0840\n",
      "Epoch [14/15], Step [10/25], Loss: 0.0652\n",
      "Epoch [14/15], Step [20/25], Loss: 0.0730\n",
      "\n",
      "train-loss: 0.4578, train-acc: 97.7800%\n",
      "validation loss: 0.6181, validation acc: 84.2400%\n",
      "\n",
      "Epoch 15\n",
      "\n",
      "Epoch [15/15], Step [0/25], Loss: 0.0678\n",
      "Epoch [15/15], Step [10/25], Loss: 0.0556\n",
      "Epoch [15/15], Step [20/25], Loss: 0.0565\n",
      "\n",
      "train-loss: 0.4310, train-acc: 98.3480%\n",
      "validation loss: 0.6265, validation acc: 84.0900%\n",
      "\n"
     ]
    }
   ],
   "source": [
    "# code inspired from https://www.pluralsight.com/guides/introduction-to-resnet\n",
    "\n",
    "for epoch in range(1, n_epochs + 1):\n",
    "    running_loss = 0.0\n",
    "    correct = 0\n",
    "    total=0\n",
    "    print(f'Epoch {epoch}\\n')\n",
    "    for batch_idx, (data_, target_) in enumerate(training_dataloader):\n",
    "        data_, target_ = data_.to(device), target_.to(device)\n",
    "        optimizer.zero_grad()  # clears the gradient or else they accumulate\n",
    "        \n",
    "        outputs = fine_tuned_vgg_model(data_)\n",
    "        loss = criterion(outputs, target_)\n",
    "        loss.backward()\n",
    "        optimizer.step()\n",
    "\n",
    "        running_loss += loss.item()\n",
    "        _, pred = torch.max(outputs, dim=1)\n",
    "        correct += torch.sum(pred==target_).item()\n",
    "        total += target_.size(0)\n",
    "        if (batch_idx) % print_every == 0:\n",
    "            print ('Epoch [{}/{}], Step [{}/{}], Loss: {:.4f}' \n",
    "                   .format(epoch, n_epochs, batch_idx, total_step, loss.item()))\n",
    "    train_acc.append(100 * correct / total)\n",
    "    train_loss.append(running_loss/total_step)\n",
    "    print(f'\\ntrain-loss: {np.mean(train_loss):.4f}, train-acc: {(100 * correct/total):.4f}%')\n",
    "    \n",
    "    batch_loss = 0\n",
    "    total_t=0\n",
    "    correct_t=0\n",
    "    with torch.no_grad():\n",
    "        fine_tuned_vgg_model.eval()\n",
    "        for data_t, target_t in (testing_dataloader):\n",
    "            data_t, target_t = data_t.to(device), target_t.to(device)\n",
    "            outputs_t = fine_tuned_vgg_model(data_t)\n",
    "            loss_t = criterion(outputs_t, target_t)\n",
    "            batch_loss += loss_t.item()\n",
    "            _, pred_t = torch.max(outputs_t, dim=1)\n",
    "            correct_t += torch.sum(pred_t==target_t).item()\n",
    "            total_t += target_t.size(0)\n",
    "        val_acc.append(100 * correct_t/total_t)\n",
    "        val_loss.append(batch_loss/len(testing_dataloader))\n",
    "        network_learned = batch_loss < valid_loss_min\n",
    "        print(f'validation loss: {np.mean(val_loss):.4f}, validation acc: {(100 * correct_t/total_t):.4f}%\\n')\n",
    "\n",
    "        if network_learned:\n",
    "            valid_loss_min = batch_loss\n",
    "            torch.save(fine_tuned_vgg_model.state_dict(), 'vgg_cifar10.pt')\n",
    "            print('Saving Parameters')\n",
    "            \n",
    "    fine_tuned_vgg_model.train()"
   ]
  },
  {
   "cell_type": "code",
   "execution_count": 68,
   "id": "contained-sending",
   "metadata": {},
   "outputs": [
    {
     "data": {
      "text/plain": [
       "[<matplotlib.lines.Line2D at 0x14cd3ddf0>]"
      ]
     },
     "execution_count": 68,
     "metadata": {},
     "output_type": "execute_result"
    },
    {
     "data": {
      "image/png": "[encoded data removed]",
      "text/plain": [
       "<Figure size 432x288 with 1 Axes>"
      ]
     },
     "metadata": {
      "needs_background": "light"
     },
     "output_type": "display_data"
    }
   ],
   "source": [
    "plt.plot(val_loss)"
   ]
  },
  {
   "cell_type": "code",
   "execution_count": 190,
   "id": "attached-popularity",
   "metadata": {},
   "outputs": [
    {
     "data": {
      "text/plain": [
       "Text(0, 0.5, 'Accuracy %')"
      ]
     },
     "execution_count": 190,
     "metadata": {},
     "output_type": "execute_result"
    },
    {
     "data": {
      "image/png": "[encoded data removed]",
      "text/plain": [
       "<Figure size 432x288 with 1 Axes>"
      ]
     },
     "metadata": {
      "needs_background": "light"
     },
     "output_type": "display_data"
    }
   ],
   "source": [
    "plt.plot(val_acc)\n",
    "plt.title('Testing Set Accuracy')\n",
    "plt.xlabel('Epoch')\n",
    "plt.ylabel('Accuracy %')"
   ]
  },
  {
   "cell_type": "code",
   "execution_count": 91,
   "id": "spiritual-possibility",
   "metadata": {},
   "outputs": [
    {
     "data": {
      "text/plain": [
       "<function torchvision.models.vgg.vgg16(pretrained: bool = False, progress: bool = True, **kwargs: Any) -> torchvision.models.vgg.VGG>"
      ]
     },
     "execution_count": 91,
     "metadata": {},
     "output_type": "execute_result"
    }
   ],
   "source": [
    "models.vgg16"
   ]
  },
  {
   "cell_type": "code",
   "execution_count": 67,
   "id": "official-subsection",
   "metadata": {
    "scrolled": false
   },
   "outputs": [
    {
     "name": "stderr",
     "output_type": "stream",
     "text": [
      "\r",
      "0it [00:00, ?it/s]"
     ]
    },
    {
     "name": "stdout",
     "output_type": "stream",
     "text": [
      "Extracting features for training set\n"
     ]
    },
    {
     "name": "stderr",
     "output_type": "stream",
     "text": [
      "25it [03:42,  8.89s/it]\n",
      "0it [00:00, ?it/s]"
     ]
    },
    {
     "name": "stdout",
     "output_type": "stream",
     "text": [
      "Extracting features for testing set\n"
     ]
    },
    {
     "name": "stderr",
     "output_type": "stream",
     "text": [
      "5it [00:45,  9.03s/it]\n"
     ]
    },
    {
     "name": "stdout",
     "output_type": "stream",
     "text": [
      "Fine-tuned VGG11 + LogReg\n",
      "=====================\n"
     ]
    },
    {
     "name": "stderr",
     "output_type": "stream",
     "text": [
      "/usr/local/lib/python3.9/site-packages/sklearn/linear_model/_sag.py:328: ConvergenceWarning: The max_iter was reached which means the coef_ did not converge\n",
      "  warnings.warn(\"The max_iter was reached which means \"\n",
      "/usr/local/lib/python3.9/site-packages/sklearn/linear_model/_sag.py:328: ConvergenceWarning: The max_iter was reached which means the coef_ did not converge\n",
      "  warnings.warn(\"The max_iter was reached which means \"\n",
      "/usr/local/lib/python3.9/site-packages/sklearn/linear_model/_sag.py:328: ConvergenceWarning: The max_iter was reached which means the coef_ did not converge\n",
      "  warnings.warn(\"The max_iter was reached which means \"\n",
      "/usr/local/lib/python3.9/site-packages/sklearn/linear_model/_sag.py:328: ConvergenceWarning: The max_iter was reached which means the coef_ did not converge\n",
      "  warnings.warn(\"The max_iter was reached which means \"\n",
      "/usr/local/lib/python3.9/site-packages/sklearn/linear_model/_sag.py:328: ConvergenceWarning: The max_iter was reached which means the coef_ did not converge\n",
      "  warnings.warn(\"The max_iter was reached which means \"\n",
      "/usr/local/lib/python3.9/site-packages/sklearn/linear_model/_sag.py:328: ConvergenceWarning: The max_iter was reached which means the coef_ did not converge\n",
      "  warnings.warn(\"The max_iter was reached which means \"\n",
      "/usr/local/lib/python3.9/site-packages/sklearn/linear_model/_sag.py:328: ConvergenceWarning: The max_iter was reached which means the coef_ did not converge\n",
      "  warnings.warn(\"The max_iter was reached which means \"\n",
      "/usr/local/lib/python3.9/site-packages/sklearn/linear_model/_sag.py:328: ConvergenceWarning: The max_iter was reached which means the coef_ did not converge\n",
      "  warnings.warn(\"The max_iter was reached which means \"\n",
      "/usr/local/lib/python3.9/site-packages/sklearn/linear_model/_sag.py:328: ConvergenceWarning: The max_iter was reached which means the coef_ did not converge\n",
      "  warnings.warn(\"The max_iter was reached which means \"\n"
     ]
    },
    {
     "name": "stdout",
     "output_type": "stream",
     "text": [
      "              precision    recall  f1-score   support\n",
      "\n",
      "           0       0.84      0.87      0.85      1000\n",
      "           1       0.91      0.91      0.91      1000\n",
      "           2       0.78      0.76      0.77      1000\n",
      "           3       0.68      0.67      0.67      1000\n",
      "           4       0.79      0.81      0.80      1000\n",
      "           5       0.77      0.74      0.75      1000\n",
      "           6       0.85      0.88      0.87      1000\n",
      "           7       0.85      0.86      0.85      1000\n",
      "           8       0.91      0.90      0.90      1000\n",
      "           9       0.90      0.89      0.90      1000\n",
      "\n",
      "    accuracy                           0.83     10000\n",
      "   macro avg       0.83      0.83      0.83     10000\n",
      "weighted avg       0.83      0.83      0.83     10000\n",
      "\n",
      "Best params: {'classifier__C': 0.1}\n",
      "Overall took 607.62 seconds\n"
     ]
    },
    {
     "name": "stderr",
     "output_type": "stream",
     "text": [
      "/usr/local/lib/python3.9/site-packages/sklearn/linear_model/_sag.py:328: ConvergenceWarning: The max_iter was reached which means the coef_ did not converge\n",
      "  warnings.warn(\"The max_iter was reached which means \"\n"
     ]
    },
    {
     "data": {
      "text/plain": [
       "Pipeline(steps=[('classifier', LogisticRegression(C=0.1, solver='saga'))])"
      ]
     },
     "execution_count": 67,
     "metadata": {},
     "output_type": "execute_result"
    }
   ],
   "source": [
    "cifar_fine_tuned_vgg_model = models.vgg11(pretrained='imagenet')  # A\n",
    "cifar_fine_tuned_vgg_model.classifier[-1].out_features = 10  # A\n",
    "\n",
    "cifar_fine_tuned_vgg_model.load_state_dict(torch.load('vgg_cifar10.pt', map_location=device))  # B\n",
    "\n",
    "cifar_finetuned_training_images, shuffled_training_labels, cifar_finetuned_testing_images, shuffled_testing_labels = get_vgg_features(cifar_fine_tuned_vgg_model.features)  # B\n",
    "\n",
    "print(\"Fine-tuned VGG11 + LogReg\\n=====================\")\n",
    "advanced_grid_search(  # C\n",
    "    cifar_finetuned_training_images, shuffled_training_labels, \n",
    "    cifar_finetuned_testing_images, shuffled_testing_labels, \n",
    "    ml_pipeline, params\n",
    ")\n",
    "\n",
    "# A Instantiate a new VGG-11 model\n",
    "# B Load up the trained parameters and extract fine-tuned features\n",
    "# C Run grid search on fine-tuned features"
   ]
  },
  {
   "cell_type": "code",
   "execution_count": null,
   "id": "imported-extra",
   "metadata": {},
   "outputs": [],
   "source": []
  }
 ],
 "metadata": {
  "kernelspec": {
   "display_name": "Python 3",
   "language": "python",
   "name": "python3"
  },
  "language_info": {
   "codemirror_mode": {
    "name": "ipython",
    "version": 3
   },
   "file_extension": ".py",
   "mimetype": "text/x-python",
   "name": "python",
   "nbconvert_exporter": "python",
   "pygments_lexer": "ipython3",
   "version": "3.9.6"
  }
 },
 "nbformat": 4,
 "nbformat_minor": 5
}
