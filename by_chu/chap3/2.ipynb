{
 "cells": [
  {
   "cell_type": "code",
   "execution_count": 1,
   "id": "92f9a142",
   "metadata": {},
   "outputs": [],
   "source": [
    "import pandas as pd\n",
    "import numpy as np\n",
    "\n",
    "from sklearn.ensemble import RandomForestClassifier\n",
    "from sklearn.model_selection import GridSearchCV, cross_val_score\n",
    "from sklearn.preprocessing import MultiLabelBinarizer, FunctionTransformer, PowerTransformer, KBinsDiscretizer\n",
    "from sklearn.pipeline import Pipeline, FeatureUnion\n",
    "from sklearn.impute import SimpleImputer\n",
    "from sklearn.metrics import classification_report\n",
    "\n",
    "from feature_engine.imputation import EndTailImputer"
   ]
  },
  {
   "cell_type": "code",
   "execution_count": 2,
   "id": "515103e5",
   "metadata": {},
   "outputs": [],
   "source": [
    "covid_flu = pd.read_csv('../../data/covid_flu.csv')"
   ]
  },
  {
   "cell_type": "code",
   "execution_count": 3,
   "id": "063b4451",
   "metadata": {},
   "outputs": [
    {
     "data": {
      "application/vnd.microsoft.datawrangler.viewer.v0+json": {
       "columns": [
        {
         "name": "index",
         "rawType": "int64",
         "type": "integer"
        },
        {
         "name": "Diagnosis",
         "rawType": "object",
         "type": "string"
        },
        {
         "name": "InitialPCRDiagnosis",
         "rawType": "object",
         "type": "unknown"
        },
        {
         "name": "Age",
         "rawType": "float64",
         "type": "float"
        },
        {
         "name": "Sex",
         "rawType": "object",
         "type": "string"
        },
        {
         "name": "neutrophil",
         "rawType": "float64",
         "type": "float"
        },
        {
         "name": "serumLevelsOfWhiteBloodCell",
         "rawType": "float64",
         "type": "float"
        },
        {
         "name": "lymphocytes",
         "rawType": "float64",
         "type": "float"
        },
        {
         "name": "CReactiveProteinLevels",
         "rawType": "object",
         "type": "unknown"
        },
        {
         "name": "DurationOfIllness",
         "rawType": "float64",
         "type": "float"
        },
        {
         "name": "CTscanResults",
         "rawType": "object",
         "type": "unknown"
        },
        {
         "name": "RiskFactors",
         "rawType": "object",
         "type": "unknown"
        },
        {
         "name": "GroundGlassOpacity",
         "rawType": "object",
         "type": "unknown"
        },
        {
         "name": "Diarrhea",
         "rawType": "object",
         "type": "unknown"
        },
        {
         "name": "Fever",
         "rawType": "object",
         "type": "unknown"
        },
        {
         "name": "Coughing",
         "rawType": "object",
         "type": "unknown"
        },
        {
         "name": "ShortnessOfBreath",
         "rawType": "object",
         "type": "unknown"
        },
        {
         "name": "SoreThroat",
         "rawType": "object",
         "type": "unknown"
        },
        {
         "name": "NauseaVomitting",
         "rawType": "object",
         "type": "unknown"
        },
        {
         "name": "Temperature",
         "rawType": "float64",
         "type": "float"
        },
        {
         "name": "Fatigue",
         "rawType": "object",
         "type": "unknown"
        }
       ],
       "ref": "05adcec8-ba5c-4efa-b9c2-981f666a7aa4",
       "rows": [
        [
         "0",
         "H1N1",
         null,
         "67.0",
         "F",
         null,
         null,
         null,
         null,
         null,
         null,
         null,
         null,
         null,
         "Yes",
         "Yes",
         null,
         "No",
         null,
         "38.11111111",
         "No"
        ],
        [
         "1",
         "H1N1",
         null,
         "29.0",
         "M",
         null,
         null,
         null,
         null,
         null,
         null,
         null,
         null,
         null,
         null,
         null,
         null,
         null,
         null,
         null,
         null
        ],
        [
         "2",
         "H1N1",
         null,
         "22.0",
         "F",
         null,
         null,
         null,
         null,
         null,
         null,
         null,
         null,
         null,
         null,
         null,
         null,
         null,
         null,
         null,
         null
        ],
        [
         "3",
         "H1N1",
         null,
         "20.0",
         "F",
         null,
         null,
         null,
         null,
         null,
         null,
         "immuno",
         null,
         null,
         "Yes",
         "Yes",
         null,
         "No",
         null,
         "36.55555556",
         "Yes"
        ],
        [
         "4",
         "H1N1",
         null,
         "21.0",
         "M",
         null,
         null,
         null,
         null,
         null,
         null,
         null,
         null,
         null,
         null,
         null,
         null,
         null,
         null,
         null,
         null
        ]
       ],
       "shape": {
        "columns": 20,
        "rows": 5
       }
      },
      "text/html": [
       "<div>\n",
       "<style scoped>\n",
       "    .dataframe tbody tr th:only-of-type {\n",
       "        vertical-align: middle;\n",
       "    }\n",
       "\n",
       "    .dataframe tbody tr th {\n",
       "        vertical-align: top;\n",
       "    }\n",
       "\n",
       "    .dataframe thead th {\n",
       "        text-align: right;\n",
       "    }\n",
       "</style>\n",
       "<table border=\"1\" class=\"dataframe\">\n",
       "  <thead>\n",
       "    <tr style=\"text-align: right;\">\n",
       "      <th></th>\n",
       "      <th>Diagnosis</th>\n",
       "      <th>InitialPCRDiagnosis</th>\n",
       "      <th>Age</th>\n",
       "      <th>Sex</th>\n",
       "      <th>neutrophil</th>\n",
       "      <th>serumLevelsOfWhiteBloodCell</th>\n",
       "      <th>lymphocytes</th>\n",
       "      <th>CReactiveProteinLevels</th>\n",
       "      <th>DurationOfIllness</th>\n",
       "      <th>CTscanResults</th>\n",
       "      <th>RiskFactors</th>\n",
       "      <th>GroundGlassOpacity</th>\n",
       "      <th>Diarrhea</th>\n",
       "      <th>Fever</th>\n",
       "      <th>Coughing</th>\n",
       "      <th>ShortnessOfBreath</th>\n",
       "      <th>SoreThroat</th>\n",
       "      <th>NauseaVomitting</th>\n",
       "      <th>Temperature</th>\n",
       "      <th>Fatigue</th>\n",
       "    </tr>\n",
       "  </thead>\n",
       "  <tbody>\n",
       "    <tr>\n",
       "      <th>0</th>\n",
       "      <td>H1N1</td>\n",
       "      <td>NaN</td>\n",
       "      <td>67.0</td>\n",
       "      <td>F</td>\n",
       "      <td>NaN</td>\n",
       "      <td>NaN</td>\n",
       "      <td>NaN</td>\n",
       "      <td>NaN</td>\n",
       "      <td>NaN</td>\n",
       "      <td>NaN</td>\n",
       "      <td>NaN</td>\n",
       "      <td>NaN</td>\n",
       "      <td>NaN</td>\n",
       "      <td>Yes</td>\n",
       "      <td>Yes</td>\n",
       "      <td>NaN</td>\n",
       "      <td>No</td>\n",
       "      <td>NaN</td>\n",
       "      <td>38.111111</td>\n",
       "      <td>No</td>\n",
       "    </tr>\n",
       "    <tr>\n",
       "      <th>1</th>\n",
       "      <td>H1N1</td>\n",
       "      <td>NaN</td>\n",
       "      <td>29.0</td>\n",
       "      <td>M</td>\n",
       "      <td>NaN</td>\n",
       "      <td>NaN</td>\n",
       "      <td>NaN</td>\n",
       "      <td>NaN</td>\n",
       "      <td>NaN</td>\n",
       "      <td>NaN</td>\n",
       "      <td>NaN</td>\n",
       "      <td>NaN</td>\n",
       "      <td>NaN</td>\n",
       "      <td>NaN</td>\n",
       "      <td>NaN</td>\n",
       "      <td>NaN</td>\n",
       "      <td>NaN</td>\n",
       "      <td>NaN</td>\n",
       "      <td>NaN</td>\n",
       "      <td>NaN</td>\n",
       "    </tr>\n",
       "    <tr>\n",
       "      <th>2</th>\n",
       "      <td>H1N1</td>\n",
       "      <td>NaN</td>\n",
       "      <td>22.0</td>\n",
       "      <td>F</td>\n",
       "      <td>NaN</td>\n",
       "      <td>NaN</td>\n",
       "      <td>NaN</td>\n",
       "      <td>NaN</td>\n",
       "      <td>NaN</td>\n",
       "      <td>NaN</td>\n",
       "      <td>NaN</td>\n",
       "      <td>NaN</td>\n",
       "      <td>NaN</td>\n",
       "      <td>NaN</td>\n",
       "      <td>NaN</td>\n",
       "      <td>NaN</td>\n",
       "      <td>NaN</td>\n",
       "      <td>NaN</td>\n",
       "      <td>NaN</td>\n",
       "      <td>NaN</td>\n",
       "    </tr>\n",
       "    <tr>\n",
       "      <th>3</th>\n",
       "      <td>H1N1</td>\n",
       "      <td>NaN</td>\n",
       "      <td>20.0</td>\n",
       "      <td>F</td>\n",
       "      <td>NaN</td>\n",
       "      <td>NaN</td>\n",
       "      <td>NaN</td>\n",
       "      <td>NaN</td>\n",
       "      <td>NaN</td>\n",
       "      <td>NaN</td>\n",
       "      <td>immuno</td>\n",
       "      <td>NaN</td>\n",
       "      <td>NaN</td>\n",
       "      <td>Yes</td>\n",
       "      <td>Yes</td>\n",
       "      <td>NaN</td>\n",
       "      <td>No</td>\n",
       "      <td>NaN</td>\n",
       "      <td>36.555556</td>\n",
       "      <td>Yes</td>\n",
       "    </tr>\n",
       "    <tr>\n",
       "      <th>4</th>\n",
       "      <td>H1N1</td>\n",
       "      <td>NaN</td>\n",
       "      <td>21.0</td>\n",
       "      <td>M</td>\n",
       "      <td>NaN</td>\n",
       "      <td>NaN</td>\n",
       "      <td>NaN</td>\n",
       "      <td>NaN</td>\n",
       "      <td>NaN</td>\n",
       "      <td>NaN</td>\n",
       "      <td>NaN</td>\n",
       "      <td>NaN</td>\n",
       "      <td>NaN</td>\n",
       "      <td>NaN</td>\n",
       "      <td>NaN</td>\n",
       "      <td>NaN</td>\n",
       "      <td>NaN</td>\n",
       "      <td>NaN</td>\n",
       "      <td>NaN</td>\n",
       "      <td>NaN</td>\n",
       "    </tr>\n",
       "  </tbody>\n",
       "</table>\n",
       "</div>"
      ],
      "text/plain": [
       "  Diagnosis InitialPCRDiagnosis   Age Sex  neutrophil  \\\n",
       "0      H1N1                 NaN  67.0   F         NaN   \n",
       "1      H1N1                 NaN  29.0   M         NaN   \n",
       "2      H1N1                 NaN  22.0   F         NaN   \n",
       "3      H1N1                 NaN  20.0   F         NaN   \n",
       "4      H1N1                 NaN  21.0   M         NaN   \n",
       "\n",
       "   serumLevelsOfWhiteBloodCell  lymphocytes CReactiveProteinLevels  \\\n",
       "0                          NaN          NaN                    NaN   \n",
       "1                          NaN          NaN                    NaN   \n",
       "2                          NaN          NaN                    NaN   \n",
       "3                          NaN          NaN                    NaN   \n",
       "4                          NaN          NaN                    NaN   \n",
       "\n",
       "   DurationOfIllness CTscanResults RiskFactors GroundGlassOpacity Diarrhea  \\\n",
       "0                NaN           NaN         NaN                NaN      NaN   \n",
       "1                NaN           NaN         NaN                NaN      NaN   \n",
       "2                NaN           NaN         NaN                NaN      NaN   \n",
       "3                NaN           NaN      immuno                NaN      NaN   \n",
       "4                NaN           NaN         NaN                NaN      NaN   \n",
       "\n",
       "  Fever Coughing ShortnessOfBreath SoreThroat NauseaVomitting  Temperature  \\\n",
       "0   Yes      Yes               NaN         No             NaN    38.111111   \n",
       "1   NaN      NaN               NaN        NaN             NaN          NaN   \n",
       "2   NaN      NaN               NaN        NaN             NaN          NaN   \n",
       "3   Yes      Yes               NaN         No             NaN    36.555556   \n",
       "4   NaN      NaN               NaN        NaN             NaN          NaN   \n",
       "\n",
       "  Fatigue  \n",
       "0      No  \n",
       "1     NaN  \n",
       "2     NaN  \n",
       "3     Yes  \n",
       "4     NaN  "
      ]
     },
     "execution_count": 3,
     "metadata": {},
     "output_type": "execute_result"
    }
   ],
   "source": [
    "covid_flu.head()"
   ]
  },
  {
   "cell_type": "code",
   "execution_count": 4,
   "id": "9e5318e0",
   "metadata": {},
   "outputs": [
    {
     "data": {
      "application/vnd.microsoft.datawrangler.viewer.v0+json": {
       "columns": [
        {
         "name": "index",
         "rawType": "object",
         "type": "string"
        },
        {
         "name": "0",
         "rawType": "float64",
         "type": "float"
        }
       ],
       "ref": "1757fd22-2721-4704-b605-2587616f3739",
       "rows": [
        [
         "Diagnosis",
         "0.0"
        ],
        [
         "Age",
         "0.018893387314439947"
        ],
        [
         "Sex",
         "0.05128205128205128"
        ],
        [
         "Fever",
         "0.37719298245614036"
        ],
        [
         "Coughing",
         "0.4203778677462888"
        ],
        [
         "SoreThroat",
         "0.5479082321187584"
        ],
        [
         "Temperature",
         "0.5762483130904184"
        ],
        [
         "Fatigue",
         "0.6417004048582996"
        ],
        [
         "Diarrhea",
         "0.6963562753036437"
        ],
        [
         "NauseaVomitting",
         "0.7159244264507423"
        ],
        [
         "RiskFactors",
         "0.8589743589743589"
        ],
        [
         "CTscanResults",
         "0.8927125506072875"
        ],
        [
         "lymphocytes",
         "0.8947368421052632"
        ],
        [
         "serumLevelsOfWhiteBloodCell",
         "0.898110661268556"
        ],
        [
         "CReactiveProteinLevels",
         "0.9075573549257759"
        ],
        [
         "InitialPCRDiagnosis",
         "0.9298245614035088"
        ],
        [
         "neutrophil",
         "0.9304993252361673"
        ],
        [
         "GroundGlassOpacity",
         "0.937246963562753"
        ],
        [
         "DurationOfIllness",
         "0.9412955465587044"
        ],
        [
         "ShortnessOfBreath",
         "0.9493927125506073"
        ]
       ],
       "shape": {
        "columns": 1,
        "rows": 20
       }
      },
      "text/plain": [
       "Diagnosis                      0.000000\n",
       "Age                            0.018893\n",
       "Sex                            0.051282\n",
       "Fever                          0.377193\n",
       "Coughing                       0.420378\n",
       "SoreThroat                     0.547908\n",
       "Temperature                    0.576248\n",
       "Fatigue                        0.641700\n",
       "Diarrhea                       0.696356\n",
       "NauseaVomitting                0.715924\n",
       "RiskFactors                    0.858974\n",
       "CTscanResults                  0.892713\n",
       "lymphocytes                    0.894737\n",
       "serumLevelsOfWhiteBloodCell    0.898111\n",
       "CReactiveProteinLevels         0.907557\n",
       "InitialPCRDiagnosis            0.929825\n",
       "neutrophil                     0.930499\n",
       "GroundGlassOpacity             0.937247\n",
       "DurationOfIllness              0.941296\n",
       "ShortnessOfBreath              0.949393\n",
       "dtype: float64"
      ]
     },
     "execution_count": 4,
     "metadata": {},
     "output_type": "execute_result"
    }
   ],
   "source": [
    "(covid_flu.isna().sum() / covid_flu.shape[0]).sort_values()"
   ]
  },
  {
   "cell_type": "code",
   "execution_count": 5,
   "id": "c079aae8",
   "metadata": {},
   "outputs": [
    {
     "name": "stdout",
     "output_type": "stream",
     "text": [
      "--------------------------------------------------\n",
      "Diagnosis\n",
      "H1N1       1072\n",
      "COVID19     410\n",
      "Name: count, dtype: int64\n",
      "--------------------------------------------------\n",
      "InitialPCRDiagnosis\n",
      "Yes    100\n",
      "No       4\n",
      "Name: count, dtype: int64\n",
      "--------------------------------------------------\n",
      "Age\n",
      "5.00     53\n",
      "6.00     52\n",
      "4.00     50\n",
      "7.00     49\n",
      "8.00     47\n",
      "         ..\n",
      "0.75      1\n",
      "77.00     1\n",
      "0.42      1\n",
      "0.92      1\n",
      "1.40      1\n",
      "Name: count, Length: 109, dtype: int64\n",
      "--------------------------------------------------\n",
      "Sex\n",
      "M    748\n",
      "F    658\n",
      "Name: count, dtype: int64\n",
      "--------------------------------------------------\n",
      "neutrophil\n",
      "3.20    3\n",
      "2.40    2\n",
      "2.00    2\n",
      "3.13    2\n",
      "3.00    2\n",
      "       ..\n",
      "0.78    1\n",
      "4.48    1\n",
      "5.30    1\n",
      "3.45    1\n",
      "3.73    1\n",
      "Name: count, Length: 91, dtype: int64\n",
      "--------------------------------------------------\n",
      "serumLevelsOfWhiteBloodCell\n",
      "10.60    3\n",
      "6.60     3\n",
      "4.20     3\n",
      "2.60     2\n",
      "3.40     2\n",
      "        ..\n",
      "6.15     1\n",
      "10.15    1\n",
      "9.12     1\n",
      "4.49     1\n",
      "5.30     1\n",
      "Name: count, Length: 127, dtype: int64\n",
      "--------------------------------------------------\n",
      "lymphocytes\n",
      "0.80    4\n",
      "0.90    4\n",
      "0.69    3\n",
      "0.46    3\n",
      "0.88    3\n",
      "       ..\n",
      "1.92    1\n",
      "0.84    1\n",
      "0.95    1\n",
      "1.19    1\n",
      "0.42    1\n",
      "Name: count, Length: 116, dtype: int64\n",
      "--------------------------------------------------\n",
      "CReactiveProteinLevels\n",
      "8             3\n",
      "0.5           3\n",
      "15            3\n",
      "34.64         2\n",
      "5.6           2\n",
      "             ..\n",
      "8.88          1\n",
      "5.78          1\n",
      "67.62         1\n",
      "13.2 mg/dL    1\n",
      "0.6           1\n",
      "Name: count, Length: 120, dtype: int64\n",
      "--------------------------------------------------\n",
      "DurationOfIllness\n",
      "8.0     6\n",
      "24.0    5\n",
      "11.0    5\n",
      "3.0     5\n",
      "6.0     5\n",
      "30.0    5\n",
      "14.0    4\n",
      "16.0    4\n",
      "5.0     4\n",
      "7.0     4\n",
      "12.0    4\n",
      "2.0     3\n",
      "20.0    3\n",
      "4.0     3\n",
      "9.0     3\n",
      "13.0    3\n",
      "10.0    3\n",
      "15.0    2\n",
      "18.0    2\n",
      "19.0    2\n",
      "29.0    2\n",
      "25.0    2\n",
      "28.0    1\n",
      "1.0     1\n",
      "37.0    1\n",
      "22.0    1\n",
      "33.0    1\n",
      "32.0    1\n",
      "23.0    1\n",
      "21.0    1\n",
      "Name: count, dtype: int64\n",
      "--------------------------------------------------\n",
      "CTscanResults\n",
      "Yes    144\n",
      "No      15\n",
      "Name: count, dtype: int64\n",
      "--------------------------------------------------\n",
      "RiskFactors\n",
      "asthma                                                                36\n",
      "immuno                                                                21\n",
      "pneumonia                                                             21\n",
      "diabetes                                                              16\n",
      "chronic                                                               11\n",
      "                                                                      ..\n",
      "diabetes, Hypertension                                                 1\n",
      "Hypertension, Heart Disease, chronic obstructive pulmonary disease     1\n",
      "rheumatoid arthritis                                                   1\n",
      "asthma, chronic, diabetes                                              1\n",
      "Lung Disease                                                           1\n",
      "Name: count, Length: 63, dtype: int64\n",
      "--------------------------------------------------\n",
      "GroundGlassOpacity\n",
      "Yes    90\n",
      "No      3\n",
      "Name: count, dtype: int64\n",
      "--------------------------------------------------\n",
      "Diarrhea\n",
      "No     340\n",
      "Yes    110\n",
      "Name: count, dtype: int64\n",
      "--------------------------------------------------\n",
      "Fever\n",
      "Yes    777\n",
      "No     146\n",
      "Name: count, dtype: int64\n",
      "--------------------------------------------------\n",
      "Coughing\n",
      "Yes    745\n",
      "No     114\n",
      "Name: count, dtype: int64\n",
      "--------------------------------------------------\n",
      "ShortnessOfBreath\n",
      "Yes    45\n",
      "No     30\n",
      "Name: count, dtype: int64\n",
      "--------------------------------------------------\n",
      "SoreThroat\n",
      "Yes    407\n",
      "No     263\n",
      "Name: count, dtype: int64\n",
      "--------------------------------------------------\n",
      "NauseaVomitting\n",
      "No     319\n",
      "Yes    102\n",
      "Name: count, dtype: int64\n",
      "--------------------------------------------------\n",
      "Temperature\n",
      "38.000000    34\n",
      "39.000000    23\n",
      "37.000000    20\n",
      "37.777778    19\n",
      "38.333333    14\n",
      "             ..\n",
      "39.411111     1\n",
      "39.966667     1\n",
      "41.055556     1\n",
      "41.611111     1\n",
      "35.722222     1\n",
      "Name: count, Length: 135, dtype: int64\n",
      "--------------------------------------------------\n",
      "Fatigue\n",
      "Yes    348\n",
      "No     183\n",
      "Name: count, dtype: int64\n"
     ]
    }
   ],
   "source": [
    "\n",
    "for col in covid_flu.columns:\n",
    "    print(\"-\" * 50)\n",
    "    print(covid_flu[col].value_counts())"
   ]
  },
  {
   "cell_type": "code",
   "execution_count": 6,
   "id": "66450009",
   "metadata": {},
   "outputs": [
    {
     "data": {
      "application/vnd.microsoft.datawrangler.viewer.v0+json": {
       "columns": [
        {
         "name": "index",
         "rawType": "int64",
         "type": "integer"
        },
        {
         "name": "RiskFactors",
         "rawType": "object",
         "type": "unknown"
        }
       ],
       "ref": "d93a71a3-aa1f-4e86-8b02-c16ca01e5413",
       "rows": [
        [
         "0",
         null
        ],
        [
         "1",
         null
        ],
        [
         "2",
         null
        ],
        [
         "3",
         "immuno"
        ],
        [
         "4",
         null
        ],
        [
         "5",
         null
        ],
        [
         "6",
         null
        ],
        [
         "7",
         "Renal Disease, athero"
        ],
        [
         "8",
         null
        ],
        [
         "9",
         null
        ],
        [
         "10",
         "chronic, diabetes, athero"
        ],
        [
         "11",
         "immuno"
        ],
        [
         "12",
         null
        ],
        [
         "13",
         "diabetes"
        ],
        [
         "14",
         null
        ],
        [
         "15",
         "asthma, congestive, diabetes"
        ],
        [
         "16",
         "diabetes, Renal Disease"
        ],
        [
         "17",
         null
        ],
        [
         "18",
         null
        ],
        [
         "19",
         null
        ],
        [
         "20",
         "chronic"
        ],
        [
         "21",
         null
        ],
        [
         "22",
         "chronic"
        ],
        [
         "23",
         null
        ],
        [
         "24",
         null
        ],
        [
         "25",
         null
        ],
        [
         "26",
         null
        ],
        [
         "27",
         null
        ],
        [
         "28",
         "asthma"
        ],
        [
         "29",
         null
        ],
        [
         "30",
         "asthma"
        ],
        [
         "31",
         "asthma"
        ],
        [
         "32",
         null
        ],
        [
         "33",
         "asthma, diabetes"
        ],
        [
         "34",
         null
        ],
        [
         "35",
         null
        ],
        [
         "36",
         "athero"
        ],
        [
         "37",
         null
        ],
        [
         "38",
         null
        ],
        [
         "39",
         null
        ],
        [
         "40",
         "asthma"
        ],
        [
         "41",
         "asthma, chronic, diabetes"
        ],
        [
         "42",
         "chronic"
        ],
        [
         "43",
         "asthma"
        ],
        [
         "44",
         "asthma, diabetes"
        ],
        [
         "45",
         null
        ],
        [
         "46",
         "chronic"
        ],
        [
         "47",
         null
        ],
        [
         "48",
         null
        ],
        [
         "49",
         null
        ]
       ],
       "shape": {
        "columns": 1,
        "rows": 1482
       }
      },
      "text/plain": [
       "0          NaN\n",
       "1          NaN\n",
       "2          NaN\n",
       "3       immuno\n",
       "4          NaN\n",
       "         ...  \n",
       "1477       NaN\n",
       "1478       NaN\n",
       "1479       NaN\n",
       "1480       NaN\n",
       "1481       NaN\n",
       "Name: RiskFactors, Length: 1482, dtype: object"
      ]
     },
     "execution_count": 6,
     "metadata": {},
     "output_type": "execute_result"
    }
   ],
   "source": [
    "covid_flu[\"RiskFactors\"]"
   ]
  },
  {
   "cell_type": "code",
   "execution_count": 7,
   "id": "ef38c280",
   "metadata": {},
   "outputs": [
    {
     "data": {
      "text/plain": [
       "array([[1, 0, 0, ..., 0, 0, 0],\n",
       "       [1, 0, 0, ..., 0, 0, 0],\n",
       "       [1, 0, 0, ..., 0, 0, 0],\n",
       "       ...,\n",
       "       [1, 0, 0, ..., 0, 0, 0],\n",
       "       [1, 0, 0, ..., 0, 0, 0],\n",
       "       [1, 0, 0, ..., 0, 0, 0]], shape=(1482, 42))"
      ]
     },
     "execution_count": 7,
     "metadata": {},
     "output_type": "execute_result"
    }
   ],
   "source": [
    "risk_factor = covid_flu[\"RiskFactors\"].fillna(\"\").str.replace(\" \", \"\").str.split(\",\")\n",
    "mulbin = MultiLabelBinarizer()\n",
    "mul_risk_factor = mulbin.fit_transform(risk_factor)\n",
    "mul_risk_factor"
   ]
  },
  {
   "cell_type": "code",
   "execution_count": 8,
   "id": "cafa7a33",
   "metadata": {},
   "outputs": [],
   "source": [
    "def process_risk_factor(df: pd.DataFrame) -> pd.DataFrame:\n",
    "    risk_mlt = MultiLabelBinarizer()\n",
    "    risk_factor = df[\"RiskFactors\"]\n",
    "    risk_factor = risk_factor.fillna(\"\").str.replace(\" \", \"\").str.split(\",\")\n",
    "    risk_factor = risk_mlt.fit_transform(risk_factor)\n",
    "    return pd.DataFrame(risk_factor, columns=risk_mlt.classes_)"
   ]
  },
  {
   "cell_type": "code",
   "execution_count": 9,
   "id": "7f2f66e2",
   "metadata": {},
   "outputs": [],
   "source": [
    "risk_pipeline = Pipeline([\n",
    "    (\"preprocess_risk\", FunctionTransformer(process_risk_factor, validate=False))\n",
    "])"
   ]
  },
  {
   "cell_type": "code",
   "execution_count": 10,
   "id": "6be20eaa",
   "metadata": {},
   "outputs": [],
   "source": [
    "binary_col = [  # aggregate all binary columns in a list\n",
    "    'Sex', 'GroundGlassOpacity', 'CTscanResults', 'Diarrhea', 'Fever',\n",
    "    'Coughing', 'SoreThroat', 'NauseaVomitting', 'Fatigue', 'InitialPCRDiagnosis'\n",
    "]\n",
    "\n",
    "numerical_col = [\"Age\", \"neutrophil\", \"serumLevelsOfWhiteBloodCell\", \"lymphocytes\", \"DurationOfIllness\", \"Temperature\"]"
   ]
  },
  {
   "cell_type": "code",
   "execution_count": 11,
   "id": "ce99c8fa",
   "metadata": {},
   "outputs": [],
   "source": [
    "def sex_to_num(df):\n",
    "    df = df.copy()\n",
    "    df['Sex'] = df['Sex'].replace({'F': 0, 'M': 1})\n",
    "    return df\n",
    "\n",
    "def yesno2truefalse(df):\n",
    "    df_copy = df.copy()\n",
    "    df_copy = df_copy.replace({\"Yes\": True, \"No\": False})\n",
    "    return df_copy"
   ]
  },
  {
   "cell_type": "code",
   "execution_count": 12,
   "id": "3b7502d4",
   "metadata": {},
   "outputs": [],
   "source": [
    "binary_pipeline = Pipeline([\n",
    "    (\"sex2num\", FunctionTransformer(sex_to_num)),\n",
    "    (\"yes2true\", FunctionTransformer(yesno2truefalse)),\n",
    "    (\"select_binary\", FunctionTransformer(lambda df: df[binary_col])),\n",
    "    (\"fillna\", SimpleImputer(strategy=\"constant\", fill_value=False))\n",
    "])\n",
    "\n",
    "numerical_pipeline = Pipeline([\n",
    "    (\"select_numerical\", FunctionTransformer(lambda df: df[numerical_col])),\n",
    "    (\"box-cox\", PowerTransformer(method=\"yeo-johnson\", standardize=True)),\n",
    "    (\"endtail\", EndTailImputer()),\n",
    "    (\"binning\", KBinsDiscretizer(n_bins=5, encode=\"ordinal\", strategy=\"uniform\"))\n",
    "])"
   ]
  },
  {
   "cell_type": "code",
   "execution_count": 13,
   "id": "e569aedb",
   "metadata": {},
   "outputs": [],
   "source": [
    "feature_uni = FeatureUnion([\n",
    "    (\"risk_factor\", risk_pipeline),\n",
    "    (\"binary_pipe\", binary_pipeline),\n",
    "    (\"numerical_pipe\", numerical_pipeline)\n",
    "])\n",
    "\n",
    "pipe = Pipeline([\n",
    "    (\"preprocess\", feature_uni),\n",
    "    (\"classifier\", RandomForestClassifier())\n",
    "])"
   ]
  },
  {
   "cell_type": "code",
   "execution_count": 14,
   "id": "6e59c3e2",
   "metadata": {},
   "outputs": [
    {
     "name": "stderr",
     "output_type": "stream",
     "text": [
      "/var/folders/kd/gn_dg9w13px_cwn32p5bs4fc0000gn/T/ipykernel_5893/3913062992.py:3: FutureWarning: Downcasting behavior in `replace` is deprecated and will be removed in a future version. To retain the old behavior, explicitly call `result.infer_objects(copy=False)`. To opt-in to the future behavior, set `pd.set_option('future.no_silent_downcasting', True)`\n",
      "  df['Sex'] = df['Sex'].replace({'F': 0, 'M': 1})\n"
     ]
    },
    {
     "ename": "ValueError",
     "evalue": "\nAll the 60 fits failed.\nIt is very likely that your model is misconfigured.\nYou can try to debug the error by setting error_score='raise'.\n\nBelow are more details about the failures:\n--------------------------------------------------------------------------------\n60 fits failed with the following error:\nTraceback (most recent call last):\n  File \"/Library/Frameworks/Python.framework/Versions/3.12/lib/python3.12/site-packages/sklearn/model_selection/_validation.py\", line 859, in _fit_and_score\n    estimator.fit(X_train, y_train, **fit_params)\n  File \"/Library/Frameworks/Python.framework/Versions/3.12/lib/python3.12/site-packages/sklearn/base.py\", line 1363, in wrapper\n    return fit_method(estimator, *args, **kwargs)\n           ^^^^^^^^^^^^^^^^^^^^^^^^^^^^^^^^^^^^^^\n  File \"/Library/Frameworks/Python.framework/Versions/3.12/lib/python3.12/site-packages/sklearn/pipeline.py\", line 653, in fit\n    Xt = self._fit(X, y, routed_params, raw_params=params)\n         ^^^^^^^^^^^^^^^^^^^^^^^^^^^^^^^^^^^^^^^^^^^^^^^^^\n  File \"/Library/Frameworks/Python.framework/Versions/3.12/lib/python3.12/site-packages/sklearn/pipeline.py\", line 587, in _fit\n    X, fitted_transformer = fit_transform_one_cached(\n                            ^^^^^^^^^^^^^^^^^^^^^^^^^\n  File \"/Library/Frameworks/Python.framework/Versions/3.12/lib/python3.12/site-packages/joblib/memory.py\", line 326, in __call__\n    return self.func(*args, **kwargs)\n           ^^^^^^^^^^^^^^^^^^^^^^^^^^\n  File \"/Library/Frameworks/Python.framework/Versions/3.12/lib/python3.12/site-packages/sklearn/pipeline.py\", line 1539, in _fit_transform_one\n    res = transformer.fit_transform(X, y, **params.get(\"fit_transform\", {}))\n          ^^^^^^^^^^^^^^^^^^^^^^^^^^^^^^^^^^^^^^^^^^^^^^^^^^^^^^^^^^^^^^^^^^\n  File \"/Library/Frameworks/Python.framework/Versions/3.12/lib/python3.12/site-packages/sklearn/utils/_set_output.py\", line 316, in wrapped\n    data_to_wrap = f(self, X, *args, **kwargs)\n                   ^^^^^^^^^^^^^^^^^^^^^^^^^^^\n  File \"/Library/Frameworks/Python.framework/Versions/3.12/lib/python3.12/site-packages/sklearn/pipeline.py\", line 1962, in fit_transform\n    results = self._parallel_func(X, y, _fit_transform_one, routed_params)\n              ^^^^^^^^^^^^^^^^^^^^^^^^^^^^^^^^^^^^^^^^^^^^^^^^^^^^^^^^^^^^\n  File \"/Library/Frameworks/Python.framework/Versions/3.12/lib/python3.12/site-packages/sklearn/pipeline.py\", line 1984, in _parallel_func\n    return Parallel(n_jobs=self.n_jobs)(\n           ^^^^^^^^^^^^^^^^^^^^^^^^^^^^^\n  File \"/Library/Frameworks/Python.framework/Versions/3.12/lib/python3.12/site-packages/sklearn/utils/parallel.py\", line 82, in __call__\n    return super().__call__(iterable_with_config_and_warning_filters)\n           ^^^^^^^^^^^^^^^^^^^^^^^^^^^^^^^^^^^^^^^^^^^^^^^^^^^^^^^^^^\n  File \"/Library/Frameworks/Python.framework/Versions/3.12/lib/python3.12/site-packages/joblib/parallel.py\", line 1986, in __call__\n    return output if self.return_generator else list(output)\n                                                ^^^^^^^^^^^^\n  File \"/Library/Frameworks/Python.framework/Versions/3.12/lib/python3.12/site-packages/joblib/parallel.py\", line 1914, in _get_sequential_output\n    res = func(*args, **kwargs)\n          ^^^^^^^^^^^^^^^^^^^^^\n  File \"/Library/Frameworks/Python.framework/Versions/3.12/lib/python3.12/site-packages/sklearn/utils/parallel.py\", line 147, in __call__\n    return self.function(*args, **kwargs)\n           ^^^^^^^^^^^^^^^^^^^^^^^^^^^^^^\n  File \"/Library/Frameworks/Python.framework/Versions/3.12/lib/python3.12/site-packages/sklearn/pipeline.py\", line 1539, in _fit_transform_one\n    res = transformer.fit_transform(X, y, **params.get(\"fit_transform\", {}))\n          ^^^^^^^^^^^^^^^^^^^^^^^^^^^^^^^^^^^^^^^^^^^^^^^^^^^^^^^^^^^^^^^^^^\n  File \"/Library/Frameworks/Python.framework/Versions/3.12/lib/python3.12/site-packages/sklearn/base.py\", line 1363, in wrapper\n    return fit_method(estimator, *args, **kwargs)\n           ^^^^^^^^^^^^^^^^^^^^^^^^^^^^^^^^^^^^^^\n  File \"/Library/Frameworks/Python.framework/Versions/3.12/lib/python3.12/site-packages/sklearn/pipeline.py\", line 729, in fit_transform\n    return last_step.fit_transform(\n           ^^^^^^^^^^^^^^^^^^^^^^^^\n  File \"/Library/Frameworks/Python.framework/Versions/3.12/lib/python3.12/site-packages/sklearn/utils/_set_output.py\", line 316, in wrapped\n    data_to_wrap = f(self, X, *args, **kwargs)\n                   ^^^^^^^^^^^^^^^^^^^^^^^^^^^\n  File \"/Library/Frameworks/Python.framework/Versions/3.12/lib/python3.12/site-packages/sklearn/base.py\", line 895, in fit_transform\n    return self.fit(X, y, **fit_params).transform(X)\n           ^^^^^^^^^^^^^^^^^^^^^^^^^^^^^^^^^^^^^^^^^\n  File \"/Library/Frameworks/Python.framework/Versions/3.12/lib/python3.12/site-packages/sklearn/utils/_set_output.py\", line 316, in wrapped\n    data_to_wrap = f(self, X, *args, **kwargs)\n                   ^^^^^^^^^^^^^^^^^^^^^^^^^^^\n  File \"/Library/Frameworks/Python.framework/Versions/3.12/lib/python3.12/site-packages/sklearn/preprocessing/_function_transformer.py\", line 260, in transform\n    out = self._transform(X, func=self.func, kw_args=self.kw_args)\n          ^^^^^^^^^^^^^^^^^^^^^^^^^^^^^^^^^^^^^^^^^^^^^^^^^^^^^^^^\n  File \"/Library/Frameworks/Python.framework/Versions/3.12/lib/python3.12/site-packages/sklearn/preprocessing/_function_transformer.py\", line 387, in _transform\n    return func(X, **(kw_args if kw_args else {}))\n           ^^^^^^^^^^^^^^^^^^^^^^^^^^^^^^^^^^^^^^^\n  File \"/var/folders/kd/gn_dg9w13px_cwn32p5bs4fc0000gn/T/ipykernel_5893/77022346.py\", line 3, in process_risk_factor\n    risk_factor = df[\"RiskFactors\"]\n                  ~~^^^^^^^^^^^^^^^\nIndexError: only integers, slices (`:`), ellipsis (`...`), numpy.newaxis (`None`) and integer or boolean arrays are valid indices\n",
     "output_type": "error",
     "traceback": [
      "\u001b[31m---------------------------------------------------------------------------\u001b[39m",
      "\u001b[31mValueError\u001b[39m                                Traceback (most recent call last)",
      "\u001b[36mCell\u001b[39m\u001b[36m \u001b[39m\u001b[32mIn[14]\u001b[39m\u001b[32m, line 12\u001b[39m\n\u001b[32m      8\u001b[39m new_df = feature_uni.fit_transform(covid_flu.drop(\u001b[33m\"\u001b[39m\u001b[33mDiagnosis\u001b[39m\u001b[33m\"\u001b[39m, axis=\u001b[32m1\u001b[39m))\n\u001b[32m     10\u001b[39m grid = GridSearchCV(pipe, param_grid=param, cv=\u001b[32m5\u001b[39m)\n\u001b[32m---> \u001b[39m\u001b[32m12\u001b[39m \u001b[43mgrid\u001b[49m\u001b[43m.\u001b[49m\u001b[43mfit\u001b[49m\u001b[43m(\u001b[49m\u001b[43mnew_df\u001b[49m\u001b[43m,\u001b[49m\u001b[43m \u001b[49m\u001b[43mcovid_flu\u001b[49m\u001b[43m[\u001b[49m\u001b[33;43m\"\u001b[39;49m\u001b[33;43mDiagnosis\u001b[39;49m\u001b[33;43m\"\u001b[39;49m\u001b[43m]\u001b[49m\u001b[43m)\u001b[49m\n\u001b[32m     13\u001b[39m \u001b[38;5;66;03m# grid.fit(covid_flu.drop(\"Diagnosis\", axis=1), covid_flu[\"Diagnosis\"])\u001b[39;00m\n\u001b[32m     14\u001b[39m \u001b[38;5;66;03m# cross_val_score(grid, covid_flu.drop(\"Diagnosis\", axis=1), covid_flu[\"Diagnosis\"], cv=5)\u001b[39;00m\n",
      "\u001b[36mFile \u001b[39m\u001b[32m/Library/Frameworks/Python.framework/Versions/3.12/lib/python3.12/site-packages/sklearn/base.py:1363\u001b[39m, in \u001b[36m_fit_context.<locals>.decorator.<locals>.wrapper\u001b[39m\u001b[34m(estimator, *args, **kwargs)\u001b[39m\n\u001b[32m   1356\u001b[39m     estimator._validate_params()\n\u001b[32m   1358\u001b[39m \u001b[38;5;28;01mwith\u001b[39;00m config_context(\n\u001b[32m   1359\u001b[39m     skip_parameter_validation=(\n\u001b[32m   1360\u001b[39m         prefer_skip_nested_validation \u001b[38;5;129;01mor\u001b[39;00m global_skip_validation\n\u001b[32m   1361\u001b[39m     )\n\u001b[32m   1362\u001b[39m ):\n\u001b[32m-> \u001b[39m\u001b[32m1363\u001b[39m     \u001b[38;5;28;01mreturn\u001b[39;00m \u001b[43mfit_method\u001b[49m\u001b[43m(\u001b[49m\u001b[43mestimator\u001b[49m\u001b[43m,\u001b[49m\u001b[43m \u001b[49m\u001b[43m*\u001b[49m\u001b[43margs\u001b[49m\u001b[43m,\u001b[49m\u001b[43m \u001b[49m\u001b[43m*\u001b[49m\u001b[43m*\u001b[49m\u001b[43mkwargs\u001b[49m\u001b[43m)\u001b[49m\n",
      "\u001b[36mFile \u001b[39m\u001b[32m/Library/Frameworks/Python.framework/Versions/3.12/lib/python3.12/site-packages/sklearn/model_selection/_search.py:1051\u001b[39m, in \u001b[36mBaseSearchCV.fit\u001b[39m\u001b[34m(self, X, y, **params)\u001b[39m\n\u001b[32m   1045\u001b[39m     results = \u001b[38;5;28mself\u001b[39m._format_results(\n\u001b[32m   1046\u001b[39m         all_candidate_params, n_splits, all_out, all_more_results\n\u001b[32m   1047\u001b[39m     )\n\u001b[32m   1049\u001b[39m     \u001b[38;5;28;01mreturn\u001b[39;00m results\n\u001b[32m-> \u001b[39m\u001b[32m1051\u001b[39m \u001b[38;5;28;43mself\u001b[39;49m\u001b[43m.\u001b[49m\u001b[43m_run_search\u001b[49m\u001b[43m(\u001b[49m\u001b[43mevaluate_candidates\u001b[49m\u001b[43m)\u001b[49m\n\u001b[32m   1053\u001b[39m \u001b[38;5;66;03m# multimetric is determined here because in the case of a callable\u001b[39;00m\n\u001b[32m   1054\u001b[39m \u001b[38;5;66;03m# self.scoring the return type is only known after calling\u001b[39;00m\n\u001b[32m   1055\u001b[39m first_test_score = all_out[\u001b[32m0\u001b[39m][\u001b[33m\"\u001b[39m\u001b[33mtest_scores\u001b[39m\u001b[33m\"\u001b[39m]\n",
      "\u001b[36mFile \u001b[39m\u001b[32m/Library/Frameworks/Python.framework/Versions/3.12/lib/python3.12/site-packages/sklearn/model_selection/_search.py:1605\u001b[39m, in \u001b[36mGridSearchCV._run_search\u001b[39m\u001b[34m(self, evaluate_candidates)\u001b[39m\n\u001b[32m   1603\u001b[39m \u001b[38;5;28;01mdef\u001b[39;00m\u001b[38;5;250m \u001b[39m\u001b[34m_run_search\u001b[39m(\u001b[38;5;28mself\u001b[39m, evaluate_candidates):\n\u001b[32m   1604\u001b[39m \u001b[38;5;250m    \u001b[39m\u001b[33;03m\"\"\"Search all candidates in param_grid\"\"\"\u001b[39;00m\n\u001b[32m-> \u001b[39m\u001b[32m1605\u001b[39m     \u001b[43mevaluate_candidates\u001b[49m\u001b[43m(\u001b[49m\u001b[43mParameterGrid\u001b[49m\u001b[43m(\u001b[49m\u001b[38;5;28;43mself\u001b[39;49m\u001b[43m.\u001b[49m\u001b[43mparam_grid\u001b[49m\u001b[43m)\u001b[49m\u001b[43m)\u001b[49m\n",
      "\u001b[36mFile \u001b[39m\u001b[32m/Library/Frameworks/Python.framework/Versions/3.12/lib/python3.12/site-packages/sklearn/model_selection/_search.py:1028\u001b[39m, in \u001b[36mBaseSearchCV.fit.<locals>.evaluate_candidates\u001b[39m\u001b[34m(candidate_params, cv, more_results)\u001b[39m\n\u001b[32m   1021\u001b[39m \u001b[38;5;28;01melif\u001b[39;00m \u001b[38;5;28mlen\u001b[39m(out) != n_candidates * n_splits:\n\u001b[32m   1022\u001b[39m     \u001b[38;5;28;01mraise\u001b[39;00m \u001b[38;5;167;01mValueError\u001b[39;00m(\n\u001b[32m   1023\u001b[39m         \u001b[33m\"\u001b[39m\u001b[33mcv.split and cv.get_n_splits returned \u001b[39m\u001b[33m\"\u001b[39m\n\u001b[32m   1024\u001b[39m         \u001b[33m\"\u001b[39m\u001b[33minconsistent results. Expected \u001b[39m\u001b[38;5;132;01m{}\u001b[39;00m\u001b[33m \u001b[39m\u001b[33m\"\u001b[39m\n\u001b[32m   1025\u001b[39m         \u001b[33m\"\u001b[39m\u001b[33msplits, got \u001b[39m\u001b[38;5;132;01m{}\u001b[39;00m\u001b[33m\"\u001b[39m.format(n_splits, \u001b[38;5;28mlen\u001b[39m(out) // n_candidates)\n\u001b[32m   1026\u001b[39m     )\n\u001b[32m-> \u001b[39m\u001b[32m1028\u001b[39m \u001b[43m_warn_or_raise_about_fit_failures\u001b[49m\u001b[43m(\u001b[49m\u001b[43mout\u001b[49m\u001b[43m,\u001b[49m\u001b[43m \u001b[49m\u001b[38;5;28;43mself\u001b[39;49m\u001b[43m.\u001b[49m\u001b[43merror_score\u001b[49m\u001b[43m)\u001b[49m\n\u001b[32m   1030\u001b[39m \u001b[38;5;66;03m# For callable self.scoring, the return type is only know after\u001b[39;00m\n\u001b[32m   1031\u001b[39m \u001b[38;5;66;03m# calling. If the return type is a dictionary, the error scores\u001b[39;00m\n\u001b[32m   1032\u001b[39m \u001b[38;5;66;03m# can now be inserted with the correct key. The type checking\u001b[39;00m\n\u001b[32m   1033\u001b[39m \u001b[38;5;66;03m# of out will be done in `_insert_error_scores`.\u001b[39;00m\n\u001b[32m   1034\u001b[39m \u001b[38;5;28;01mif\u001b[39;00m \u001b[38;5;28mcallable\u001b[39m(\u001b[38;5;28mself\u001b[39m.scoring):\n",
      "\u001b[36mFile \u001b[39m\u001b[32m/Library/Frameworks/Python.framework/Versions/3.12/lib/python3.12/site-packages/sklearn/model_selection/_validation.py:505\u001b[39m, in \u001b[36m_warn_or_raise_about_fit_failures\u001b[39m\u001b[34m(results, error_score)\u001b[39m\n\u001b[32m    498\u001b[39m \u001b[38;5;28;01mif\u001b[39;00m num_failed_fits == num_fits:\n\u001b[32m    499\u001b[39m     all_fits_failed_message = (\n\u001b[32m    500\u001b[39m         \u001b[33mf\u001b[39m\u001b[33m\"\u001b[39m\u001b[38;5;130;01m\\n\u001b[39;00m\u001b[33mAll the \u001b[39m\u001b[38;5;132;01m{\u001b[39;00mnum_fits\u001b[38;5;132;01m}\u001b[39;00m\u001b[33m fits failed.\u001b[39m\u001b[38;5;130;01m\\n\u001b[39;00m\u001b[33m\"\u001b[39m\n\u001b[32m    501\u001b[39m         \u001b[33m\"\u001b[39m\u001b[33mIt is very likely that your model is misconfigured.\u001b[39m\u001b[38;5;130;01m\\n\u001b[39;00m\u001b[33m\"\u001b[39m\n\u001b[32m    502\u001b[39m         \u001b[33m\"\u001b[39m\u001b[33mYou can try to debug the error by setting error_score=\u001b[39m\u001b[33m'\u001b[39m\u001b[33mraise\u001b[39m\u001b[33m'\u001b[39m\u001b[33m.\u001b[39m\u001b[38;5;130;01m\\n\u001b[39;00m\u001b[38;5;130;01m\\n\u001b[39;00m\u001b[33m\"\u001b[39m\n\u001b[32m    503\u001b[39m         \u001b[33mf\u001b[39m\u001b[33m\"\u001b[39m\u001b[33mBelow are more details about the failures:\u001b[39m\u001b[38;5;130;01m\\n\u001b[39;00m\u001b[38;5;132;01m{\u001b[39;00mfit_errors_summary\u001b[38;5;132;01m}\u001b[39;00m\u001b[33m\"\u001b[39m\n\u001b[32m    504\u001b[39m     )\n\u001b[32m--> \u001b[39m\u001b[32m505\u001b[39m     \u001b[38;5;28;01mraise\u001b[39;00m \u001b[38;5;167;01mValueError\u001b[39;00m(all_fits_failed_message)\n\u001b[32m    507\u001b[39m \u001b[38;5;28;01melse\u001b[39;00m:\n\u001b[32m    508\u001b[39m     some_fits_failed_message = (\n\u001b[32m    509\u001b[39m         \u001b[33mf\u001b[39m\u001b[33m\"\u001b[39m\u001b[38;5;130;01m\\n\u001b[39;00m\u001b[38;5;132;01m{\u001b[39;00mnum_failed_fits\u001b[38;5;132;01m}\u001b[39;00m\u001b[33m fits failed out of a total of \u001b[39m\u001b[38;5;132;01m{\u001b[39;00mnum_fits\u001b[38;5;132;01m}\u001b[39;00m\u001b[33m.\u001b[39m\u001b[38;5;130;01m\\n\u001b[39;00m\u001b[33m\"\u001b[39m\n\u001b[32m    510\u001b[39m         \u001b[33m\"\u001b[39m\u001b[33mThe score on these train-test partitions for these parameters\u001b[39m\u001b[33m\"\u001b[39m\n\u001b[32m   (...)\u001b[39m\u001b[32m    514\u001b[39m         \u001b[33mf\u001b[39m\u001b[33m\"\u001b[39m\u001b[33mBelow are more details about the failures:\u001b[39m\u001b[38;5;130;01m\\n\u001b[39;00m\u001b[38;5;132;01m{\u001b[39;00mfit_errors_summary\u001b[38;5;132;01m}\u001b[39;00m\u001b[33m\"\u001b[39m\n\u001b[32m    515\u001b[39m     )\n",
      "\u001b[31mValueError\u001b[39m: \nAll the 60 fits failed.\nIt is very likely that your model is misconfigured.\nYou can try to debug the error by setting error_score='raise'.\n\nBelow are more details about the failures:\n--------------------------------------------------------------------------------\n60 fits failed with the following error:\nTraceback (most recent call last):\n  File \"/Library/Frameworks/Python.framework/Versions/3.12/lib/python3.12/site-packages/sklearn/model_selection/_validation.py\", line 859, in _fit_and_score\n    estimator.fit(X_train, y_train, **fit_params)\n  File \"/Library/Frameworks/Python.framework/Versions/3.12/lib/python3.12/site-packages/sklearn/base.py\", line 1363, in wrapper\n    return fit_method(estimator, *args, **kwargs)\n           ^^^^^^^^^^^^^^^^^^^^^^^^^^^^^^^^^^^^^^\n  File \"/Library/Frameworks/Python.framework/Versions/3.12/lib/python3.12/site-packages/sklearn/pipeline.py\", line 653, in fit\n    Xt = self._fit(X, y, routed_params, raw_params=params)\n         ^^^^^^^^^^^^^^^^^^^^^^^^^^^^^^^^^^^^^^^^^^^^^^^^^\n  File \"/Library/Frameworks/Python.framework/Versions/3.12/lib/python3.12/site-packages/sklearn/pipeline.py\", line 587, in _fit\n    X, fitted_transformer = fit_transform_one_cached(\n                            ^^^^^^^^^^^^^^^^^^^^^^^^^\n  File \"/Library/Frameworks/Python.framework/Versions/3.12/lib/python3.12/site-packages/joblib/memory.py\", line 326, in __call__\n    return self.func(*args, **kwargs)\n           ^^^^^^^^^^^^^^^^^^^^^^^^^^\n  File \"/Library/Frameworks/Python.framework/Versions/3.12/lib/python3.12/site-packages/sklearn/pipeline.py\", line 1539, in _fit_transform_one\n    res = transformer.fit_transform(X, y, **params.get(\"fit_transform\", {}))\n          ^^^^^^^^^^^^^^^^^^^^^^^^^^^^^^^^^^^^^^^^^^^^^^^^^^^^^^^^^^^^^^^^^^\n  File \"/Library/Frameworks/Python.framework/Versions/3.12/lib/python3.12/site-packages/sklearn/utils/_set_output.py\", line 316, in wrapped\n    data_to_wrap = f(self, X, *args, **kwargs)\n                   ^^^^^^^^^^^^^^^^^^^^^^^^^^^\n  File \"/Library/Frameworks/Python.framework/Versions/3.12/lib/python3.12/site-packages/sklearn/pipeline.py\", line 1962, in fit_transform\n    results = self._parallel_func(X, y, _fit_transform_one, routed_params)\n              ^^^^^^^^^^^^^^^^^^^^^^^^^^^^^^^^^^^^^^^^^^^^^^^^^^^^^^^^^^^^\n  File \"/Library/Frameworks/Python.framework/Versions/3.12/lib/python3.12/site-packages/sklearn/pipeline.py\", line 1984, in _parallel_func\n    return Parallel(n_jobs=self.n_jobs)(\n           ^^^^^^^^^^^^^^^^^^^^^^^^^^^^^\n  File \"/Library/Frameworks/Python.framework/Versions/3.12/lib/python3.12/site-packages/sklearn/utils/parallel.py\", line 82, in __call__\n    return super().__call__(iterable_with_config_and_warning_filters)\n           ^^^^^^^^^^^^^^^^^^^^^^^^^^^^^^^^^^^^^^^^^^^^^^^^^^^^^^^^^^\n  File \"/Library/Frameworks/Python.framework/Versions/3.12/lib/python3.12/site-packages/joblib/parallel.py\", line 1986, in __call__\n    return output if self.return_generator else list(output)\n                                                ^^^^^^^^^^^^\n  File \"/Library/Frameworks/Python.framework/Versions/3.12/lib/python3.12/site-packages/joblib/parallel.py\", line 1914, in _get_sequential_output\n    res = func(*args, **kwargs)\n          ^^^^^^^^^^^^^^^^^^^^^\n  File \"/Library/Frameworks/Python.framework/Versions/3.12/lib/python3.12/site-packages/sklearn/utils/parallel.py\", line 147, in __call__\n    return self.function(*args, **kwargs)\n           ^^^^^^^^^^^^^^^^^^^^^^^^^^^^^^\n  File \"/Library/Frameworks/Python.framework/Versions/3.12/lib/python3.12/site-packages/sklearn/pipeline.py\", line 1539, in _fit_transform_one\n    res = transformer.fit_transform(X, y, **params.get(\"fit_transform\", {}))\n          ^^^^^^^^^^^^^^^^^^^^^^^^^^^^^^^^^^^^^^^^^^^^^^^^^^^^^^^^^^^^^^^^^^\n  File \"/Library/Frameworks/Python.framework/Versions/3.12/lib/python3.12/site-packages/sklearn/base.py\", line 1363, in wrapper\n    return fit_method(estimator, *args, **kwargs)\n           ^^^^^^^^^^^^^^^^^^^^^^^^^^^^^^^^^^^^^^\n  File \"/Library/Frameworks/Python.framework/Versions/3.12/lib/python3.12/site-packages/sklearn/pipeline.py\", line 729, in fit_transform\n    return last_step.fit_transform(\n           ^^^^^^^^^^^^^^^^^^^^^^^^\n  File \"/Library/Frameworks/Python.framework/Versions/3.12/lib/python3.12/site-packages/sklearn/utils/_set_output.py\", line 316, in wrapped\n    data_to_wrap = f(self, X, *args, **kwargs)\n                   ^^^^^^^^^^^^^^^^^^^^^^^^^^^\n  File \"/Library/Frameworks/Python.framework/Versions/3.12/lib/python3.12/site-packages/sklearn/base.py\", line 895, in fit_transform\n    return self.fit(X, y, **fit_params).transform(X)\n           ^^^^^^^^^^^^^^^^^^^^^^^^^^^^^^^^^^^^^^^^^\n  File \"/Library/Frameworks/Python.framework/Versions/3.12/lib/python3.12/site-packages/sklearn/utils/_set_output.py\", line 316, in wrapped\n    data_to_wrap = f(self, X, *args, **kwargs)\n                   ^^^^^^^^^^^^^^^^^^^^^^^^^^^\n  File \"/Library/Frameworks/Python.framework/Versions/3.12/lib/python3.12/site-packages/sklearn/preprocessing/_function_transformer.py\", line 260, in transform\n    out = self._transform(X, func=self.func, kw_args=self.kw_args)\n          ^^^^^^^^^^^^^^^^^^^^^^^^^^^^^^^^^^^^^^^^^^^^^^^^^^^^^^^^\n  File \"/Library/Frameworks/Python.framework/Versions/3.12/lib/python3.12/site-packages/sklearn/preprocessing/_function_transformer.py\", line 387, in _transform\n    return func(X, **(kw_args if kw_args else {}))\n           ^^^^^^^^^^^^^^^^^^^^^^^^^^^^^^^^^^^^^^^\n  File \"/var/folders/kd/gn_dg9w13px_cwn32p5bs4fc0000gn/T/ipykernel_5893/77022346.py\", line 3, in process_risk_factor\n    risk_factor = df[\"RiskFactors\"]\n                  ~~^^^^^^^^^^^^^^^\nIndexError: only integers, slices (`:`), ellipsis (`...`), numpy.newaxis (`None`) and integer or boolean arrays are valid indices\n"
     ]
    }
   ],
   "source": [
    "param = {\n",
    "     \"classifier__n_estimators\": [100, 1000],\n",
    "     \"classifier__criterion\": [\"gini\", \"entropy\", \"log_loss\"],\n",
    "     \"classifier__max_depth\": [2, 5]\n",
    "}\n",
    "\n",
    "\n",
    "new_df = feature_uni.fit_transform(covid_flu.drop(\"Diagnosis\", axis=1))\n",
    "\n",
    "grid = GridSearchCV(pipe, param_grid=param, cv=5)\n",
    "\n",
    "grid.fit(new_df, covid_flu[\"Diagnosis\"])\n",
    "# grid.fit(covid_flu.drop(\"Diagnosis\", axis=1), covid_flu[\"Diagnosis\"])\n",
    "# cross_val_score(grid, covid_flu.drop(\"Diagnosis\", axis=1), covid_flu[\"Diagnosis\"], cv=5)\n"
   ]
  }
 ],
 "metadata": {
  "kernelspec": {
   "display_name": "Python 3",
   "language": "python",
   "name": "python3"
  },
  "language_info": {
   "codemirror_mode": {
    "name": "ipython",
    "version": 3
   },
   "file_extension": ".py",
   "mimetype": "text/x-python",
   "name": "python",
   "nbconvert_exporter": "python",
   "pygments_lexer": "ipython3",
   "version": "3.12.9"
  }
 },
 "nbformat": 4,
 "nbformat_minor": 5
}
